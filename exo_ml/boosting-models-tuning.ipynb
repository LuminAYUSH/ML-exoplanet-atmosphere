{
 "cells": [
  {
   "cell_type": "code",
   "execution_count": 1,
   "id": "adb5dc09",
   "metadata": {
    "_cell_guid": "b1076dfc-b9ad-4769-8c92-a6c4dae69d19",
    "_uuid": "8f2839f25d086af736a60e9eeb907d3b93b6e0e5",
    "execution": {
     "iopub.execute_input": "2023-04-15T19:42:37.516783Z",
     "iopub.status.busy": "2023-04-15T19:42:37.515175Z",
     "iopub.status.idle": "2023-04-15T19:42:37.545641Z",
     "shell.execute_reply": "2023-04-15T19:42:37.544594Z"
    },
    "papermill": {
     "duration": 0.044553,
     "end_time": "2023-04-15T19:42:37.548795",
     "exception": false,
     "start_time": "2023-04-15T19:42:37.504242",
     "status": "completed"
    },
    "tags": []
   },
   "outputs": [
    {
     "name": "stdout",
     "output_type": "stream",
     "text": [
      "/kaggle/input/pycaret-exo-data/train_data_temp.csv\n",
      "/kaggle/input/exop-data/yn_train.npy\n",
      "/kaggle/input/exop-data/xn_train.npy\n",
      "/kaggle/input/exo-data/testing.npy\n",
      "/kaggle/input/exo-data/error_bars.npy\n",
      "/kaggle/input/exo-data/training.npy\n",
      "/kaggle/input/exo-data/wavelength.npy\n",
      "/kaggle/input/exo-data/WASP12b.npy\n"
     ]
    }
   ],
   "source": [
    "# This Python 3 environment comes with many helpful analytics libraries installed\n",
    "# It is defined by the kaggle/python Docker image: https://github.com/kaggle/docker-python\n",
    "# For example, here's several helpful packages to load\n",
    "\n",
    "import numpy as np # linear algebra\n",
    "import pandas as pd # data processing, CSV file I/O (e.g. pd.read_csv)\n",
    "\n",
    "# Input data files are available in the read-only \"../input/\" directory\n",
    "# For example, running this (by clicking run or pressing Shift+Enter) will list all files under the input directory\n",
    "\n",
    "import os\n",
    "for dirname, _, filenames in os.walk('/kaggle/input'):\n",
    "    for filename in filenames:\n",
    "        print(os.path.join(dirname, filename))\n",
    "\n",
    "# You can write up to 20GB to the current directory (/kaggle/working/) that gets preserved as output when you create a version using \"Save & Run All\" \n",
    "# You can also write temporary files to /kaggle/temp/, but they won't be saved outside of the current session"
   ]
  },
  {
   "cell_type": "markdown",
   "id": "b5f8f0e8",
   "metadata": {
    "papermill": {
     "duration": 0.007332,
     "end_time": "2023-04-15T19:42:37.563872",
     "exception": false,
     "start_time": "2023-04-15T19:42:37.556540",
     "status": "completed"
    },
    "tags": []
   },
   "source": [
    "### Tuning Extra Tree Regressor "
   ]
  },
  {
   "cell_type": "code",
   "execution_count": 2,
   "id": "665fa780",
   "metadata": {
    "execution": {
     "iopub.execute_input": "2023-04-15T19:42:37.580464Z",
     "iopub.status.busy": "2023-04-15T19:42:37.580144Z",
     "iopub.status.idle": "2023-04-15T19:43:14.977598Z",
     "shell.execute_reply": "2023-04-15T19:43:14.976393Z"
    },
    "papermill": {
     "duration": 37.408783,
     "end_time": "2023-04-15T19:43:14.980327",
     "exception": false,
     "start_time": "2023-04-15T19:42:37.571544",
     "status": "completed"
    },
    "tags": []
   },
   "outputs": [
    {
     "name": "stdout",
     "output_type": "stream",
     "text": [
      "Collecting pycaret\r\n",
      "  Downloading pycaret-3.0.0-py3-none-any.whl (481 kB)\r\n",
      "\u001b[2K     \u001b[90m━━━━━━━━━━━━━━━━━━━━━━━━━━━━━━━━━━━━━━\u001b[0m \u001b[32m481.8/481.8 kB\u001b[0m \u001b[31m13.2 MB/s\u001b[0m eta \u001b[36m0:00:00\u001b[0m\r\n",
      "\u001b[?25hCollecting plotly-resampler>=0.8.3.1\r\n",
      "  Downloading plotly_resampler-0.8.3.2.tar.gz (46 kB)\r\n",
      "\u001b[2K     \u001b[90m━━━━━━━━━━━━━━━━━━━━━━━━━━━━━━━━━━━━━━━━\u001b[0m \u001b[32m46.4/46.4 kB\u001b[0m \u001b[31m4.7 MB/s\u001b[0m eta \u001b[36m0:00:00\u001b[0m\r\n",
      "\u001b[?25h  Installing build dependencies ... \u001b[?25l-\b \b\\\b \b|\b \b/\b \b-\b \b\\\b \b|\b \b/\b \b-\b \bdone\r\n",
      "\u001b[?25h  Getting requirements to build wheel ... \u001b[?25ldone\r\n",
      "\u001b[?25h  Preparing metadata (pyproject.toml) ... \u001b[?25ldone\r\n",
      "\u001b[?25hRequirement already satisfied: cloudpickle in /opt/conda/lib/python3.7/site-packages (from pycaret) (2.2.1)\r\n",
      "Collecting sktime>=0.16.1\r\n",
      "  Downloading sktime-0.17.1-py3-none-any.whl (16.1 MB)\r\n",
      "\u001b[2K     \u001b[90m━━━━━━━━━━━━━━━━━━━━━━━━━━━━━━━━━━━━━━━━\u001b[0m \u001b[32m16.1/16.1 MB\u001b[0m \u001b[31m69.1 MB/s\u001b[0m eta \u001b[36m0:00:00\u001b[0m\r\n",
      "\u001b[?25hRequirement already satisfied: scikit-plot>=0.3.7 in /opt/conda/lib/python3.7/site-packages (from pycaret) (0.3.7)\r\n",
      "Requirement already satisfied: psutil>=5.9.0 in /opt/conda/lib/python3.7/site-packages (from pycaret) (5.9.3)\r\n",
      "Requirement already satisfied: imbalanced-learn>=0.8.1 in /opt/conda/lib/python3.7/site-packages (from pycaret) (0.10.1)\r\n",
      "Requirement already satisfied: ipython>=5.5.0 in /opt/conda/lib/python3.7/site-packages (from pycaret) (7.34.0)\r\n",
      "Requirement already satisfied: plotly>=5.0.0 in /opt/conda/lib/python3.7/site-packages (from pycaret) (5.13.0)\r\n",
      "Requirement already satisfied: scikit-learn>=1.0 in /opt/conda/lib/python3.7/site-packages (from pycaret) (1.0.2)\r\n",
      "Collecting tbats>=1.1.0\r\n",
      "  Downloading tbats-1.1.2-py3-none-any.whl (43 kB)\r\n",
      "\u001b[2K     \u001b[90m━━━━━━━━━━━━━━━━━━━━━━━━━━━━━━━━━━━━━━━━\u001b[0m \u001b[32m43.8/43.8 kB\u001b[0m \u001b[31m4.5 MB/s\u001b[0m eta \u001b[36m0:00:00\u001b[0m\r\n",
      "\u001b[?25hRequirement already satisfied: yellowbrick>=1.4 in /opt/conda/lib/python3.7/site-packages (from pycaret) (1.5)\r\n",
      "Requirement already satisfied: scipy<2.0.0 in /opt/conda/lib/python3.7/site-packages (from pycaret) (1.7.3)\r\n",
      "Requirement already satisfied: jinja2>=1.2 in /opt/conda/lib/python3.7/site-packages (from pycaret) (3.1.2)\r\n",
      "Collecting schemdraw>=0.14\r\n",
      "  Downloading schemdraw-0.15-py3-none-any.whl (106 kB)\r\n",
      "\u001b[2K     \u001b[90m━━━━━━━━━━━━━━━━━━━━━━━━━━━━━━━━━━━━━━━\u001b[0m \u001b[32m106.8/106.8 kB\u001b[0m \u001b[31m9.9 MB/s\u001b[0m eta \u001b[36m0:00:00\u001b[0m\r\n",
      "\u001b[?25hRequirement already satisfied: xxhash in /opt/conda/lib/python3.7/site-packages (from pycaret) (3.2.0)\r\n",
      "Requirement already satisfied: markupsafe>=2.0.1 in /opt/conda/lib/python3.7/site-packages (from pycaret) (2.1.1)\r\n",
      "Requirement already satisfied: statsmodels>=0.12.1 in /opt/conda/lib/python3.7/site-packages (from pycaret) (0.13.5)\r\n",
      "Requirement already satisfied: category-encoders>=2.4.0 in /opt/conda/lib/python3.7/site-packages (from pycaret) (2.6.0)\r\n",
      "Requirement already satisfied: requests>=2.27.1 in /opt/conda/lib/python3.7/site-packages (from pycaret) (2.28.2)\r\n",
      "Requirement already satisfied: matplotlib>=3.3.0 in /opt/conda/lib/python3.7/site-packages (from pycaret) (3.5.3)\r\n",
      "Requirement already satisfied: wurlitzer in /opt/conda/lib/python3.7/site-packages (from pycaret) (3.0.3)\r\n",
      "Requirement already satisfied: lightgbm>=3.0.0 in /opt/conda/lib/python3.7/site-packages (from pycaret) (3.3.2)\r\n",
      "Requirement already satisfied: tqdm>=4.62.0 in /opt/conda/lib/python3.7/site-packages (from pycaret) (4.64.1)\r\n",
      "Collecting kaleido>=0.2.1\r\n",
      "  Downloading kaleido-0.2.1-py2.py3-none-manylinux1_x86_64.whl (79.9 MB)\r\n",
      "\u001b[2K     \u001b[90m━━━━━━━━━━━━━━━━━━━━━━━━━━━━━━━━━━━━━━━━\u001b[0m \u001b[32m79.9/79.9 MB\u001b[0m \u001b[31m15.5 MB/s\u001b[0m eta \u001b[36m0:00:00\u001b[0m\r\n",
      "\u001b[?25hRequirement already satisfied: deprecation>=2.1.0 in /opt/conda/lib/python3.7/site-packages (from pycaret) (2.1.0)\r\n",
      "Collecting pyod>=1.0.8\r\n",
      "  Downloading pyod-1.0.9.tar.gz (149 kB)\r\n",
      "\u001b[2K     \u001b[90m━━━━━━━━━━━━━━━━━━━━━━━━━━━━━━━━━━━━━━\u001b[0m \u001b[32m150.0/150.0 kB\u001b[0m \u001b[31m14.3 MB/s\u001b[0m eta \u001b[36m0:00:00\u001b[0m\r\n",
      "\u001b[?25h  Preparing metadata (setup.py) ... \u001b[?25l-\b \bdone\r\n",
      "\u001b[?25hRequirement already satisfied: numba>=0.55.0 in /opt/conda/lib/python3.7/site-packages (from pycaret) (0.56.4)\r\n",
      "Requirement already satisfied: nbformat>=4.2.0 in /opt/conda/lib/python3.7/site-packages (from pycaret) (5.7.3)\r\n",
      "Collecting importlib-metadata>=4.12.0\r\n",
      "  Using cached importlib_metadata-6.4.1-py3-none-any.whl (22 kB)\r\n",
      "Collecting pmdarima!=1.8.1,<3.0.0,>=1.8.0\r\n",
      "  Downloading pmdarima-2.0.3-cp37-cp37m-manylinux_2_17_x86_64.manylinux2014_x86_64.manylinux_2_28_x86_64.whl (1.8 MB)\r\n",
      "\u001b[2K     \u001b[90m━━━━━━━━━━━━━━━━━━━━━━━━━━━━━━━━━━━━━━━━\u001b[0m \u001b[32m1.8/1.8 MB\u001b[0m \u001b[31m61.3 MB/s\u001b[0m eta \u001b[36m0:00:00\u001b[0m\r\n",
      "\u001b[?25hCollecting pickle5\r\n",
      "  Downloading pickle5-0.0.12-cp37-cp37m-manylinux_2_5_x86_64.manylinux1_x86_64.whl (256 kB)\r\n",
      "\u001b[2K     \u001b[90m━━━━━━━━━━━━━━━━━━━━━━━━━━━━━━━━━━━━━━\u001b[0m \u001b[32m256.4/256.4 kB\u001b[0m \u001b[31m23.1 MB/s\u001b[0m eta \u001b[36m0:00:00\u001b[0m\r\n",
      "\u001b[?25hRequirement already satisfied: numpy<1.25,>=1.21 in /opt/conda/lib/python3.7/site-packages (from pycaret) (1.21.6)\r\n",
      "Requirement already satisfied: pandas<1.6.0,>=1.3.0 in /opt/conda/lib/python3.7/site-packages (from pycaret) (1.3.5)\r\n",
      "Requirement already satisfied: ipywidgets>=7.6.5 in /opt/conda/lib/python3.7/site-packages (from pycaret) (7.7.1)\r\n",
      "Requirement already satisfied: joblib>=1.2.0 in /opt/conda/lib/python3.7/site-packages (from pycaret) (1.2.0)\r\n",
      "Requirement already satisfied: patsy>=0.5.1 in /opt/conda/lib/python3.7/site-packages (from category-encoders>=2.4.0->pycaret) (0.5.3)\r\n",
      "Requirement already satisfied: packaging in /opt/conda/lib/python3.7/site-packages (from deprecation>=2.1.0->pycaret) (23.0)\r\n",
      "Requirement already satisfied: threadpoolctl>=2.0.0 in /opt/conda/lib/python3.7/site-packages (from imbalanced-learn>=0.8.1->pycaret) (3.1.0)\r\n",
      "Requirement already satisfied: zipp>=0.5 in /opt/conda/lib/python3.7/site-packages (from importlib-metadata>=4.12.0->pycaret) (3.11.0)\r\n",
      "Requirement already satisfied: typing-extensions>=3.6.4 in /opt/conda/lib/python3.7/site-packages (from importlib-metadata>=4.12.0->pycaret) (4.4.0)\r\n",
      "Requirement already satisfied: traitlets>=4.2 in /opt/conda/lib/python3.7/site-packages (from ipython>=5.5.0->pycaret) (5.8.1)\r\n",
      "Requirement already satisfied: pickleshare in /opt/conda/lib/python3.7/site-packages (from ipython>=5.5.0->pycaret) (0.7.5)\r\n",
      "Requirement already satisfied: decorator in /opt/conda/lib/python3.7/site-packages (from ipython>=5.5.0->pycaret) (5.1.1)\r\n",
      "Requirement already satisfied: jedi>=0.16 in /opt/conda/lib/python3.7/site-packages (from ipython>=5.5.0->pycaret) (0.18.2)\r\n",
      "Requirement already satisfied: matplotlib-inline in /opt/conda/lib/python3.7/site-packages (from ipython>=5.5.0->pycaret) (0.1.6)\r\n",
      "Requirement already satisfied: pygments in /opt/conda/lib/python3.7/site-packages (from ipython>=5.5.0->pycaret) (2.14.0)\r\n",
      "Requirement already satisfied: backcall in /opt/conda/lib/python3.7/site-packages (from ipython>=5.5.0->pycaret) (0.2.0)\r\n",
      "Requirement already satisfied: prompt-toolkit!=3.0.0,!=3.0.1,<3.1.0,>=2.0.0 in /opt/conda/lib/python3.7/site-packages (from ipython>=5.5.0->pycaret) (3.0.36)\r\n",
      "Requirement already satisfied: setuptools>=18.5 in /opt/conda/lib/python3.7/site-packages (from ipython>=5.5.0->pycaret) (59.8.0)\r\n",
      "Requirement already satisfied: pexpect>4.3 in /opt/conda/lib/python3.7/site-packages (from ipython>=5.5.0->pycaret) (4.8.0)\r\n",
      "Requirement already satisfied: ipykernel>=4.5.1 in /opt/conda/lib/python3.7/site-packages (from ipywidgets>=7.6.5->pycaret) (6.16.2)\r\n",
      "Requirement already satisfied: jupyterlab-widgets>=1.0.0 in /opt/conda/lib/python3.7/site-packages (from ipywidgets>=7.6.5->pycaret) (3.0.5)\r\n",
      "Requirement already satisfied: ipython-genutils~=0.2.0 in /opt/conda/lib/python3.7/site-packages (from ipywidgets>=7.6.5->pycaret) (0.2.0)\r\n",
      "Requirement already satisfied: widgetsnbextension~=3.6.0 in /opt/conda/lib/python3.7/site-packages (from ipywidgets>=7.6.5->pycaret) (3.6.4)\r\n",
      "Requirement already satisfied: wheel in /opt/conda/lib/python3.7/site-packages (from lightgbm>=3.0.0->pycaret) (0.38.4)\r\n",
      "Requirement already satisfied: pillow>=6.2.0 in /opt/conda/lib/python3.7/site-packages (from matplotlib>=3.3.0->pycaret) (9.4.0)\r\n",
      "Requirement already satisfied: fonttools>=4.22.0 in /opt/conda/lib/python3.7/site-packages (from matplotlib>=3.3.0->pycaret) (4.38.0)\r\n",
      "Requirement already satisfied: cycler>=0.10 in /opt/conda/lib/python3.7/site-packages (from matplotlib>=3.3.0->pycaret) (0.11.0)\r\n",
      "Requirement already satisfied: pyparsing>=2.2.1 in /opt/conda/lib/python3.7/site-packages (from matplotlib>=3.3.0->pycaret) (3.0.9)\r\n",
      "Requirement already satisfied: python-dateutil>=2.7 in /opt/conda/lib/python3.7/site-packages (from matplotlib>=3.3.0->pycaret) (2.8.2)\r\n",
      "Requirement already satisfied: kiwisolver>=1.0.1 in /opt/conda/lib/python3.7/site-packages (from matplotlib>=3.3.0->pycaret) (1.4.4)\r\n",
      "Requirement already satisfied: jupyter-core in /opt/conda/lib/python3.7/site-packages (from nbformat>=4.2.0->pycaret) (4.12.0)\r\n",
      "Requirement already satisfied: jsonschema>=2.6 in /opt/conda/lib/python3.7/site-packages (from nbformat>=4.2.0->pycaret) (4.17.3)\r\n",
      "Requirement already satisfied: fastjsonschema in /opt/conda/lib/python3.7/site-packages (from nbformat>=4.2.0->pycaret) (2.16.2)\r\n",
      "Requirement already satisfied: llvmlite<0.40,>=0.39.0dev0 in /opt/conda/lib/python3.7/site-packages (from numba>=0.55.0->pycaret) (0.39.1)\r\n",
      "Requirement already satisfied: pytz>=2017.3 in /opt/conda/lib/python3.7/site-packages (from pandas<1.6.0,>=1.3.0->pycaret) (2023.3)\r\n",
      "Requirement already satisfied: tenacity>=6.2.0 in /opt/conda/lib/python3.7/site-packages (from plotly>=5.0.0->pycaret) (8.1.0)\r\n",
      "Collecting dash<3.0.0,>=2.2.0\r\n",
      "  Downloading dash-2.9.3-py3-none-any.whl (10.2 MB)\r\n",
      "\u001b[2K     \u001b[90m━━━━━━━━━━━━━━━━━━━━━━━━━━━━━━━━━━━━━━━━\u001b[0m \u001b[32m10.2/10.2 MB\u001b[0m \u001b[31m86.1 MB/s\u001b[0m eta \u001b[36m0:00:00\u001b[0m\r\n",
      "\u001b[?25hCollecting jupyter-dash>=0.4.2\r\n",
      "  Downloading jupyter_dash-0.4.2-py3-none-any.whl (23 kB)\r\n",
      "Collecting trace-updater>=0.0.8\r\n",
      "  Downloading trace_updater-0.0.9.1-py3-none-any.whl (185 kB)\r\n",
      "\u001b[2K     \u001b[90m━━━━━━━━━━━━━━━━━━━━━━━━━━━━━━━━━━━━━━\u001b[0m \u001b[32m185.2/185.2 kB\u001b[0m \u001b[31m18.5 MB/s\u001b[0m eta \u001b[36m0:00:00\u001b[0m\r\n",
      "\u001b[?25hRequirement already satisfied: orjson<4.0.0,>=3.8.0 in /opt/conda/lib/python3.7/site-packages (from plotly-resampler>=0.8.3.1->pycaret) (3.8.5)\r\n",
      "Requirement already satisfied: Cython!=0.29.18,!=0.29.31,>=0.29 in /opt/conda/lib/python3.7/site-packages (from pmdarima!=1.8.1,<3.0.0,>=1.8.0->pycaret) (0.29.34)\r\n",
      "Requirement already satisfied: urllib3 in /opt/conda/lib/python3.7/site-packages (from pmdarima!=1.8.1,<3.0.0,>=1.8.0->pycaret) (1.26.14)\r\n",
      "Requirement already satisfied: six in /opt/conda/lib/python3.7/site-packages (from pyod>=1.0.8->pycaret) (1.16.0)\r\n",
      "Requirement already satisfied: certifi>=2017.4.17 in /opt/conda/lib/python3.7/site-packages (from requests>=2.27.1->pycaret) (2022.12.7)\r\n",
      "Requirement already satisfied: idna<4,>=2.5 in /opt/conda/lib/python3.7/site-packages (from requests>=2.27.1->pycaret) (3.4)\r\n",
      "Requirement already satisfied: charset-normalizer<4,>=2 in /opt/conda/lib/python3.7/site-packages (from requests>=2.27.1->pycaret) (2.1.1)\r\n",
      "Collecting deprecated>=1.2.13\r\n",
      "  Downloading Deprecated-1.2.13-py2.py3-none-any.whl (9.6 kB)\r\n",
      "Collecting dash-core-components==2.0.0\r\n",
      "  Downloading dash_core_components-2.0.0-py3-none-any.whl (3.8 kB)\r\n",
      "Requirement already satisfied: Flask>=1.0.4 in /opt/conda/lib/python3.7/site-packages (from dash<3.0.0,>=2.2.0->plotly-resampler>=0.8.3.1->pycaret) (2.2.3)\r\n",
      "Collecting dash-html-components==2.0.0\r\n",
      "  Downloading dash_html_components-2.0.0-py3-none-any.whl (4.1 kB)\r\n",
      "Collecting dash-table==5.0.0\r\n",
      "  Downloading dash_table-5.0.0-py3-none-any.whl (3.9 kB)\r\n",
      "Requirement already satisfied: wrapt<2,>=1.10 in /opt/conda/lib/python3.7/site-packages (from deprecated>=1.2.13->sktime>=0.16.1->pycaret) (1.14.1)\r\n",
      "Requirement already satisfied: debugpy>=1.0 in /opt/conda/lib/python3.7/site-packages (from ipykernel>=4.5.1->ipywidgets>=7.6.5->pycaret) (1.6.6)\r\n",
      "Requirement already satisfied: pyzmq>=17 in /opt/conda/lib/python3.7/site-packages (from ipykernel>=4.5.1->ipywidgets>=7.6.5->pycaret) (25.0.0)\r\n",
      "Requirement already satisfied: jupyter-client>=6.1.12 in /opt/conda/lib/python3.7/site-packages (from ipykernel>=4.5.1->ipywidgets>=7.6.5->pycaret) (7.3.4)\r\n",
      "Requirement already satisfied: tornado>=6.1 in /opt/conda/lib/python3.7/site-packages (from ipykernel>=4.5.1->ipywidgets>=7.6.5->pycaret) (6.1)\r\n",
      "Requirement already satisfied: nest-asyncio in /opt/conda/lib/python3.7/site-packages (from ipykernel>=4.5.1->ipywidgets>=7.6.5->pycaret) (1.5.6)\r\n",
      "Requirement already satisfied: parso<0.9.0,>=0.8.0 in /opt/conda/lib/python3.7/site-packages (from jedi>=0.16->ipython>=5.5.0->pycaret) (0.8.3)\r\n",
      "Requirement already satisfied: attrs>=17.4.0 in /opt/conda/lib/python3.7/site-packages (from jsonschema>=2.6->nbformat>=4.2.0->pycaret) (22.2.0)\r\n",
      "Requirement already satisfied: pkgutil-resolve-name>=1.3.10 in /opt/conda/lib/python3.7/site-packages (from jsonschema>=2.6->nbformat>=4.2.0->pycaret) (1.3.10)\r\n",
      "Requirement already satisfied: pyrsistent!=0.17.0,!=0.17.1,!=0.17.2,>=0.14.0 in /opt/conda/lib/python3.7/site-packages (from jsonschema>=2.6->nbformat>=4.2.0->pycaret) (0.19.3)\r\n",
      "Requirement already satisfied: importlib-resources>=1.4.0 in /opt/conda/lib/python3.7/site-packages (from jsonschema>=2.6->nbformat>=4.2.0->pycaret) (5.10.2)\r\n",
      "Collecting ansi2html\r\n",
      "  Downloading ansi2html-1.8.0-py3-none-any.whl (16 kB)\r\n",
      "Requirement already satisfied: retrying in /opt/conda/lib/python3.7/site-packages (from jupyter-dash>=0.4.2->plotly-resampler>=0.8.3.1->pycaret) (1.3.4)\r\n",
      "Requirement already satisfied: ptyprocess>=0.5 in /opt/conda/lib/python3.7/site-packages (from pexpect>4.3->ipython>=5.5.0->pycaret) (0.7.0)\r\n",
      "Requirement already satisfied: wcwidth in /opt/conda/lib/python3.7/site-packages (from prompt-toolkit!=3.0.0,!=3.0.1,<3.1.0,>=2.0.0->ipython>=5.5.0->pycaret) (0.2.6)\r\n",
      "Requirement already satisfied: notebook>=4.4.1 in /opt/conda/lib/python3.7/site-packages (from widgetsnbextension~=3.6.0->ipywidgets>=7.6.5->pycaret) (6.5.2)\r\n",
      "Requirement already satisfied: Werkzeug>=2.2.2 in /opt/conda/lib/python3.7/site-packages (from Flask>=1.0.4->dash<3.0.0,>=2.2.0->plotly-resampler>=0.8.3.1->pycaret) (2.2.3)\r\n",
      "Requirement already satisfied: click>=8.0 in /opt/conda/lib/python3.7/site-packages (from Flask>=1.0.4->dash<3.0.0,>=2.2.0->plotly-resampler>=0.8.3.1->pycaret) (8.1.3)\r\n",
      "Requirement already satisfied: itsdangerous>=2.0 in /opt/conda/lib/python3.7/site-packages (from Flask>=1.0.4->dash<3.0.0,>=2.2.0->plotly-resampler>=0.8.3.1->pycaret) (2.1.2)\r\n",
      "Requirement already satisfied: entrypoints in /opt/conda/lib/python3.7/site-packages (from jupyter-client>=6.1.12->ipykernel>=4.5.1->ipywidgets>=7.6.5->pycaret) (0.4)\r\n",
      "Requirement already satisfied: prometheus-client in /opt/conda/lib/python3.7/site-packages (from notebook>=4.4.1->widgetsnbextension~=3.6.0->ipywidgets>=7.6.5->pycaret) (0.15.0)\r\n",
      "Requirement already satisfied: argon2-cffi in /opt/conda/lib/python3.7/site-packages (from notebook>=4.4.1->widgetsnbextension~=3.6.0->ipywidgets>=7.6.5->pycaret) (21.3.0)\r\n",
      "Requirement already satisfied: nbconvert>=5 in /opt/conda/lib/python3.7/site-packages (from notebook>=4.4.1->widgetsnbextension~=3.6.0->ipywidgets>=7.6.5->pycaret) (6.4.5)\r\n",
      "Requirement already satisfied: Send2Trash>=1.8.0 in /opt/conda/lib/python3.7/site-packages (from notebook>=4.4.1->widgetsnbextension~=3.6.0->ipywidgets>=7.6.5->pycaret) (1.8.0)\r\n",
      "Requirement already satisfied: nbclassic>=0.4.7 in /opt/conda/lib/python3.7/site-packages (from notebook>=4.4.1->widgetsnbextension~=3.6.0->ipywidgets>=7.6.5->pycaret) (0.4.8)\r\n",
      "Requirement already satisfied: terminado>=0.8.3 in /opt/conda/lib/python3.7/site-packages (from notebook>=4.4.1->widgetsnbextension~=3.6.0->ipywidgets>=7.6.5->pycaret) (0.17.1)\r\n",
      "Requirement already satisfied: notebook-shim>=0.1.0 in /opt/conda/lib/python3.7/site-packages (from nbclassic>=0.4.7->notebook>=4.4.1->widgetsnbextension~=3.6.0->ipywidgets>=7.6.5->pycaret) (0.2.2)\r\n",
      "Requirement already satisfied: jupyter-server>=1.8 in /opt/conda/lib/python3.7/site-packages (from nbclassic>=0.4.7->notebook>=4.4.1->widgetsnbextension~=3.6.0->ipywidgets>=7.6.5->pycaret) (1.23.5)\r\n",
      "Requirement already satisfied: beautifulsoup4 in /opt/conda/lib/python3.7/site-packages (from nbconvert>=5->notebook>=4.4.1->widgetsnbextension~=3.6.0->ipywidgets>=7.6.5->pycaret) (4.11.1)\r\n",
      "Requirement already satisfied: pandocfilters>=1.4.1 in /opt/conda/lib/python3.7/site-packages (from nbconvert>=5->notebook>=4.4.1->widgetsnbextension~=3.6.0->ipywidgets>=7.6.5->pycaret) (1.5.0)\r\n",
      "Requirement already satisfied: testpath in /opt/conda/lib/python3.7/site-packages (from nbconvert>=5->notebook>=4.4.1->widgetsnbextension~=3.6.0->ipywidgets>=7.6.5->pycaret) (0.6.0)\r\n",
      "Requirement already satisfied: mistune<2,>=0.8.1 in /opt/conda/lib/python3.7/site-packages (from nbconvert>=5->notebook>=4.4.1->widgetsnbextension~=3.6.0->ipywidgets>=7.6.5->pycaret) (0.8.4)\r\n",
      "Requirement already satisfied: nbclient<0.6.0,>=0.5.0 in /opt/conda/lib/python3.7/site-packages (from nbconvert>=5->notebook>=4.4.1->widgetsnbextension~=3.6.0->ipywidgets>=7.6.5->pycaret) (0.5.13)\r\n",
      "Requirement already satisfied: defusedxml in /opt/conda/lib/python3.7/site-packages (from nbconvert>=5->notebook>=4.4.1->widgetsnbextension~=3.6.0->ipywidgets>=7.6.5->pycaret) (0.7.1)\r\n",
      "Requirement already satisfied: jupyterlab-pygments in /opt/conda/lib/python3.7/site-packages (from nbconvert>=5->notebook>=4.4.1->widgetsnbextension~=3.6.0->ipywidgets>=7.6.5->pycaret) (0.2.2)\r\n",
      "Requirement already satisfied: bleach in /opt/conda/lib/python3.7/site-packages (from nbconvert>=5->notebook>=4.4.1->widgetsnbextension~=3.6.0->ipywidgets>=7.6.5->pycaret) (6.0.0)\r\n",
      "Requirement already satisfied: argon2-cffi-bindings in /opt/conda/lib/python3.7/site-packages (from argon2-cffi->notebook>=4.4.1->widgetsnbextension~=3.6.0->ipywidgets>=7.6.5->pycaret) (21.2.0)\r\n",
      "Requirement already satisfied: anyio<4,>=3.1.0 in /opt/conda/lib/python3.7/site-packages (from jupyter-server>=1.8->nbclassic>=0.4.7->notebook>=4.4.1->widgetsnbextension~=3.6.0->ipywidgets>=7.6.5->pycaret) (3.6.2)\r\n",
      "Requirement already satisfied: websocket-client in /opt/conda/lib/python3.7/site-packages (from jupyter-server>=1.8->nbclassic>=0.4.7->notebook>=4.4.1->widgetsnbextension~=3.6.0->ipywidgets>=7.6.5->pycaret) (1.4.2)\r\n",
      "Requirement already satisfied: cffi>=1.0.1 in /opt/conda/lib/python3.7/site-packages (from argon2-cffi-bindings->argon2-cffi->notebook>=4.4.1->widgetsnbextension~=3.6.0->ipywidgets>=7.6.5->pycaret) (1.15.1)\r\n",
      "Requirement already satisfied: soupsieve>1.2 in /opt/conda/lib/python3.7/site-packages (from beautifulsoup4->nbconvert>=5->notebook>=4.4.1->widgetsnbextension~=3.6.0->ipywidgets>=7.6.5->pycaret) (2.3.2.post1)\r\n",
      "Requirement already satisfied: webencodings in /opt/conda/lib/python3.7/site-packages (from bleach->nbconvert>=5->notebook>=4.4.1->widgetsnbextension~=3.6.0->ipywidgets>=7.6.5->pycaret) (0.5.1)\r\n",
      "Requirement already satisfied: sniffio>=1.1 in /opt/conda/lib/python3.7/site-packages (from anyio<4,>=3.1.0->jupyter-server>=1.8->nbclassic>=0.4.7->notebook>=4.4.1->widgetsnbextension~=3.6.0->ipywidgets>=7.6.5->pycaret) (1.3.0)\r\n",
      "Requirement already satisfied: pycparser in /opt/conda/lib/python3.7/site-packages (from cffi>=1.0.1->argon2-cffi-bindings->argon2-cffi->notebook>=4.4.1->widgetsnbextension~=3.6.0->ipywidgets>=7.6.5->pycaret) (2.21)\r\n",
      "Building wheels for collected packages: plotly-resampler, pyod\r\n",
      "  Building wheel for plotly-resampler (pyproject.toml) ... \u001b[?25ldone\r\n",
      "\u001b[?25h  Created wheel for plotly-resampler: filename=plotly_resampler-0.8.3.2-cp37-cp37m-manylinux_2_31_x86_64.whl size=75900 sha256=ad2f062b22ef8776a98def44aaf0192e19d0d7174bd6657bb65ee894e08f0476\r\n",
      "  Stored in directory: /root/.cache/pip/wheels/20/76/b6/bd15d35379014d2c71ddfbecc2d1e01713a1ad69a600717f85\r\n",
      "  Building wheel for pyod (setup.py) ... \u001b[?25l-\b \b\\\b \bdone\r\n",
      "\u001b[?25h  Created wheel for pyod: filename=pyod-1.0.9-py3-none-any.whl size=184113 sha256=622e2b5454fdd228183282fcdc53aab8602946416ed8e3de134e2204c02587d3\r\n",
      "  Stored in directory: /root/.cache/pip/wheels/15/7d/6b/997e911ae52e5ddebceb467e96797ce99e9e8bd9d3c5e0727a\r\n",
      "Successfully built plotly-resampler pyod\r\n",
      "Installing collected packages: trace-updater, kaleido, dash-table, dash-html-components, dash-core-components, schemdraw, pickle5, importlib-metadata, deprecated, ansi2html, sktime, pyod, pmdarima, dash, tbats, jupyter-dash, plotly-resampler, pycaret\r\n",
      "  Attempting uninstall: importlib-metadata\r\n",
      "    Found existing installation: importlib-metadata 4.11.4\r\n",
      "    Uninstalling importlib-metadata-4.11.4:\r\n",
      "      Successfully uninstalled importlib-metadata-4.11.4\r\n",
      "\u001b[31mERROR: pip's dependency resolver does not currently take into account all the packages that are installed. This behaviour is the source of the following dependency conflicts.\r\n",
      "cudf 21.12.2 requires cupy-cuda115, which is not installed.\r\n",
      "pydocstyle 6.3.0 requires importlib-metadata<5.0.0,>=2.0.0; python_version < \"3.8\", but you have importlib-metadata 6.4.1 which is incompatible.\r\n",
      "librosa 0.10.0.post2 requires soundfile>=0.12.1, but you have soundfile 0.11.0 which is incompatible.\r\n",
      "ibis-framework 2.1.1 requires importlib-metadata<5,>=4; python_version < \"3.8\", but you have importlib-metadata 6.4.1 which is incompatible.\r\n",
      "flake8 5.0.4 requires importlib-metadata<4.3,>=1.1.0; python_version < \"3.8\", but you have importlib-metadata 6.4.1 which is incompatible.\r\n",
      "cmudict 1.0.13 requires importlib-metadata<6.0.0,>=5.1.0, but you have importlib-metadata 6.4.1 which is incompatible.\u001b[0m\u001b[31m\r\n",
      "\u001b[0mSuccessfully installed ansi2html-1.8.0 dash-2.9.3 dash-core-components-2.0.0 dash-html-components-2.0.0 dash-table-5.0.0 deprecated-1.2.13 importlib-metadata-6.4.1 jupyter-dash-0.4.2 kaleido-0.2.1 pickle5-0.0.12 plotly-resampler-0.8.3.2 pmdarima-2.0.3 pycaret-3.0.0 pyod-1.0.9 schemdraw-0.15 sktime-0.17.1 tbats-1.1.2 trace-updater-0.0.9.1\r\n",
      "\u001b[33mWARNING: Running pip as the 'root' user can result in broken permissions and conflicting behaviour with the system package manager. It is recommended to use a virtual environment instead: https://pip.pypa.io/warnings/venv\u001b[0m\u001b[33m\r\n",
      "\u001b[0m"
     ]
    }
   ],
   "source": [
    "!pip install pycaret"
   ]
  },
  {
   "cell_type": "code",
   "execution_count": 3,
   "id": "f30fff05",
   "metadata": {
    "execution": {
     "iopub.execute_input": "2023-04-15T19:43:15.009495Z",
     "iopub.status.busy": "2023-04-15T19:43:15.009133Z",
     "iopub.status.idle": "2023-04-15T19:43:24.764436Z",
     "shell.execute_reply": "2023-04-15T19:43:24.763319Z"
    },
    "papermill": {
     "duration": 9.772776,
     "end_time": "2023-04-15T19:43:24.767339",
     "exception": false,
     "start_time": "2023-04-15T19:43:14.994563",
     "status": "completed"
    },
    "tags": []
   },
   "outputs": [],
   "source": [
    "from pycaret.regression import *\n",
    "import pandas as pd"
   ]
  },
  {
   "cell_type": "code",
   "execution_count": 4,
   "id": "1e3c07cb",
   "metadata": {
    "execution": {
     "iopub.execute_input": "2023-04-15T19:43:24.794896Z",
     "iopub.status.busy": "2023-04-15T19:43:24.794545Z",
     "iopub.status.idle": "2023-04-15T19:43:25.006474Z",
     "shell.execute_reply": "2023-04-15T19:43:25.005370Z"
    },
    "papermill": {
     "duration": 0.228603,
     "end_time": "2023-04-15T19:43:25.009053",
     "exception": false,
     "start_time": "2023-04-15T19:43:24.780450",
     "status": "completed"
    },
    "tags": []
   },
   "outputs": [],
   "source": [
    "data = np.load(\"/kaggle/input/exo-data/training.npy\")\n",
    "data2 = np.load(\"/kaggle/input/exo-data/testing.npy\")\n",
    "pred_data = np.load(\"/kaggle/input/exo-data/WASP12b.npy\")\n"
   ]
  },
  {
   "cell_type": "code",
   "execution_count": 5,
   "id": "f21b23c4",
   "metadata": {
    "execution": {
     "iopub.execute_input": "2023-04-15T19:43:25.037053Z",
     "iopub.status.busy": "2023-04-15T19:43:25.036438Z",
     "iopub.status.idle": "2023-04-15T19:43:25.042828Z",
     "shell.execute_reply": "2023-04-15T19:43:25.041768Z"
    },
    "papermill": {
     "duration": 0.02239,
     "end_time": "2023-04-15T19:43:25.045024",
     "exception": false,
     "start_time": "2023-04-15T19:43:25.022634",
     "status": "completed"
    },
    "tags": []
   },
   "outputs": [],
   "source": [
    "data1 = data[:,:14]\n",
    "df1 = pd.DataFrame(data1)\n",
    "data3 = data2[:,:14]\n",
    "testdata = pd.DataFrame(data3)\n",
    "new_data = pd.DataFrame(pred_data)"
   ]
  },
  {
   "cell_type": "code",
   "execution_count": 6,
   "id": "a4f40dfa",
   "metadata": {
    "execution": {
     "iopub.execute_input": "2023-04-15T19:43:25.071489Z",
     "iopub.status.busy": "2023-04-15T19:43:25.071133Z",
     "iopub.status.idle": "2023-04-15T19:43:41.723002Z",
     "shell.execute_reply": "2023-04-15T19:43:41.721810Z"
    },
    "papermill": {
     "duration": 16.668435,
     "end_time": "2023-04-15T19:43:41.725938",
     "exception": false,
     "start_time": "2023-04-15T19:43:25.057503",
     "status": "completed"
    },
    "tags": []
   },
   "outputs": [
    {
     "data": {
      "text/html": [
       "<style type='text/css'>\n",
       ".datatable table.frame { margin-bottom: 0; }\n",
       ".datatable table.frame thead { border-bottom: none; }\n",
       ".datatable table.frame tr.coltypes td {  color: #FFFFFF;  line-height: 6px;  padding: 0 0.5em;}\n",
       ".datatable .bool    { background: #DDDD99; }\n",
       ".datatable .object  { background: #565656; }\n",
       ".datatable .int     { background: #5D9E5D; }\n",
       ".datatable .float   { background: #4040CC; }\n",
       ".datatable .str     { background: #CC4040; }\n",
       ".datatable .time    { background: #40CC40; }\n",
       ".datatable .row_index {  background: var(--jp-border-color3);  border-right: 1px solid var(--jp-border-color0);  color: var(--jp-ui-font-color3);  font-size: 9px;}\n",
       ".datatable .frame tbody td { text-align: left; }\n",
       ".datatable .frame tr.coltypes .row_index {  background: var(--jp-border-color0);}\n",
       ".datatable th:nth-child(2) { padding-left: 12px; }\n",
       ".datatable .hellipsis {  color: var(--jp-cell-editor-border-color);}\n",
       ".datatable .vellipsis {  background: var(--jp-layout-color0);  color: var(--jp-cell-editor-border-color);}\n",
       ".datatable .na {  color: var(--jp-cell-editor-border-color);  font-size: 80%;}\n",
       ".datatable .sp {  opacity: 0.25;}\n",
       ".datatable .footer { font-size: 9px; }\n",
       ".datatable .frame_dimensions {  background: var(--jp-border-color3);  border-top: 1px solid var(--jp-border-color0);  color: var(--jp-ui-font-color3);  display: inline-block;  opacity: 0.6;  padding: 1px 10px 1px 5px;}\n",
       "</style>\n"
      ],
      "text/plain": [
       "<IPython.core.display.HTML object>"
      ]
     },
     "metadata": {},
     "output_type": "display_data"
    },
    {
     "data": {
      "text/html": [
       "<style type=\"text/css\">\n",
       "#T_ca257_row8_col1, #T_ca257_row12_col1, #T_ca257_row17_col1 {\n",
       "  background-color: lightgreen;\n",
       "}\n",
       "</style>\n",
       "<table id=\"T_ca257_\">\n",
       "  <thead>\n",
       "    <tr>\n",
       "      <th class=\"blank level0\" >&nbsp;</th>\n",
       "      <th class=\"col_heading level0 col0\" >Description</th>\n",
       "      <th class=\"col_heading level0 col1\" >Value</th>\n",
       "    </tr>\n",
       "  </thead>\n",
       "  <tbody>\n",
       "    <tr>\n",
       "      <th id=\"T_ca257_level0_row0\" class=\"row_heading level0 row0\" >0</th>\n",
       "      <td id=\"T_ca257_row0_col0\" class=\"data row0 col0\" >Session id</td>\n",
       "      <td id=\"T_ca257_row0_col1\" class=\"data row0 col1\" >123</td>\n",
       "    </tr>\n",
       "    <tr>\n",
       "      <th id=\"T_ca257_level0_row1\" class=\"row_heading level0 row1\" >1</th>\n",
       "      <td id=\"T_ca257_row1_col0\" class=\"data row1 col0\" >Target</td>\n",
       "      <td id=\"T_ca257_row1_col1\" class=\"data row1 col1\" >13</td>\n",
       "    </tr>\n",
       "    <tr>\n",
       "      <th id=\"T_ca257_level0_row2\" class=\"row_heading level0 row2\" >2</th>\n",
       "      <td id=\"T_ca257_row2_col0\" class=\"data row2 col0\" >Target type</td>\n",
       "      <td id=\"T_ca257_row2_col1\" class=\"data row2 col1\" >Regression</td>\n",
       "    </tr>\n",
       "    <tr>\n",
       "      <th id=\"T_ca257_level0_row3\" class=\"row_heading level0 row3\" >3</th>\n",
       "      <td id=\"T_ca257_row3_col0\" class=\"data row3 col0\" >Original data shape</td>\n",
       "      <td id=\"T_ca257_row3_col1\" class=\"data row3 col1\" >(100000, 14)</td>\n",
       "    </tr>\n",
       "    <tr>\n",
       "      <th id=\"T_ca257_level0_row4\" class=\"row_heading level0 row4\" >4</th>\n",
       "      <td id=\"T_ca257_row4_col0\" class=\"data row4 col0\" >Transformed data shape</td>\n",
       "      <td id=\"T_ca257_row4_col1\" class=\"data row4 col1\" >(140002, 14)</td>\n",
       "    </tr>\n",
       "    <tr>\n",
       "      <th id=\"T_ca257_level0_row5\" class=\"row_heading level0 row5\" >5</th>\n",
       "      <td id=\"T_ca257_row5_col0\" class=\"data row5 col0\" >Transformed train set shape</td>\n",
       "      <td id=\"T_ca257_row5_col1\" class=\"data row5 col1\" >(100000, 14)</td>\n",
       "    </tr>\n",
       "    <tr>\n",
       "      <th id=\"T_ca257_level0_row6\" class=\"row_heading level0 row6\" >6</th>\n",
       "      <td id=\"T_ca257_row6_col0\" class=\"data row6 col0\" >Transformed test set shape</td>\n",
       "      <td id=\"T_ca257_row6_col1\" class=\"data row6 col1\" >(40002, 14)</td>\n",
       "    </tr>\n",
       "    <tr>\n",
       "      <th id=\"T_ca257_level0_row7\" class=\"row_heading level0 row7\" >7</th>\n",
       "      <td id=\"T_ca257_row7_col0\" class=\"data row7 col0\" >Numeric features</td>\n",
       "      <td id=\"T_ca257_row7_col1\" class=\"data row7 col1\" >13</td>\n",
       "    </tr>\n",
       "    <tr>\n",
       "      <th id=\"T_ca257_level0_row8\" class=\"row_heading level0 row8\" >8</th>\n",
       "      <td id=\"T_ca257_row8_col0\" class=\"data row8 col0\" >Preprocess</td>\n",
       "      <td id=\"T_ca257_row8_col1\" class=\"data row8 col1\" >True</td>\n",
       "    </tr>\n",
       "    <tr>\n",
       "      <th id=\"T_ca257_level0_row9\" class=\"row_heading level0 row9\" >9</th>\n",
       "      <td id=\"T_ca257_row9_col0\" class=\"data row9 col0\" >Imputation type</td>\n",
       "      <td id=\"T_ca257_row9_col1\" class=\"data row9 col1\" >simple</td>\n",
       "    </tr>\n",
       "    <tr>\n",
       "      <th id=\"T_ca257_level0_row10\" class=\"row_heading level0 row10\" >10</th>\n",
       "      <td id=\"T_ca257_row10_col0\" class=\"data row10 col0\" >Numeric imputation</td>\n",
       "      <td id=\"T_ca257_row10_col1\" class=\"data row10 col1\" >mean</td>\n",
       "    </tr>\n",
       "    <tr>\n",
       "      <th id=\"T_ca257_level0_row11\" class=\"row_heading level0 row11\" >11</th>\n",
       "      <td id=\"T_ca257_row11_col0\" class=\"data row11 col0\" >Categorical imputation</td>\n",
       "      <td id=\"T_ca257_row11_col1\" class=\"data row11 col1\" >mode</td>\n",
       "    </tr>\n",
       "    <tr>\n",
       "      <th id=\"T_ca257_level0_row12\" class=\"row_heading level0 row12\" >12</th>\n",
       "      <td id=\"T_ca257_row12_col0\" class=\"data row12 col0\" >Normalize</td>\n",
       "      <td id=\"T_ca257_row12_col1\" class=\"data row12 col1\" >True</td>\n",
       "    </tr>\n",
       "    <tr>\n",
       "      <th id=\"T_ca257_level0_row13\" class=\"row_heading level0 row13\" >13</th>\n",
       "      <td id=\"T_ca257_row13_col0\" class=\"data row13 col0\" >Normalize method</td>\n",
       "      <td id=\"T_ca257_row13_col1\" class=\"data row13 col1\" >minmax</td>\n",
       "    </tr>\n",
       "    <tr>\n",
       "      <th id=\"T_ca257_level0_row14\" class=\"row_heading level0 row14\" >14</th>\n",
       "      <td id=\"T_ca257_row14_col0\" class=\"data row14 col0\" >Fold Generator</td>\n",
       "      <td id=\"T_ca257_row14_col1\" class=\"data row14 col1\" >KFold</td>\n",
       "    </tr>\n",
       "    <tr>\n",
       "      <th id=\"T_ca257_level0_row15\" class=\"row_heading level0 row15\" >15</th>\n",
       "      <td id=\"T_ca257_row15_col0\" class=\"data row15 col0\" >Fold Number</td>\n",
       "      <td id=\"T_ca257_row15_col1\" class=\"data row15 col1\" >10</td>\n",
       "    </tr>\n",
       "    <tr>\n",
       "      <th id=\"T_ca257_level0_row16\" class=\"row_heading level0 row16\" >16</th>\n",
       "      <td id=\"T_ca257_row16_col0\" class=\"data row16 col0\" >CPU Jobs</td>\n",
       "      <td id=\"T_ca257_row16_col1\" class=\"data row16 col1\" >-1</td>\n",
       "    </tr>\n",
       "    <tr>\n",
       "      <th id=\"T_ca257_level0_row17\" class=\"row_heading level0 row17\" >17</th>\n",
       "      <td id=\"T_ca257_row17_col0\" class=\"data row17 col0\" >Use GPU</td>\n",
       "      <td id=\"T_ca257_row17_col1\" class=\"data row17 col1\" >True</td>\n",
       "    </tr>\n",
       "    <tr>\n",
       "      <th id=\"T_ca257_level0_row18\" class=\"row_heading level0 row18\" >18</th>\n",
       "      <td id=\"T_ca257_row18_col0\" class=\"data row18 col0\" >Log Experiment</td>\n",
       "      <td id=\"T_ca257_row18_col1\" class=\"data row18 col1\" >False</td>\n",
       "    </tr>\n",
       "    <tr>\n",
       "      <th id=\"T_ca257_level0_row19\" class=\"row_heading level0 row19\" >19</th>\n",
       "      <td id=\"T_ca257_row19_col0\" class=\"data row19 col0\" >Experiment Name</td>\n",
       "      <td id=\"T_ca257_row19_col1\" class=\"data row19 col1\" >reg-default-name</td>\n",
       "    </tr>\n",
       "    <tr>\n",
       "      <th id=\"T_ca257_level0_row20\" class=\"row_heading level0 row20\" >20</th>\n",
       "      <td id=\"T_ca257_row20_col0\" class=\"data row20 col0\" >USI</td>\n",
       "      <td id=\"T_ca257_row20_col1\" class=\"data row20 col1\" >ca9a</td>\n",
       "    </tr>\n",
       "  </tbody>\n",
       "</table>\n"
      ],
      "text/plain": [
       "<pandas.io.formats.style.Styler at 0x72637e701950>"
      ]
     },
     "metadata": {},
     "output_type": "display_data"
    }
   ],
   "source": [
    "s = setup(data = df1, train_size = 1.0 , test_data = testdata, target='13', session_id = 123, use_gpu=True, \n",
    "          normalize = True, normalize_method = 'minmax')"
   ]
  },
  {
   "cell_type": "code",
   "execution_count": 7,
   "id": "425ccf00",
   "metadata": {
    "execution": {
     "iopub.execute_input": "2023-04-15T19:43:41.756556Z",
     "iopub.status.busy": "2023-04-15T19:43:41.756229Z",
     "iopub.status.idle": "2023-04-15T19:43:51.919862Z",
     "shell.execute_reply": "2023-04-15T19:43:51.918805Z"
    },
    "papermill": {
     "duration": 10.180802,
     "end_time": "2023-04-15T19:43:51.922416",
     "exception": false,
     "start_time": "2023-04-15T19:43:41.741614",
     "status": "completed"
    },
    "tags": []
   },
   "outputs": [
    {
     "data": {
      "text/html": [],
      "text/plain": [
       "<IPython.core.display.HTML object>"
      ]
     },
     "metadata": {},
     "output_type": "display_data"
    },
    {
     "data": {
      "text/html": [
       "<style type=\"text/css\">\n",
       "#T_5dcad_row20_col0, #T_5dcad_row20_col1, #T_5dcad_row20_col2, #T_5dcad_row20_col3, #T_5dcad_row20_col4, #T_5dcad_row20_col5, #T_5dcad_row22_col0, #T_5dcad_row22_col1, #T_5dcad_row22_col2, #T_5dcad_row22_col3, #T_5dcad_row22_col4, #T_5dcad_row22_col5 {\n",
       "  background: yellow;\n",
       "}\n",
       "</style>\n",
       "<table id=\"T_5dcad_\">\n",
       "  <thead>\n",
       "    <tr>\n",
       "      <th class=\"blank\" >&nbsp;</th>\n",
       "      <th class=\"blank level0\" >&nbsp;</th>\n",
       "      <th class=\"col_heading level0 col0\" >MAE</th>\n",
       "      <th class=\"col_heading level0 col1\" >MSE</th>\n",
       "      <th class=\"col_heading level0 col2\" >RMSE</th>\n",
       "      <th class=\"col_heading level0 col3\" >R2</th>\n",
       "      <th class=\"col_heading level0 col4\" >RMSLE</th>\n",
       "      <th class=\"col_heading level0 col5\" >MAPE</th>\n",
       "    </tr>\n",
       "    <tr>\n",
       "      <th class=\"index_name level0\" >Split</th>\n",
       "      <th class=\"index_name level1\" >Fold</th>\n",
       "      <th class=\"blank col0\" >&nbsp;</th>\n",
       "      <th class=\"blank col1\" >&nbsp;</th>\n",
       "      <th class=\"blank col2\" >&nbsp;</th>\n",
       "      <th class=\"blank col3\" >&nbsp;</th>\n",
       "      <th class=\"blank col4\" >&nbsp;</th>\n",
       "      <th class=\"blank col5\" >&nbsp;</th>\n",
       "    </tr>\n",
       "  </thead>\n",
       "  <tbody>\n",
       "    <tr>\n",
       "      <th id=\"T_5dcad_level0_row0\" class=\"row_heading level0 row0\" rowspan=\"10\">CV-Train</th>\n",
       "      <th id=\"T_5dcad_level1_row0\" class=\"row_heading level1 row0\" >0</th>\n",
       "      <td id=\"T_5dcad_row0_col0\" class=\"data row0 col0\" >220.8685</td>\n",
       "      <td id=\"T_5dcad_row0_col1\" class=\"data row0 col1\" >102098.9922</td>\n",
       "      <td id=\"T_5dcad_row0_col2\" class=\"data row0 col2\" >319.5293</td>\n",
       "      <td id=\"T_5dcad_row0_col3\" class=\"data row0 col3\" >0.7874</td>\n",
       "      <td id=\"T_5dcad_row0_col4\" class=\"data row0 col4\" >0.2272</td>\n",
       "      <td id=\"T_5dcad_row0_col5\" class=\"data row0 col5\" >0.1646</td>\n",
       "    </tr>\n",
       "    <tr>\n",
       "      <th id=\"T_5dcad_level1_row1\" class=\"row_heading level1 row1\" >1</th>\n",
       "      <td id=\"T_5dcad_row1_col0\" class=\"data row1 col0\" >220.7505</td>\n",
       "      <td id=\"T_5dcad_row1_col1\" class=\"data row1 col1\" >102160.6094</td>\n",
       "      <td id=\"T_5dcad_row1_col2\" class=\"data row1 col2\" >319.6257</td>\n",
       "      <td id=\"T_5dcad_row1_col3\" class=\"data row1 col3\" >0.7873</td>\n",
       "      <td id=\"T_5dcad_row1_col4\" class=\"data row1 col4\" >0.2270</td>\n",
       "      <td id=\"T_5dcad_row1_col5\" class=\"data row1 col5\" >0.1642</td>\n",
       "    </tr>\n",
       "    <tr>\n",
       "      <th id=\"T_5dcad_level1_row2\" class=\"row_heading level1 row2\" >2</th>\n",
       "      <td id=\"T_5dcad_row2_col0\" class=\"data row2 col0\" >220.6534</td>\n",
       "      <td id=\"T_5dcad_row2_col1\" class=\"data row2 col1\" >101882.1484</td>\n",
       "      <td id=\"T_5dcad_row2_col2\" class=\"data row2 col2\" >319.1898</td>\n",
       "      <td id=\"T_5dcad_row2_col3\" class=\"data row2 col3\" >0.7875</td>\n",
       "      <td id=\"T_5dcad_row2_col4\" class=\"data row2 col4\" >0.2266</td>\n",
       "      <td id=\"T_5dcad_row2_col5\" class=\"data row2 col5\" >0.1640</td>\n",
       "    </tr>\n",
       "    <tr>\n",
       "      <th id=\"T_5dcad_level1_row3\" class=\"row_heading level1 row3\" >3</th>\n",
       "      <td id=\"T_5dcad_row3_col0\" class=\"data row3 col0\" >219.9333</td>\n",
       "      <td id=\"T_5dcad_row3_col1\" class=\"data row3 col1\" >101110.3828</td>\n",
       "      <td id=\"T_5dcad_row3_col2\" class=\"data row3 col2\" >317.9786</td>\n",
       "      <td id=\"T_5dcad_row3_col3\" class=\"data row3 col3\" >0.7895</td>\n",
       "      <td id=\"T_5dcad_row3_col4\" class=\"data row3 col4\" >0.2262</td>\n",
       "      <td id=\"T_5dcad_row3_col5\" class=\"data row3 col5\" >0.1639</td>\n",
       "    </tr>\n",
       "    <tr>\n",
       "      <th id=\"T_5dcad_level1_row4\" class=\"row_heading level1 row4\" >4</th>\n",
       "      <td id=\"T_5dcad_row4_col0\" class=\"data row4 col0\" >220.5487</td>\n",
       "      <td id=\"T_5dcad_row4_col1\" class=\"data row4 col1\" >101585.6797</td>\n",
       "      <td id=\"T_5dcad_row4_col2\" class=\"data row4 col2\" >318.7251</td>\n",
       "      <td id=\"T_5dcad_row4_col3\" class=\"data row4 col3\" >0.7887</td>\n",
       "      <td id=\"T_5dcad_row4_col4\" class=\"data row4 col4\" >0.2264</td>\n",
       "      <td id=\"T_5dcad_row4_col5\" class=\"data row4 col5\" >0.1640</td>\n",
       "    </tr>\n",
       "    <tr>\n",
       "      <th id=\"T_5dcad_level1_row5\" class=\"row_heading level1 row5\" >5</th>\n",
       "      <td id=\"T_5dcad_row5_col0\" class=\"data row5 col0\" >221.5862</td>\n",
       "      <td id=\"T_5dcad_row5_col1\" class=\"data row5 col1\" >102839.7031</td>\n",
       "      <td id=\"T_5dcad_row5_col2\" class=\"data row5 col2\" >320.6863</td>\n",
       "      <td id=\"T_5dcad_row5_col3\" class=\"data row5 col3\" >0.7858</td>\n",
       "      <td id=\"T_5dcad_row5_col4\" class=\"data row5 col4\" >0.2282</td>\n",
       "      <td id=\"T_5dcad_row5_col5\" class=\"data row5 col5\" >0.1652</td>\n",
       "    </tr>\n",
       "    <tr>\n",
       "      <th id=\"T_5dcad_level1_row6\" class=\"row_heading level1 row6\" >6</th>\n",
       "      <td id=\"T_5dcad_row6_col0\" class=\"data row6 col0\" >220.3757</td>\n",
       "      <td id=\"T_5dcad_row6_col1\" class=\"data row6 col1\" >102233.0312</td>\n",
       "      <td id=\"T_5dcad_row6_col2\" class=\"data row6 col2\" >319.7390</td>\n",
       "      <td id=\"T_5dcad_row6_col3\" class=\"data row6 col3\" >0.7870</td>\n",
       "      <td id=\"T_5dcad_row6_col4\" class=\"data row6 col4\" >0.2278</td>\n",
       "      <td id=\"T_5dcad_row6_col5\" class=\"data row6 col5\" >0.1644</td>\n",
       "    </tr>\n",
       "    <tr>\n",
       "      <th id=\"T_5dcad_level1_row7\" class=\"row_heading level1 row7\" >7</th>\n",
       "      <td id=\"T_5dcad_row7_col0\" class=\"data row7 col0\" >220.6965</td>\n",
       "      <td id=\"T_5dcad_row7_col1\" class=\"data row7 col1\" >101937.6328</td>\n",
       "      <td id=\"T_5dcad_row7_col2\" class=\"data row7 col2\" >319.2767</td>\n",
       "      <td id=\"T_5dcad_row7_col3\" class=\"data row7 col3\" >0.7880</td>\n",
       "      <td id=\"T_5dcad_row7_col4\" class=\"data row7 col4\" >0.2268</td>\n",
       "      <td id=\"T_5dcad_row7_col5\" class=\"data row7 col5\" >0.1642</td>\n",
       "    </tr>\n",
       "    <tr>\n",
       "      <th id=\"T_5dcad_level1_row8\" class=\"row_heading level1 row8\" >8</th>\n",
       "      <td id=\"T_5dcad_row8_col0\" class=\"data row8 col0\" >219.6464</td>\n",
       "      <td id=\"T_5dcad_row8_col1\" class=\"data row8 col1\" >100415.8047</td>\n",
       "      <td id=\"T_5dcad_row8_col2\" class=\"data row8 col2\" >316.8845</td>\n",
       "      <td id=\"T_5dcad_row8_col3\" class=\"data row8 col3\" >0.7909</td>\n",
       "      <td id=\"T_5dcad_row8_col4\" class=\"data row8 col4\" >0.2252</td>\n",
       "      <td id=\"T_5dcad_row8_col5\" class=\"data row8 col5\" >0.1633</td>\n",
       "    </tr>\n",
       "    <tr>\n",
       "      <th id=\"T_5dcad_level1_row9\" class=\"row_heading level1 row9\" >9</th>\n",
       "      <td id=\"T_5dcad_row9_col0\" class=\"data row9 col0\" >219.9769</td>\n",
       "      <td id=\"T_5dcad_row9_col1\" class=\"data row9 col1\" >100869.0078</td>\n",
       "      <td id=\"T_5dcad_row9_col2\" class=\"data row9 col2\" >317.5988</td>\n",
       "      <td id=\"T_5dcad_row9_col3\" class=\"data row9 col3\" >0.7902</td>\n",
       "      <td id=\"T_5dcad_row9_col4\" class=\"data row9 col4\" >0.2258</td>\n",
       "      <td id=\"T_5dcad_row9_col5\" class=\"data row9 col5\" >0.1637</td>\n",
       "    </tr>\n",
       "    <tr>\n",
       "      <th id=\"T_5dcad_level0_row10\" class=\"row_heading level0 row10\" rowspan=\"10\">CV-Val</th>\n",
       "      <th id=\"T_5dcad_level1_row10\" class=\"row_heading level1 row10\" >0</th>\n",
       "      <td id=\"T_5dcad_row10_col0\" class=\"data row10 col0\" >244.8123</td>\n",
       "      <td id=\"T_5dcad_row10_col1\" class=\"data row10 col1\" >127577.0625</td>\n",
       "      <td id=\"T_5dcad_row10_col2\" class=\"data row10 col2\" >357.1793</td>\n",
       "      <td id=\"T_5dcad_row10_col3\" class=\"data row10 col3\" >0.7346</td>\n",
       "      <td id=\"T_5dcad_row10_col4\" class=\"data row10 col4\" >0.2538</td>\n",
       "      <td id=\"T_5dcad_row10_col5\" class=\"data row10 col5\" >0.1827</td>\n",
       "    </tr>\n",
       "    <tr>\n",
       "      <th id=\"T_5dcad_level1_row11\" class=\"row_heading level1 row11\" >1</th>\n",
       "      <td id=\"T_5dcad_row11_col0\" class=\"data row11 col0\" >241.3123</td>\n",
       "      <td id=\"T_5dcad_row11_col1\" class=\"data row11 col1\" >123186.3281</td>\n",
       "      <td id=\"T_5dcad_row11_col2\" class=\"data row11 col2\" >350.9791</td>\n",
       "      <td id=\"T_5dcad_row11_col3\" class=\"data row11 col3\" >0.7431</td>\n",
       "      <td id=\"T_5dcad_row11_col4\" class=\"data row11 col4\" >0.2520</td>\n",
       "      <td id=\"T_5dcad_row11_col5\" class=\"data row11 col5\" >0.1811</td>\n",
       "    </tr>\n",
       "    <tr>\n",
       "      <th id=\"T_5dcad_level1_row12\" class=\"row_heading level1 row12\" >2</th>\n",
       "      <td id=\"T_5dcad_row12_col0\" class=\"data row12 col0\" >242.6820</td>\n",
       "      <td id=\"T_5dcad_row12_col1\" class=\"data row12 col1\" >125336.4609</td>\n",
       "      <td id=\"T_5dcad_row12_col2\" class=\"data row12 col2\" >354.0289</td>\n",
       "      <td id=\"T_5dcad_row12_col3\" class=\"data row12 col3\" >0.7428</td>\n",
       "      <td id=\"T_5dcad_row12_col4\" class=\"data row12 col4\" >0.2536</td>\n",
       "      <td id=\"T_5dcad_row12_col5\" class=\"data row12 col5\" >0.1830</td>\n",
       "    </tr>\n",
       "    <tr>\n",
       "      <th id=\"T_5dcad_level1_row13\" class=\"row_heading level1 row13\" >3</th>\n",
       "      <td id=\"T_5dcad_row13_col0\" class=\"data row13 col0\" >246.8526</td>\n",
       "      <td id=\"T_5dcad_row13_col1\" class=\"data row13 col1\" >130612.8359</td>\n",
       "      <td id=\"T_5dcad_row13_col2\" class=\"data row13 col2\" >361.4040</td>\n",
       "      <td id=\"T_5dcad_row13_col3\" class=\"data row13 col3\" >0.7277</td>\n",
       "      <td id=\"T_5dcad_row13_col4\" class=\"data row13 col4\" >0.2563</td>\n",
       "      <td id=\"T_5dcad_row13_col5\" class=\"data row13 col5\" >0.1832</td>\n",
       "    </tr>\n",
       "    <tr>\n",
       "      <th id=\"T_5dcad_level1_row14\" class=\"row_heading level1 row14\" >4</th>\n",
       "      <td id=\"T_5dcad_row14_col0\" class=\"data row14 col0\" >246.1071</td>\n",
       "      <td id=\"T_5dcad_row14_col1\" class=\"data row14 col1\" >128779.0703</td>\n",
       "      <td id=\"T_5dcad_row14_col2\" class=\"data row14 col2\" >358.8580</td>\n",
       "      <td id=\"T_5dcad_row14_col3\" class=\"data row14 col3\" >0.7299</td>\n",
       "      <td id=\"T_5dcad_row14_col4\" class=\"data row14 col4\" >0.2557</td>\n",
       "      <td id=\"T_5dcad_row14_col5\" class=\"data row14 col5\" >0.1835</td>\n",
       "    </tr>\n",
       "    <tr>\n",
       "      <th id=\"T_5dcad_level1_row15\" class=\"row_heading level1 row15\" >5</th>\n",
       "      <td id=\"T_5dcad_row15_col0\" class=\"data row15 col0\" >243.8260</td>\n",
       "      <td id=\"T_5dcad_row15_col1\" class=\"data row15 col1\" >126656.1172</td>\n",
       "      <td id=\"T_5dcad_row15_col2\" class=\"data row15 col2\" >355.8878</td>\n",
       "      <td id=\"T_5dcad_row15_col3\" class=\"data row15 col3\" >0.7372</td>\n",
       "      <td id=\"T_5dcad_row15_col4\" class=\"data row15 col4\" >0.2530</td>\n",
       "      <td id=\"T_5dcad_row15_col5\" class=\"data row15 col5\" >0.1811</td>\n",
       "    </tr>\n",
       "    <tr>\n",
       "      <th id=\"T_5dcad_level1_row16\" class=\"row_heading level1 row16\" >6</th>\n",
       "      <td id=\"T_5dcad_row16_col0\" class=\"data row16 col0\" >243.2874</td>\n",
       "      <td id=\"T_5dcad_row16_col1\" class=\"data row16 col1\" >123810.1250</td>\n",
       "      <td id=\"T_5dcad_row16_col2\" class=\"data row16 col2\" >351.8666</td>\n",
       "      <td id=\"T_5dcad_row16_col3\" class=\"data row16 col3\" >0.7434</td>\n",
       "      <td id=\"T_5dcad_row16_col4\" class=\"data row16 col4\" >0.2534</td>\n",
       "      <td id=\"T_5dcad_row16_col5\" class=\"data row16 col5\" >0.1844</td>\n",
       "    </tr>\n",
       "    <tr>\n",
       "      <th id=\"T_5dcad_level1_row17\" class=\"row_heading level1 row17\" >7</th>\n",
       "      <td id=\"T_5dcad_row17_col0\" class=\"data row17 col0\" >243.8134</td>\n",
       "      <td id=\"T_5dcad_row17_col1\" class=\"data row17 col1\" >125636.3359</td>\n",
       "      <td id=\"T_5dcad_row17_col2\" class=\"data row17 col2\" >354.4521</td>\n",
       "      <td id=\"T_5dcad_row17_col3\" class=\"data row17 col3\" >0.7363</td>\n",
       "      <td id=\"T_5dcad_row17_col4\" class=\"data row17 col4\" >0.2553</td>\n",
       "      <td id=\"T_5dcad_row17_col5\" class=\"data row17 col5\" >0.1843</td>\n",
       "    </tr>\n",
       "    <tr>\n",
       "      <th id=\"T_5dcad_level1_row18\" class=\"row_heading level1 row18\" >8</th>\n",
       "      <td id=\"T_5dcad_row18_col0\" class=\"data row18 col0\" >247.7127</td>\n",
       "      <td id=\"T_5dcad_row18_col1\" class=\"data row18 col1\" >133411.9375</td>\n",
       "      <td id=\"T_5dcad_row18_col2\" class=\"data row18 col2\" >365.2560</td>\n",
       "      <td id=\"T_5dcad_row18_col3\" class=\"data row18 col3\" >0.7227</td>\n",
       "      <td id=\"T_5dcad_row18_col4\" class=\"data row18 col4\" >0.2583</td>\n",
       "      <td id=\"T_5dcad_row18_col5\" class=\"data row18 col5\" >0.1843</td>\n",
       "    </tr>\n",
       "    <tr>\n",
       "      <th id=\"T_5dcad_level1_row19\" class=\"row_heading level1 row19\" >9</th>\n",
       "      <td id=\"T_5dcad_row19_col0\" class=\"data row19 col0\" >246.6190</td>\n",
       "      <td id=\"T_5dcad_row19_col1\" class=\"data row19 col1\" >130708.3516</td>\n",
       "      <td id=\"T_5dcad_row19_col2\" class=\"data row19 col2\" >361.5361</td>\n",
       "      <td id=\"T_5dcad_row19_col3\" class=\"data row19 col3\" >0.7257</td>\n",
       "      <td id=\"T_5dcad_row19_col4\" class=\"data row19 col4\" >0.2567</td>\n",
       "      <td id=\"T_5dcad_row19_col5\" class=\"data row19 col5\" >0.1830</td>\n",
       "    </tr>\n",
       "    <tr>\n",
       "      <th id=\"T_5dcad_level0_row20\" class=\"row_heading level0 row20\" rowspan=\"2\">CV-Train</th>\n",
       "      <th id=\"T_5dcad_level1_row20\" class=\"row_heading level1 row20\" >Mean</th>\n",
       "      <td id=\"T_5dcad_row20_col0\" class=\"data row20 col0\" >220.5036</td>\n",
       "      <td id=\"T_5dcad_row20_col1\" class=\"data row20 col1\" >101713.2992</td>\n",
       "      <td id=\"T_5dcad_row20_col2\" class=\"data row20 col2\" >318.9234</td>\n",
       "      <td id=\"T_5dcad_row20_col3\" class=\"data row20 col3\" >0.7882</td>\n",
       "      <td id=\"T_5dcad_row20_col4\" class=\"data row20 col4\" >0.2267</td>\n",
       "      <td id=\"T_5dcad_row20_col5\" class=\"data row20 col5\" >0.1641</td>\n",
       "    </tr>\n",
       "    <tr>\n",
       "      <th id=\"T_5dcad_level1_row21\" class=\"row_heading level1 row21\" >Std</th>\n",
       "      <td id=\"T_5dcad_row21_col0\" class=\"data row21 col0\" >0.5274</td>\n",
       "      <td id=\"T_5dcad_row21_col1\" class=\"data row21 col1\" >688.6729</td>\n",
       "      <td id=\"T_5dcad_row21_col2\" class=\"data row21 col2\" >1.0804</td>\n",
       "      <td id=\"T_5dcad_row21_col3\" class=\"data row21 col3\" >0.0015</td>\n",
       "      <td id=\"T_5dcad_row21_col4\" class=\"data row21 col4\" >0.0009</td>\n",
       "      <td id=\"T_5dcad_row21_col5\" class=\"data row21 col5\" >0.0005</td>\n",
       "    </tr>\n",
       "    <tr>\n",
       "      <th id=\"T_5dcad_level0_row22\" class=\"row_heading level0 row22\" rowspan=\"2\">CV-Val</th>\n",
       "      <th id=\"T_5dcad_level1_row22\" class=\"row_heading level1 row22\" >Mean</th>\n",
       "      <td id=\"T_5dcad_row22_col0\" class=\"data row22 col0\" >244.7025</td>\n",
       "      <td id=\"T_5dcad_row22_col1\" class=\"data row22 col1\" >127571.4625</td>\n",
       "      <td id=\"T_5dcad_row22_col2\" class=\"data row22 col2\" >357.1448</td>\n",
       "      <td id=\"T_5dcad_row22_col3\" class=\"data row22 col3\" >0.7344</td>\n",
       "      <td id=\"T_5dcad_row22_col4\" class=\"data row22 col4\" >0.2548</td>\n",
       "      <td id=\"T_5dcad_row22_col5\" class=\"data row22 col5\" >0.1831</td>\n",
       "    </tr>\n",
       "    <tr>\n",
       "      <th id=\"T_5dcad_level1_row23\" class=\"row_heading level1 row23\" >Std</th>\n",
       "      <td id=\"T_5dcad_row23_col0\" class=\"data row23 col0\" >1.9616</td>\n",
       "      <td id=\"T_5dcad_row23_col1\" class=\"data row23 col1\" >3124.3301</td>\n",
       "      <td id=\"T_5dcad_row23_col2\" class=\"data row23 col2\" >4.3654</td>\n",
       "      <td id=\"T_5dcad_row23_col3\" class=\"data row23 col3\" >0.0072</td>\n",
       "      <td id=\"T_5dcad_row23_col4\" class=\"data row23 col4\" >0.0019</td>\n",
       "      <td id=\"T_5dcad_row23_col5\" class=\"data row23 col5\" >0.0011</td>\n",
       "    </tr>\n",
       "    <tr>\n",
       "      <th id=\"T_5dcad_level0_row24\" class=\"row_heading level0 row24\" >Train</th>\n",
       "      <th id=\"T_5dcad_level1_row24\" class=\"row_heading level1 row24\" >nan</th>\n",
       "      <td id=\"T_5dcad_row24_col0\" class=\"data row24 col0\" >373.8702</td>\n",
       "      <td id=\"T_5dcad_row24_col1\" class=\"data row24 col1\" >314585.2812</td>\n",
       "      <td id=\"T_5dcad_row24_col2\" class=\"data row24 col2\" >560.8790</td>\n",
       "      <td id=\"T_5dcad_row24_col3\" class=\"data row24 col3\" >0.3456</td>\n",
       "      <td id=\"T_5dcad_row24_col4\" class=\"data row24 col4\" >0.3786</td>\n",
       "      <td id=\"T_5dcad_row24_col5\" class=\"data row24 col5\" >0.2851</td>\n",
       "    </tr>\n",
       "  </tbody>\n",
       "</table>\n"
      ],
      "text/plain": [
       "<pandas.io.formats.style.Styler at 0x72637e5dd090>"
      ]
     },
     "metadata": {},
     "output_type": "display_data"
    },
    {
     "data": {
      "application/vnd.jupyter.widget-view+json": {
       "model_id": "ea132fd23aaa4a588e7ab513de2b4f70",
       "version_major": 2,
       "version_minor": 0
      },
      "text/plain": [
       "Processing:   0%|          | 0/4 [00:00<?, ?it/s]"
      ]
     },
     "metadata": {},
     "output_type": "display_data"
    }
   ],
   "source": [
    "xgboost = create_model('xgboost', fold=10,return_train_score=True)"
   ]
  },
  {
   "cell_type": "code",
   "execution_count": 8,
   "id": "eef9cf6c",
   "metadata": {
    "execution": {
     "iopub.execute_input": "2023-04-15T19:43:51.952842Z",
     "iopub.status.busy": "2023-04-15T19:43:51.951792Z",
     "iopub.status.idle": "2023-04-15T19:43:54.475775Z",
     "shell.execute_reply": "2023-04-15T19:43:54.474703Z"
    },
    "papermill": {
     "duration": 2.54115,
     "end_time": "2023-04-15T19:43:54.478023",
     "exception": false,
     "start_time": "2023-04-15T19:43:51.936873",
     "status": "completed"
    },
    "tags": []
   },
   "outputs": [
    {
     "data": {
      "text/html": [],
      "text/plain": [
       "<IPython.core.display.HTML object>"
      ]
     },
     "metadata": {},
     "output_type": "display_data"
    },
    {
     "data": {
      "image/png": "[encoded data removed]",
      "text/plain": [
       "<Figure size 800x550 with 1 Axes>"
      ]
     },
     "metadata": {},
     "output_type": "display_data"
    }
   ],
   "source": [
    "plot_model(xgboost , plot = 'error' ,use_train_data = False)"
   ]
  },
  {
   "cell_type": "code",
   "execution_count": 9,
   "id": "49ff6a88",
   "metadata": {
    "execution": {
     "iopub.execute_input": "2023-04-15T19:43:54.510500Z",
     "iopub.status.busy": "2023-04-15T19:43:54.510147Z",
     "iopub.status.idle": "2023-04-15T22:22:54.065268Z",
     "shell.execute_reply": "2023-04-15T22:22:54.064253Z"
    },
    "papermill": {
     "duration": 9539.574375,
     "end_time": "2023-04-15T22:22:54.068167",
     "exception": false,
     "start_time": "2023-04-15T19:43:54.493792",
     "status": "completed"
    },
    "tags": []
   },
   "outputs": [
    {
     "data": {
      "text/html": [],
      "text/plain": [
       "<IPython.core.display.HTML object>"
      ]
     },
     "metadata": {},
     "output_type": "display_data"
    },
    {
     "data": {
      "text/html": [
       "<style type=\"text/css\">\n",
       "#T_671f5_row20_col0, #T_671f5_row20_col1, #T_671f5_row20_col2, #T_671f5_row20_col3, #T_671f5_row20_col4, #T_671f5_row20_col5, #T_671f5_row22_col0, #T_671f5_row22_col1, #T_671f5_row22_col2, #T_671f5_row22_col3, #T_671f5_row22_col4, #T_671f5_row22_col5 {\n",
       "  background: yellow;\n",
       "}\n",
       "</style>\n",
       "<table id=\"T_671f5_\">\n",
       "  <thead>\n",
       "    <tr>\n",
       "      <th class=\"blank\" >&nbsp;</th>\n",
       "      <th class=\"blank level0\" >&nbsp;</th>\n",
       "      <th class=\"col_heading level0 col0\" >MAE</th>\n",
       "      <th class=\"col_heading level0 col1\" >MSE</th>\n",
       "      <th class=\"col_heading level0 col2\" >RMSE</th>\n",
       "      <th class=\"col_heading level0 col3\" >R2</th>\n",
       "      <th class=\"col_heading level0 col4\" >RMSLE</th>\n",
       "      <th class=\"col_heading level0 col5\" >MAPE</th>\n",
       "    </tr>\n",
       "    <tr>\n",
       "      <th class=\"index_name level0\" >Split</th>\n",
       "      <th class=\"index_name level1\" >Fold</th>\n",
       "      <th class=\"blank col0\" >&nbsp;</th>\n",
       "      <th class=\"blank col1\" >&nbsp;</th>\n",
       "      <th class=\"blank col2\" >&nbsp;</th>\n",
       "      <th class=\"blank col3\" >&nbsp;</th>\n",
       "      <th class=\"blank col4\" >&nbsp;</th>\n",
       "      <th class=\"blank col5\" >&nbsp;</th>\n",
       "    </tr>\n",
       "  </thead>\n",
       "  <tbody>\n",
       "    <tr>\n",
       "      <th id=\"T_671f5_level0_row0\" class=\"row_heading level0 row0\" rowspan=\"10\">CV-Train</th>\n",
       "      <th id=\"T_671f5_level1_row0\" class=\"row_heading level1 row0\" >0</th>\n",
       "      <td id=\"T_671f5_row0_col0\" class=\"data row0 col0\" >173.3735</td>\n",
       "      <td id=\"T_671f5_row0_col1\" class=\"data row0 col1\" >66142.3828</td>\n",
       "      <td id=\"T_671f5_row0_col2\" class=\"data row0 col2\" >257.1816</td>\n",
       "      <td id=\"T_671f5_row0_col3\" class=\"data row0 col3\" >0.8623</td>\n",
       "      <td id=\"T_671f5_row0_col4\" class=\"data row0 col4\" >0.1811</td>\n",
       "      <td id=\"T_671f5_row0_col5\" class=\"data row0 col5\" >0.1281</td>\n",
       "    </tr>\n",
       "    <tr>\n",
       "      <th id=\"T_671f5_level1_row1\" class=\"row_heading level1 row1\" >1</th>\n",
       "      <td id=\"T_671f5_row1_col0\" class=\"data row1 col0\" >174.2976</td>\n",
       "      <td id=\"T_671f5_row1_col1\" class=\"data row1 col1\" >67211.7344</td>\n",
       "      <td id=\"T_671f5_row1_col2\" class=\"data row1 col2\" >259.2523</td>\n",
       "      <td id=\"T_671f5_row1_col3\" class=\"data row1 col3\" >0.8601</td>\n",
       "      <td id=\"T_671f5_row1_col4\" class=\"data row1 col4\" >0.1832</td>\n",
       "      <td id=\"T_671f5_row1_col5\" class=\"data row1 col5\" >0.1292</td>\n",
       "    </tr>\n",
       "    <tr>\n",
       "      <th id=\"T_671f5_level1_row2\" class=\"row_heading level1 row2\" >2</th>\n",
       "      <td id=\"T_671f5_row2_col0\" class=\"data row2 col0\" >176.2802</td>\n",
       "      <td id=\"T_671f5_row2_col1\" class=\"data row2 col1\" >68751.6875</td>\n",
       "      <td id=\"T_671f5_row2_col2\" class=\"data row2 col2\" >262.2054</td>\n",
       "      <td id=\"T_671f5_row2_col3\" class=\"data row2 col3\" >0.8566</td>\n",
       "      <td id=\"T_671f5_row2_col4\" class=\"data row2 col4\" >0.1856</td>\n",
       "      <td id=\"T_671f5_row2_col5\" class=\"data row2 col5\" >0.1310</td>\n",
       "    </tr>\n",
       "    <tr>\n",
       "      <th id=\"T_671f5_level1_row3\" class=\"row_heading level1 row3\" >3</th>\n",
       "      <td id=\"T_671f5_row3_col0\" class=\"data row3 col0\" >175.5352</td>\n",
       "      <td id=\"T_671f5_row3_col1\" class=\"data row3 col1\" >68540.5938</td>\n",
       "      <td id=\"T_671f5_row3_col2\" class=\"data row3 col2\" >261.8026</td>\n",
       "      <td id=\"T_671f5_row3_col3\" class=\"data row3 col3\" >0.8573</td>\n",
       "      <td id=\"T_671f5_row3_col4\" class=\"data row3 col4\" >0.1847</td>\n",
       "      <td id=\"T_671f5_row3_col5\" class=\"data row3 col5\" >0.1301</td>\n",
       "    </tr>\n",
       "    <tr>\n",
       "      <th id=\"T_671f5_level1_row4\" class=\"row_heading level1 row4\" >4</th>\n",
       "      <td id=\"T_671f5_row4_col0\" class=\"data row4 col0\" >174.4420</td>\n",
       "      <td id=\"T_671f5_row4_col1\" class=\"data row4 col1\" >67388.7344</td>\n",
       "      <td id=\"T_671f5_row4_col2\" class=\"data row4 col2\" >259.5934</td>\n",
       "      <td id=\"T_671f5_row4_col3\" class=\"data row4 col3\" >0.8598</td>\n",
       "      <td id=\"T_671f5_row4_col4\" class=\"data row4 col4\" >0.1835</td>\n",
       "      <td id=\"T_671f5_row4_col5\" class=\"data row4 col5\" >0.1294</td>\n",
       "    </tr>\n",
       "    <tr>\n",
       "      <th id=\"T_671f5_level1_row5\" class=\"row_heading level1 row5\" >5</th>\n",
       "      <td id=\"T_671f5_row5_col0\" class=\"data row5 col0\" >174.7633</td>\n",
       "      <td id=\"T_671f5_row5_col1\" class=\"data row5 col1\" >67635.4141</td>\n",
       "      <td id=\"T_671f5_row5_col2\" class=\"data row5 col2\" >260.0681</td>\n",
       "      <td id=\"T_671f5_row5_col3\" class=\"data row5 col3\" >0.8591</td>\n",
       "      <td id=\"T_671f5_row5_col4\" class=\"data row5 col4\" >0.1839</td>\n",
       "      <td id=\"T_671f5_row5_col5\" class=\"data row5 col5\" >0.1297</td>\n",
       "    </tr>\n",
       "    <tr>\n",
       "      <th id=\"T_671f5_level1_row6\" class=\"row_heading level1 row6\" >6</th>\n",
       "      <td id=\"T_671f5_row6_col0\" class=\"data row6 col0\" >175.5660</td>\n",
       "      <td id=\"T_671f5_row6_col1\" class=\"data row6 col1\" >68419.8125</td>\n",
       "      <td id=\"T_671f5_row6_col2\" class=\"data row6 col2\" >261.5718</td>\n",
       "      <td id=\"T_671f5_row6_col3\" class=\"data row6 col3\" >0.8575</td>\n",
       "      <td id=\"T_671f5_row6_col4\" class=\"data row6 col4\" >0.1853</td>\n",
       "      <td id=\"T_671f5_row6_col5\" class=\"data row6 col5\" >0.1306</td>\n",
       "    </tr>\n",
       "    <tr>\n",
       "      <th id=\"T_671f5_level1_row7\" class=\"row_heading level1 row7\" >7</th>\n",
       "      <td id=\"T_671f5_row7_col0\" class=\"data row7 col0\" >175.0012</td>\n",
       "      <td id=\"T_671f5_row7_col1\" class=\"data row7 col1\" >67837.9609</td>\n",
       "      <td id=\"T_671f5_row7_col2\" class=\"data row7 col2\" >260.4572</td>\n",
       "      <td id=\"T_671f5_row7_col3\" class=\"data row7 col3\" >0.8589</td>\n",
       "      <td id=\"T_671f5_row7_col4\" class=\"data row7 col4\" >0.1844</td>\n",
       "      <td id=\"T_671f5_row7_col5\" class=\"data row7 col5\" >0.1300</td>\n",
       "    </tr>\n",
       "    <tr>\n",
       "      <th id=\"T_671f5_level1_row8\" class=\"row_heading level1 row8\" >8</th>\n",
       "      <td id=\"T_671f5_row8_col0\" class=\"data row8 col0\" >174.2189</td>\n",
       "      <td id=\"T_671f5_row8_col1\" class=\"data row8 col1\" >66855.9609</td>\n",
       "      <td id=\"T_671f5_row8_col2\" class=\"data row8 col2\" >258.5652</td>\n",
       "      <td id=\"T_671f5_row8_col3\" class=\"data row8 col3\" >0.8608</td>\n",
       "      <td id=\"T_671f5_row8_col4\" class=\"data row8 col4\" >0.1827</td>\n",
       "      <td id=\"T_671f5_row8_col5\" class=\"data row8 col5\" >0.1291</td>\n",
       "    </tr>\n",
       "    <tr>\n",
       "      <th id=\"T_671f5_level1_row9\" class=\"row_heading level1 row9\" >9</th>\n",
       "      <td id=\"T_671f5_row9_col0\" class=\"data row9 col0\" >174.3600</td>\n",
       "      <td id=\"T_671f5_row9_col1\" class=\"data row9 col1\" >67349.0000</td>\n",
       "      <td id=\"T_671f5_row9_col2\" class=\"data row9 col2\" >259.5168</td>\n",
       "      <td id=\"T_671f5_row9_col3\" class=\"data row9 col3\" >0.8599</td>\n",
       "      <td id=\"T_671f5_row9_col4\" class=\"data row9 col4\" >0.1841</td>\n",
       "      <td id=\"T_671f5_row9_col5\" class=\"data row9 col5\" >0.1297</td>\n",
       "    </tr>\n",
       "    <tr>\n",
       "      <th id=\"T_671f5_level0_row10\" class=\"row_heading level0 row10\" rowspan=\"10\">CV-Val</th>\n",
       "      <th id=\"T_671f5_level1_row10\" class=\"row_heading level1 row10\" >0</th>\n",
       "      <td id=\"T_671f5_row10_col0\" class=\"data row10 col0\" >229.9426</td>\n",
       "      <td id=\"T_671f5_row10_col1\" class=\"data row10 col1\" >119923.3672</td>\n",
       "      <td id=\"T_671f5_row10_col2\" class=\"data row10 col2\" >346.2995</td>\n",
       "      <td id=\"T_671f5_row10_col3\" class=\"data row10 col3\" >0.7505</td>\n",
       "      <td id=\"T_671f5_row10_col4\" class=\"data row10 col4\" >0.2464</td>\n",
       "      <td id=\"T_671f5_row10_col5\" class=\"data row10 col5\" >0.1728</td>\n",
       "    </tr>\n",
       "    <tr>\n",
       "      <th id=\"T_671f5_level1_row11\" class=\"row_heading level1 row11\" >1</th>\n",
       "      <td id=\"T_671f5_row11_col0\" class=\"data row11 col0\" >226.3598</td>\n",
       "      <td id=\"T_671f5_row11_col1\" class=\"data row11 col1\" >115300.9688</td>\n",
       "      <td id=\"T_671f5_row11_col2\" class=\"data row11 col2\" >339.5600</td>\n",
       "      <td id=\"T_671f5_row11_col3\" class=\"data row11 col3\" >0.7596</td>\n",
       "      <td id=\"T_671f5_row11_col4\" class=\"data row11 col4\" >0.2438</td>\n",
       "      <td id=\"T_671f5_row11_col5\" class=\"data row11 col5\" >0.1706</td>\n",
       "    </tr>\n",
       "    <tr>\n",
       "      <th id=\"T_671f5_level1_row12\" class=\"row_heading level1 row12\" >2</th>\n",
       "      <td id=\"T_671f5_row12_col0\" class=\"data row12 col0\" >228.7386</td>\n",
       "      <td id=\"T_671f5_row12_col1\" class=\"data row12 col1\" >117541.4141</td>\n",
       "      <td id=\"T_671f5_row12_col2\" class=\"data row12 col2\" >342.8431</td>\n",
       "      <td id=\"T_671f5_row12_col3\" class=\"data row12 col3\" >0.7588</td>\n",
       "      <td id=\"T_671f5_row12_col4\" class=\"data row12 col4\" >0.2457</td>\n",
       "      <td id=\"T_671f5_row12_col5\" class=\"data row12 col5\" >0.1737</td>\n",
       "    </tr>\n",
       "    <tr>\n",
       "      <th id=\"T_671f5_level1_row13\" class=\"row_heading level1 row13\" >3</th>\n",
       "      <td id=\"T_671f5_row13_col0\" class=\"data row13 col0\" >232.7161</td>\n",
       "      <td id=\"T_671f5_row13_col1\" class=\"data row13 col1\" >122571.1875</td>\n",
       "      <td id=\"T_671f5_row13_col2\" class=\"data row13 col2\" >350.1017</td>\n",
       "      <td id=\"T_671f5_row13_col3\" class=\"data row13 col3\" >0.7445</td>\n",
       "      <td id=\"T_671f5_row13_col4\" class=\"data row13 col4\" >0.2485</td>\n",
       "      <td id=\"T_671f5_row13_col5\" class=\"data row13 col5\" >0.1734</td>\n",
       "    </tr>\n",
       "    <tr>\n",
       "      <th id=\"T_671f5_level1_row14\" class=\"row_heading level1 row14\" >4</th>\n",
       "      <td id=\"T_671f5_row14_col0\" class=\"data row14 col0\" >232.0750</td>\n",
       "      <td id=\"T_671f5_row14_col1\" class=\"data row14 col1\" >121868.1094</td>\n",
       "      <td id=\"T_671f5_row14_col2\" class=\"data row14 col2\" >349.0961</td>\n",
       "      <td id=\"T_671f5_row14_col3\" class=\"data row14 col3\" >0.7444</td>\n",
       "      <td id=\"T_671f5_row14_col4\" class=\"data row14 col4\" >0.2490</td>\n",
       "      <td id=\"T_671f5_row14_col5\" class=\"data row14 col5\" >0.1740</td>\n",
       "    </tr>\n",
       "    <tr>\n",
       "      <th id=\"T_671f5_level1_row15\" class=\"row_heading level1 row15\" >5</th>\n",
       "      <td id=\"T_671f5_row15_col0\" class=\"data row15 col0\" >231.0892</td>\n",
       "      <td id=\"T_671f5_row15_col1\" class=\"data row15 col1\" >119418.9062</td>\n",
       "      <td id=\"T_671f5_row15_col2\" class=\"data row15 col2\" >345.5704</td>\n",
       "      <td id=\"T_671f5_row15_col3\" class=\"data row15 col3\" >0.7523</td>\n",
       "      <td id=\"T_671f5_row15_col4\" class=\"data row15 col4\" >0.2465</td>\n",
       "      <td id=\"T_671f5_row15_col5\" class=\"data row15 col5\" >0.1730</td>\n",
       "    </tr>\n",
       "    <tr>\n",
       "      <th id=\"T_671f5_level1_row16\" class=\"row_heading level1 row16\" >6</th>\n",
       "      <td id=\"T_671f5_row16_col0\" class=\"data row16 col0\" >229.9702</td>\n",
       "      <td id=\"T_671f5_row16_col1\" class=\"data row16 col1\" >117417.9609</td>\n",
       "      <td id=\"T_671f5_row16_col2\" class=\"data row16 col2\" >342.6631</td>\n",
       "      <td id=\"T_671f5_row16_col3\" class=\"data row16 col3\" >0.7566</td>\n",
       "      <td id=\"T_671f5_row16_col4\" class=\"data row16 col4\" >0.2462</td>\n",
       "      <td id=\"T_671f5_row16_col5\" class=\"data row16 col5\" >0.1748</td>\n",
       "    </tr>\n",
       "    <tr>\n",
       "      <th id=\"T_671f5_level1_row17\" class=\"row_heading level1 row17\" >7</th>\n",
       "      <td id=\"T_671f5_row17_col0\" class=\"data row17 col0\" >230.0045</td>\n",
       "      <td id=\"T_671f5_row17_col1\" class=\"data row17 col1\" >118630.5625</td>\n",
       "      <td id=\"T_671f5_row17_col2\" class=\"data row17 col2\" >344.4279</td>\n",
       "      <td id=\"T_671f5_row17_col3\" class=\"data row17 col3\" >0.7510</td>\n",
       "      <td id=\"T_671f5_row17_col4\" class=\"data row17 col4\" >0.2477</td>\n",
       "      <td id=\"T_671f5_row17_col5\" class=\"data row17 col5\" >0.1745</td>\n",
       "    </tr>\n",
       "    <tr>\n",
       "      <th id=\"T_671f5_level1_row18\" class=\"row_heading level1 row18\" >8</th>\n",
       "      <td id=\"T_671f5_row18_col0\" class=\"data row18 col0\" >233.4470</td>\n",
       "      <td id=\"T_671f5_row18_col1\" class=\"data row18 col1\" >126021.8125</td>\n",
       "      <td id=\"T_671f5_row18_col2\" class=\"data row18 col2\" >354.9955</td>\n",
       "      <td id=\"T_671f5_row18_col3\" class=\"data row18 col3\" >0.7381</td>\n",
       "      <td id=\"T_671f5_row18_col4\" class=\"data row18 col4\" >0.2506</td>\n",
       "      <td id=\"T_671f5_row18_col5\" class=\"data row18 col5\" >0.1741</td>\n",
       "    </tr>\n",
       "    <tr>\n",
       "      <th id=\"T_671f5_level1_row19\" class=\"row_heading level1 row19\" >9</th>\n",
       "      <td id=\"T_671f5_row19_col0\" class=\"data row19 col0\" >232.5216</td>\n",
       "      <td id=\"T_671f5_row19_col1\" class=\"data row19 col1\" >122554.7812</td>\n",
       "      <td id=\"T_671f5_row19_col2\" class=\"data row19 col2\" >350.0782</td>\n",
       "      <td id=\"T_671f5_row19_col3\" class=\"data row19 col3\" >0.7429</td>\n",
       "      <td id=\"T_671f5_row19_col4\" class=\"data row19 col4\" >0.2483</td>\n",
       "      <td id=\"T_671f5_row19_col5\" class=\"data row19 col5\" >0.1730</td>\n",
       "    </tr>\n",
       "    <tr>\n",
       "      <th id=\"T_671f5_level0_row20\" class=\"row_heading level0 row20\" rowspan=\"2\">CV-Train</th>\n",
       "      <th id=\"T_671f5_level1_row20\" class=\"row_heading level1 row20\" >Mean</th>\n",
       "      <td id=\"T_671f5_row20_col0\" class=\"data row20 col0\" >174.7838</td>\n",
       "      <td id=\"T_671f5_row20_col1\" class=\"data row20 col1\" >67613.3281</td>\n",
       "      <td id=\"T_671f5_row20_col2\" class=\"data row20 col2\" >260.0214</td>\n",
       "      <td id=\"T_671f5_row20_col3\" class=\"data row20 col3\" >0.8592</td>\n",
       "      <td id=\"T_671f5_row20_col4\" class=\"data row20 col4\" >0.1838</td>\n",
       "      <td id=\"T_671f5_row20_col5\" class=\"data row20 col5\" >0.1297</td>\n",
       "    </tr>\n",
       "    <tr>\n",
       "      <th id=\"T_671f5_level1_row21\" class=\"row_heading level1 row21\" >Std</th>\n",
       "      <td id=\"T_671f5_row21_col0\" class=\"data row21 col0\" >0.7940</td>\n",
       "      <td id=\"T_671f5_row21_col1\" class=\"data row21 col1\" >766.5457</td>\n",
       "      <td id=\"T_671f5_row21_col2\" class=\"data row21 col2\" >1.4749</td>\n",
       "      <td id=\"T_671f5_row21_col3\" class=\"data row21 col3\" >0.0016</td>\n",
       "      <td id=\"T_671f5_row21_col4\" class=\"data row21 col4\" >0.0013</td>\n",
       "      <td id=\"T_671f5_row21_col5\" class=\"data row21 col5\" >0.0008</td>\n",
       "    </tr>\n",
       "    <tr>\n",
       "      <th id=\"T_671f5_level0_row22\" class=\"row_heading level0 row22\" rowspan=\"2\">CV-Val</th>\n",
       "      <th id=\"T_671f5_level1_row22\" class=\"row_heading level1 row22\" >Mean</th>\n",
       "      <td id=\"T_671f5_row22_col0\" class=\"data row22 col0\" >230.6865</td>\n",
       "      <td id=\"T_671f5_row22_col1\" class=\"data row22 col1\" >120124.9070</td>\n",
       "      <td id=\"T_671f5_row22_col2\" class=\"data row22 col2\" >346.5636</td>\n",
       "      <td id=\"T_671f5_row22_col3\" class=\"data row22 col3\" >0.7499</td>\n",
       "      <td id=\"T_671f5_row22_col4\" class=\"data row22 col4\" >0.2473</td>\n",
       "      <td id=\"T_671f5_row22_col5\" class=\"data row22 col5\" >0.1734</td>\n",
       "    </tr>\n",
       "    <tr>\n",
       "      <th id=\"T_671f5_level1_row23\" class=\"row_heading level1 row23\" >Std</th>\n",
       "      <td id=\"T_671f5_row23_col0\" class=\"data row23 col0\" >2.0308</td>\n",
       "      <td id=\"T_671f5_row23_col1\" class=\"data row23 col1\" >2995.7523</td>\n",
       "      <td id=\"T_671f5_row23_col2\" class=\"data row23 col2\" >4.3140</td>\n",
       "      <td id=\"T_671f5_row23_col3\" class=\"data row23 col3\" >0.0069</td>\n",
       "      <td id=\"T_671f5_row23_col4\" class=\"data row23 col4\" >0.0018</td>\n",
       "      <td id=\"T_671f5_row23_col5\" class=\"data row23 col5\" >0.0011</td>\n",
       "    </tr>\n",
       "    <tr>\n",
       "      <th id=\"T_671f5_level0_row24\" class=\"row_heading level0 row24\" >Train</th>\n",
       "      <th id=\"T_671f5_level1_row24\" class=\"row_heading level1 row24\" >nan</th>\n",
       "      <td id=\"T_671f5_row24_col0\" class=\"data row24 col0\" >342.7106</td>\n",
       "      <td id=\"T_671f5_row24_col1\" class=\"data row24 col1\" >293061.4062</td>\n",
       "      <td id=\"T_671f5_row24_col2\" class=\"data row24 col2\" >541.3514</td>\n",
       "      <td id=\"T_671f5_row24_col3\" class=\"data row24 col3\" >0.3904</td>\n",
       "      <td id=\"T_671f5_row24_col4\" class=\"data row24 col4\" >0.3643</td>\n",
       "      <td id=\"T_671f5_row24_col5\" class=\"data row24 col5\" >0.2615</td>\n",
       "    </tr>\n",
       "  </tbody>\n",
       "</table>\n"
      ],
      "text/plain": [
       "<pandas.io.formats.style.Styler at 0x72635bc24390>"
      ]
     },
     "metadata": {},
     "output_type": "display_data"
    },
    {
     "data": {
      "application/vnd.jupyter.widget-view+json": {
       "model_id": "29b4fdee04b841b9a649a09451e18dec",
       "version_major": 2,
       "version_minor": 0
      },
      "text/plain": [
       "Processing:   0%|          | 0/7 [00:00<?, ?it/s]"
      ]
     },
     "metadata": {},
     "output_type": "display_data"
    },
    {
     "name": "stdout",
     "output_type": "stream",
     "text": [
      "Fitting 10 folds for each of 500 candidates, totalling 5000 fits\n"
     ]
    }
   ],
   "source": [
    "tuned_xgboost, tuner = tune_model(xgboost, return_tuner=True, n_iter = 500 , return_train_score=True)"
   ]
  },
  {
   "cell_type": "code",
   "execution_count": 10,
   "id": "993c8ee3",
   "metadata": {
    "execution": {
     "iopub.execute_input": "2023-04-15T22:22:54.101794Z",
     "iopub.status.busy": "2023-04-15T22:22:54.101489Z",
     "iopub.status.idle": "2023-04-15T22:22:54.111520Z",
     "shell.execute_reply": "2023-04-15T22:22:54.110623Z"
    },
    "papermill": {
     "duration": 0.029114,
     "end_time": "2023-04-15T22:22:54.113632",
     "exception": false,
     "start_time": "2023-04-15T22:22:54.084518",
     "status": "completed"
    },
    "tags": []
   },
   "outputs": [
    {
     "data": {
      "text/plain": [
       "XGBRegressor(base_score=0.5, booster='gbtree', callbacks=None,\n",
       "             colsample_bylevel=1, colsample_bynode=1, colsample_bytree=0.9,\n",
       "             early_stopping_rounds=None, enable_categorical=False,\n",
       "             eval_metric=None, gamma=0, gpu_id=0, grow_policy='depthwise',\n",
       "             importance_type=None, interaction_constraints='',\n",
       "             learning_rate=0.05, max_bin=256, max_cat_to_onehot=4,\n",
       "             max_delta_step=0, max_depth=11, max_leaves=0, min_child_weight=3,\n",
       "             missing=nan, monotone_constraints='()', n_estimators=230,\n",
       "             n_jobs=-1, num_parallel_tree=1, predictor='auto', random_state=123,\n",
       "             reg_alpha=0.2, reg_lambda=2, ...)"
      ]
     },
     "execution_count": 10,
     "metadata": {},
     "output_type": "execute_result"
    }
   ],
   "source": [
    "tuned_xgboost"
   ]
  },
  {
   "cell_type": "code",
   "execution_count": 11,
   "id": "1a41684f",
   "metadata": {
    "execution": {
     "iopub.execute_input": "2023-04-15T22:22:54.147865Z",
     "iopub.status.busy": "2023-04-15T22:22:54.145995Z",
     "iopub.status.idle": "2023-04-15T22:22:54.179007Z",
     "shell.execute_reply": "2023-04-15T22:22:54.177977Z"
    },
    "papermill": {
     "duration": 0.051709,
     "end_time": "2023-04-15T22:22:54.181161",
     "exception": false,
     "start_time": "2023-04-15T22:22:54.129452",
     "status": "completed"
    },
    "tags": []
   },
   "outputs": [
    {
     "data": {
      "text/plain": [
       "RandomizedSearchCV(cv=KFold(n_splits=10, random_state=None, shuffle=False),\n",
       "                   estimator=Pipeline(memory=FastMemory(location=/tmp/joblib),\n",
       "                                      steps=[('numerical_imputer',\n",
       "                                              TransformerWrapper(include=['0',\n",
       "                                                                          '1',\n",
       "                                                                          '2',\n",
       "                                                                          '3',\n",
       "                                                                          '4',\n",
       "                                                                          '5',\n",
       "                                                                          '6',\n",
       "                                                                          '7',\n",
       "                                                                          '8',\n",
       "                                                                          '9',\n",
       "                                                                          '10',\n",
       "                                                                          '11',\n",
       "                                                                          '12'],\n",
       "                                                                 transformer=SimpleImputer())),\n",
       "                                             ('categorical_imputer',\n",
       "                                              TransformerWrapper(include=[],\n",
       "                                                                 transformer=SimpleImput...\n",
       "                                                                         1e-06,\n",
       "                                                                         0.0001,\n",
       "                                                                         0.001,\n",
       "                                                                         0.01,\n",
       "                                                                         0.0005,\n",
       "                                                                         0.005,\n",
       "                                                                         0.05,\n",
       "                                                                         0.1,\n",
       "                                                                         0.15,\n",
       "                                                                         0.2,\n",
       "                                                                         0.3,\n",
       "                                                                         0.4,\n",
       "                                                                         0.5,\n",
       "                                                                         0.7, 1,\n",
       "                                                                         2, 3,\n",
       "                                                                         4, 5,\n",
       "                                                                         10],\n",
       "                                        'actual_estimator__scale_pos_weight': [0.0,\n",
       "                                                                               0.1,\n",
       "                                                                               0.2,\n",
       "                                                                               0.3,\n",
       "                                                                               0.4,\n",
       "                                                                               0.5,\n",
       "                                                                               0.6,\n",
       "                                                                               0.7,\n",
       "                                                                               0.8,\n",
       "                                                                               0.9,\n",
       "                                                                               1.0,\n",
       "                                                                               1.1,\n",
       "                                                                               1.2,\n",
       "                                                                               1.3,\n",
       "                                                                               1.4,\n",
       "                                                                               1.5,\n",
       "                                                                               1.6,\n",
       "                                                                               1.7,\n",
       "                                                                               1.8,\n",
       "                                                                               1.9,\n",
       "                                                                               2.0,\n",
       "                                                                               2.1,\n",
       "                                                                               2.2,\n",
       "                                                                               2.3,\n",
       "                                                                               2.4,\n",
       "                                                                               2.5,\n",
       "                                                                               2.6,\n",
       "                                                                               2.7,\n",
       "                                                                               2.8,\n",
       "                                                                               2.9, ...],\n",
       "                                        'actual_estimator__subsample': [0.2,\n",
       "                                                                        0.3,\n",
       "                                                                        0.5,\n",
       "                                                                        0.7,\n",
       "                                                                        0.9,\n",
       "                                                                        1]},\n",
       "                   random_state=123, refit=False, scoring='r2', verbose=1)"
      ]
     },
     "execution_count": 11,
     "metadata": {},
     "output_type": "execute_result"
    }
   ],
   "source": [
    "tuner"
   ]
  },
  {
   "cell_type": "code",
   "execution_count": 12,
   "id": "6ab694c1",
   "metadata": {
    "execution": {
     "iopub.execute_input": "2023-04-15T22:22:54.214982Z",
     "iopub.status.busy": "2023-04-15T22:22:54.214449Z",
     "iopub.status.idle": "2023-04-15T22:34:49.157837Z",
     "shell.execute_reply": "2023-04-15T22:34:49.156656Z"
    },
    "papermill": {
     "duration": 715.01325,
     "end_time": "2023-04-15T22:34:49.210387",
     "exception": false,
     "start_time": "2023-04-15T22:22:54.197137",
     "status": "completed"
    },
    "tags": []
   },
   "outputs": [
    {
     "data": {
      "text/html": [],
      "text/plain": [
       "<IPython.core.display.HTML object>"
      ]
     },
     "metadata": {},
     "output_type": "display_data"
    },
    {
     "data": {
      "text/html": [
       "<style type=\"text/css\">\n",
       "#T_2219f_row20_col0, #T_2219f_row20_col1, #T_2219f_row20_col2, #T_2219f_row20_col3, #T_2219f_row20_col4, #T_2219f_row20_col5 {\n",
       "  background: yellow;\n",
       "}\n",
       "</style>\n",
       "<table id=\"T_2219f_\">\n",
       "  <thead>\n",
       "    <tr>\n",
       "      <th class=\"blank level0\" >&nbsp;</th>\n",
       "      <th class=\"col_heading level0 col0\" >MAE</th>\n",
       "      <th class=\"col_heading level0 col1\" >MSE</th>\n",
       "      <th class=\"col_heading level0 col2\" >RMSE</th>\n",
       "      <th class=\"col_heading level0 col3\" >R2</th>\n",
       "      <th class=\"col_heading level0 col4\" >RMSLE</th>\n",
       "      <th class=\"col_heading level0 col5\" >MAPE</th>\n",
       "    </tr>\n",
       "    <tr>\n",
       "      <th class=\"index_name level0\" >Fold</th>\n",
       "      <th class=\"blank col0\" >&nbsp;</th>\n",
       "      <th class=\"blank col1\" >&nbsp;</th>\n",
       "      <th class=\"blank col2\" >&nbsp;</th>\n",
       "      <th class=\"blank col3\" >&nbsp;</th>\n",
       "      <th class=\"blank col4\" >&nbsp;</th>\n",
       "      <th class=\"blank col5\" >&nbsp;</th>\n",
       "    </tr>\n",
       "  </thead>\n",
       "  <tbody>\n",
       "    <tr>\n",
       "      <th id=\"T_2219f_level0_row0\" class=\"row_heading level0 row0\" >0</th>\n",
       "      <td id=\"T_2219f_row0_col0\" class=\"data row0 col0\" >229.2550</td>\n",
       "      <td id=\"T_2219f_row0_col1\" class=\"data row0 col1\" >120228.7748</td>\n",
       "      <td id=\"T_2219f_row0_col2\" class=\"data row0 col2\" >346.7402</td>\n",
       "      <td id=\"T_2219f_row0_col3\" class=\"data row0 col3\" >0.7509</td>\n",
       "      <td id=\"T_2219f_row0_col4\" class=\"data row0 col4\" >0.2494</td>\n",
       "      <td id=\"T_2219f_row0_col5\" class=\"data row0 col5\" >0.1763</td>\n",
       "    </tr>\n",
       "    <tr>\n",
       "      <th id=\"T_2219f_level0_row1\" class=\"row_heading level0 row1\" >1</th>\n",
       "      <td id=\"T_2219f_row1_col0\" class=\"data row1 col0\" >229.2631</td>\n",
       "      <td id=\"T_2219f_row1_col1\" class=\"data row1 col1\" >116737.9686</td>\n",
       "      <td id=\"T_2219f_row1_col2\" class=\"data row1 col2\" >341.6694</td>\n",
       "      <td id=\"T_2219f_row1_col3\" class=\"data row1 col3\" >0.7560</td>\n",
       "      <td id=\"T_2219f_row1_col4\" class=\"data row1 col4\" >0.2448</td>\n",
       "      <td id=\"T_2219f_row1_col5\" class=\"data row1 col5\" >0.1748</td>\n",
       "    </tr>\n",
       "    <tr>\n",
       "      <th id=\"T_2219f_level0_row2\" class=\"row_heading level0 row2\" >2</th>\n",
       "      <td id=\"T_2219f_row2_col0\" class=\"data row2 col0\" >227.2434</td>\n",
       "      <td id=\"T_2219f_row2_col1\" class=\"data row2 col1\" >116190.7449</td>\n",
       "      <td id=\"T_2219f_row2_col2\" class=\"data row2 col2\" >340.8676</td>\n",
       "      <td id=\"T_2219f_row2_col3\" class=\"data row2 col3\" >0.7586</td>\n",
       "      <td id=\"T_2219f_row2_col4\" class=\"data row2 col4\" >0.2490</td>\n",
       "      <td id=\"T_2219f_row2_col5\" class=\"data row2 col5\" >0.1758</td>\n",
       "    </tr>\n",
       "    <tr>\n",
       "      <th id=\"T_2219f_level0_row3\" class=\"row_heading level0 row3\" >3</th>\n",
       "      <td id=\"T_2219f_row3_col0\" class=\"data row3 col0\" >225.1487</td>\n",
       "      <td id=\"T_2219f_row3_col1\" class=\"data row3 col1\" >113423.2493</td>\n",
       "      <td id=\"T_2219f_row3_col2\" class=\"data row3 col2\" >336.7837</td>\n",
       "      <td id=\"T_2219f_row3_col3\" class=\"data row3 col3\" >0.7626</td>\n",
       "      <td id=\"T_2219f_row3_col4\" class=\"data row3 col4\" >0.2423</td>\n",
       "      <td id=\"T_2219f_row3_col5\" class=\"data row3 col5\" >0.1714</td>\n",
       "    </tr>\n",
       "    <tr>\n",
       "      <th id=\"T_2219f_level0_row4\" class=\"row_heading level0 row4\" >4</th>\n",
       "      <td id=\"T_2219f_row4_col0\" class=\"data row4 col0\" >226.8273</td>\n",
       "      <td id=\"T_2219f_row4_col1\" class=\"data row4 col1\" >117528.1764</td>\n",
       "      <td id=\"T_2219f_row4_col2\" class=\"data row4 col2\" >342.8238</td>\n",
       "      <td id=\"T_2219f_row4_col3\" class=\"data row4 col3\" >0.7594</td>\n",
       "      <td id=\"T_2219f_row4_col4\" class=\"data row4 col4\" >0.2492</td>\n",
       "      <td id=\"T_2219f_row4_col5\" class=\"data row4 col5\" >0.1768</td>\n",
       "    </tr>\n",
       "    <tr>\n",
       "      <th id=\"T_2219f_level0_row5\" class=\"row_heading level0 row5\" >5</th>\n",
       "      <td id=\"T_2219f_row5_col0\" class=\"data row5 col0\" >227.3835</td>\n",
       "      <td id=\"T_2219f_row5_col1\" class=\"data row5 col1\" >117538.5629</td>\n",
       "      <td id=\"T_2219f_row5_col2\" class=\"data row5 col2\" >342.8390</td>\n",
       "      <td id=\"T_2219f_row5_col3\" class=\"data row5 col3\" >0.7582</td>\n",
       "      <td id=\"T_2219f_row5_col4\" class=\"data row5 col4\" >0.2462</td>\n",
       "      <td id=\"T_2219f_row5_col5\" class=\"data row5 col5\" >0.1735</td>\n",
       "    </tr>\n",
       "    <tr>\n",
       "      <th id=\"T_2219f_level0_row6\" class=\"row_heading level0 row6\" >6</th>\n",
       "      <td id=\"T_2219f_row6_col0\" class=\"data row6 col0\" >227.6511</td>\n",
       "      <td id=\"T_2219f_row6_col1\" class=\"data row6 col1\" >116612.8037</td>\n",
       "      <td id=\"T_2219f_row6_col2\" class=\"data row6 col2\" >341.4862</td>\n",
       "      <td id=\"T_2219f_row6_col3\" class=\"data row6 col3\" >0.7569</td>\n",
       "      <td id=\"T_2219f_row6_col4\" class=\"data row6 col4\" >0.2456</td>\n",
       "      <td id=\"T_2219f_row6_col5\" class=\"data row6 col5\" >0.1729</td>\n",
       "    </tr>\n",
       "    <tr>\n",
       "      <th id=\"T_2219f_level0_row7\" class=\"row_heading level0 row7\" >7</th>\n",
       "      <td id=\"T_2219f_row7_col0\" class=\"data row7 col0\" >235.7679</td>\n",
       "      <td id=\"T_2219f_row7_col1\" class=\"data row7 col1\" >126914.5708</td>\n",
       "      <td id=\"T_2219f_row7_col2\" class=\"data row7 col2\" >356.2507</td>\n",
       "      <td id=\"T_2219f_row7_col3\" class=\"data row7 col3\" >0.7350</td>\n",
       "      <td id=\"T_2219f_row7_col4\" class=\"data row7 col4\" >0.2553</td>\n",
       "      <td id=\"T_2219f_row7_col5\" class=\"data row7 col5\" >0.1805</td>\n",
       "    </tr>\n",
       "    <tr>\n",
       "      <th id=\"T_2219f_level0_row8\" class=\"row_heading level0 row8\" >8</th>\n",
       "      <td id=\"T_2219f_row8_col0\" class=\"data row8 col0\" >227.0614</td>\n",
       "      <td id=\"T_2219f_row8_col1\" class=\"data row8 col1\" >115869.9059</td>\n",
       "      <td id=\"T_2219f_row8_col2\" class=\"data row8 col2\" >340.3967</td>\n",
       "      <td id=\"T_2219f_row8_col3\" class=\"data row8 col3\" >0.7578</td>\n",
       "      <td id=\"T_2219f_row8_col4\" class=\"data row8 col4\" >0.2486</td>\n",
       "      <td id=\"T_2219f_row8_col5\" class=\"data row8 col5\" >0.1766</td>\n",
       "    </tr>\n",
       "    <tr>\n",
       "      <th id=\"T_2219f_level0_row9\" class=\"row_heading level0 row9\" >9</th>\n",
       "      <td id=\"T_2219f_row9_col0\" class=\"data row9 col0\" >233.8038</td>\n",
       "      <td id=\"T_2219f_row9_col1\" class=\"data row9 col1\" >124173.6689</td>\n",
       "      <td id=\"T_2219f_row9_col2\" class=\"data row9 col2\" >352.3828</td>\n",
       "      <td id=\"T_2219f_row9_col3\" class=\"data row9 col3\" >0.7385</td>\n",
       "      <td id=\"T_2219f_row9_col4\" class=\"data row9 col4\" >0.2499</td>\n",
       "      <td id=\"T_2219f_row9_col5\" class=\"data row9 col5\" >0.1756</td>\n",
       "    </tr>\n",
       "    <tr>\n",
       "      <th id=\"T_2219f_level0_row10\" class=\"row_heading level0 row10\" >10</th>\n",
       "      <td id=\"T_2219f_row10_col0\" class=\"data row10 col0\" >230.7071</td>\n",
       "      <td id=\"T_2219f_row10_col1\" class=\"data row10 col1\" >120551.0974</td>\n",
       "      <td id=\"T_2219f_row10_col2\" class=\"data row10 col2\" >347.2047</td>\n",
       "      <td id=\"T_2219f_row10_col3\" class=\"data row10 col3\" >0.7479</td>\n",
       "      <td id=\"T_2219f_row10_col4\" class=\"data row10 col4\" >0.2471</td>\n",
       "      <td id=\"T_2219f_row10_col5\" class=\"data row10 col5\" >0.1733</td>\n",
       "    </tr>\n",
       "    <tr>\n",
       "      <th id=\"T_2219f_level0_row11\" class=\"row_heading level0 row11\" >11</th>\n",
       "      <td id=\"T_2219f_row11_col0\" class=\"data row11 col0\" >225.5556</td>\n",
       "      <td id=\"T_2219f_row11_col1\" class=\"data row11 col1\" >114960.0869</td>\n",
       "      <td id=\"T_2219f_row11_col2\" class=\"data row11 col2\" >339.0576</td>\n",
       "      <td id=\"T_2219f_row11_col3\" class=\"data row11 col3\" >0.7632</td>\n",
       "      <td id=\"T_2219f_row11_col4\" class=\"data row11 col4\" >0.2479</td>\n",
       "      <td id=\"T_2219f_row11_col5\" class=\"data row11 col5\" >0.1759</td>\n",
       "    </tr>\n",
       "    <tr>\n",
       "      <th id=\"T_2219f_level0_row12\" class=\"row_heading level0 row12\" >12</th>\n",
       "      <td id=\"T_2219f_row12_col0\" class=\"data row12 col0\" >233.3264</td>\n",
       "      <td id=\"T_2219f_row12_col1\" class=\"data row12 col1\" >118560.1525</td>\n",
       "      <td id=\"T_2219f_row12_col2\" class=\"data row12 col2\" >344.3256</td>\n",
       "      <td id=\"T_2219f_row12_col3\" class=\"data row12 col3\" >0.7574</td>\n",
       "      <td id=\"T_2219f_row12_col4\" class=\"data row12 col4\" >0.2533</td>\n",
       "      <td id=\"T_2219f_row12_col5\" class=\"data row12 col5\" >0.1840</td>\n",
       "    </tr>\n",
       "    <tr>\n",
       "      <th id=\"T_2219f_level0_row13\" class=\"row_heading level0 row13\" >13</th>\n",
       "      <td id=\"T_2219f_row13_col0\" class=\"data row13 col0\" >222.7629</td>\n",
       "      <td id=\"T_2219f_row13_col1\" class=\"data row13 col1\" >113748.3713</td>\n",
       "      <td id=\"T_2219f_row13_col2\" class=\"data row13 col2\" >337.2660</td>\n",
       "      <td id=\"T_2219f_row13_col3\" class=\"data row13 col3\" >0.7612</td>\n",
       "      <td id=\"T_2219f_row13_col4\" class=\"data row13 col4\" >0.2420</td>\n",
       "      <td id=\"T_2219f_row13_col5\" class=\"data row13 col5\" >0.1701</td>\n",
       "    </tr>\n",
       "    <tr>\n",
       "      <th id=\"T_2219f_level0_row14\" class=\"row_heading level0 row14\" >14</th>\n",
       "      <td id=\"T_2219f_row14_col0\" class=\"data row14 col0\" >230.7749</td>\n",
       "      <td id=\"T_2219f_row14_col1\" class=\"data row14 col1\" >121756.4872</td>\n",
       "      <td id=\"T_2219f_row14_col2\" class=\"data row14 col2\" >348.9362</td>\n",
       "      <td id=\"T_2219f_row14_col3\" class=\"data row14 col3\" >0.7464</td>\n",
       "      <td id=\"T_2219f_row14_col4\" class=\"data row14 col4\" >0.2532</td>\n",
       "      <td id=\"T_2219f_row14_col5\" class=\"data row14 col5\" >0.1787</td>\n",
       "    </tr>\n",
       "    <tr>\n",
       "      <th id=\"T_2219f_level0_row15\" class=\"row_heading level0 row15\" >15</th>\n",
       "      <td id=\"T_2219f_row15_col0\" class=\"data row15 col0\" >225.8945</td>\n",
       "      <td id=\"T_2219f_row15_col1\" class=\"data row15 col1\" >113165.4349</td>\n",
       "      <td id=\"T_2219f_row15_col2\" class=\"data row15 col2\" >336.4007</td>\n",
       "      <td id=\"T_2219f_row15_col3\" class=\"data row15 col3\" >0.7606</td>\n",
       "      <td id=\"T_2219f_row15_col4\" class=\"data row15 col4\" >0.2449</td>\n",
       "      <td id=\"T_2219f_row15_col5\" class=\"data row15 col5\" >0.1751</td>\n",
       "    </tr>\n",
       "    <tr>\n",
       "      <th id=\"T_2219f_level0_row16\" class=\"row_heading level0 row16\" >16</th>\n",
       "      <td id=\"T_2219f_row16_col0\" class=\"data row16 col0\" >232.9426</td>\n",
       "      <td id=\"T_2219f_row16_col1\" class=\"data row16 col1\" >126979.9980</td>\n",
       "      <td id=\"T_2219f_row16_col2\" class=\"data row16 col2\" >356.3425</td>\n",
       "      <td id=\"T_2219f_row16_col3\" class=\"data row16 col3\" >0.7357</td>\n",
       "      <td id=\"T_2219f_row16_col4\" class=\"data row16 col4\" >0.2556</td>\n",
       "      <td id=\"T_2219f_row16_col5\" class=\"data row16 col5\" >0.1787</td>\n",
       "    </tr>\n",
       "    <tr>\n",
       "      <th id=\"T_2219f_level0_row17\" class=\"row_heading level0 row17\" >17</th>\n",
       "      <td id=\"T_2219f_row17_col0\" class=\"data row17 col0\" >231.5621</td>\n",
       "      <td id=\"T_2219f_row17_col1\" class=\"data row17 col1\" >122934.4914</td>\n",
       "      <td id=\"T_2219f_row17_col2\" class=\"data row17 col2\" >350.6202</td>\n",
       "      <td id=\"T_2219f_row17_col3\" class=\"data row17 col3\" >0.7449</td>\n",
       "      <td id=\"T_2219f_row17_col4\" class=\"data row17 col4\" >0.2494</td>\n",
       "      <td id=\"T_2219f_row17_col5\" class=\"data row17 col5\" >0.1753</td>\n",
       "    </tr>\n",
       "    <tr>\n",
       "      <th id=\"T_2219f_level0_row18\" class=\"row_heading level0 row18\" >18</th>\n",
       "      <td id=\"T_2219f_row18_col0\" class=\"data row18 col0\" >232.7198</td>\n",
       "      <td id=\"T_2219f_row18_col1\" class=\"data row18 col1\" >122279.5588</td>\n",
       "      <td id=\"T_2219f_row18_col2\" class=\"data row18 col2\" >349.6849</td>\n",
       "      <td id=\"T_2219f_row18_col3\" class=\"data row18 col3\" >0.7397</td>\n",
       "      <td id=\"T_2219f_row18_col4\" class=\"data row18 col4\" >0.2496</td>\n",
       "      <td id=\"T_2219f_row18_col5\" class=\"data row18 col5\" >0.1757</td>\n",
       "    </tr>\n",
       "    <tr>\n",
       "      <th id=\"T_2219f_level0_row19\" class=\"row_heading level0 row19\" >19</th>\n",
       "      <td id=\"T_2219f_row19_col0\" class=\"data row19 col0\" >228.0063</td>\n",
       "      <td id=\"T_2219f_row19_col1\" class=\"data row19 col1\" >117723.9238</td>\n",
       "      <td id=\"T_2219f_row19_col2\" class=\"data row19 col2\" >343.1092</td>\n",
       "      <td id=\"T_2219f_row19_col3\" class=\"data row19 col3\" >0.7565</td>\n",
       "      <td id=\"T_2219f_row19_col4\" class=\"data row19 col4\" >0.2476</td>\n",
       "      <td id=\"T_2219f_row19_col5\" class=\"data row19 col5\" >0.1750</td>\n",
       "    </tr>\n",
       "    <tr>\n",
       "      <th id=\"T_2219f_level0_row20\" class=\"row_heading level0 row20\" >Mean</th>\n",
       "      <td id=\"T_2219f_row20_col0\" class=\"data row20 col0\" >229.1829</td>\n",
       "      <td id=\"T_2219f_row20_col1\" class=\"data row20 col1\" >118893.9014</td>\n",
       "      <td id=\"T_2219f_row20_col2\" class=\"data row20 col2\" >344.7594</td>\n",
       "      <td id=\"T_2219f_row20_col3\" class=\"data row20 col3\" >0.7524</td>\n",
       "      <td id=\"T_2219f_row20_col4\" class=\"data row20 col4\" >0.2485</td>\n",
       "      <td id=\"T_2219f_row20_col5\" class=\"data row20 col5\" >0.1758</td>\n",
       "    </tr>\n",
       "    <tr>\n",
       "      <th id=\"T_2219f_level0_row21\" class=\"row_heading level0 row21\" >Std</th>\n",
       "      <td id=\"T_2219f_row21_col0\" class=\"data row21 col0\" >3.3264</td>\n",
       "      <td id=\"T_2219f_row21_col1\" class=\"data row21 col1\" >4088.2994</td>\n",
       "      <td id=\"T_2219f_row21_col2\" class=\"data row21 col2\" >5.9043</td>\n",
       "      <td id=\"T_2219f_row21_col3\" class=\"data row21 col3\" >0.0091</td>\n",
       "      <td id=\"T_2219f_row21_col4\" class=\"data row21 col4\" >0.0037</td>\n",
       "      <td id=\"T_2219f_row21_col5\" class=\"data row21 col5\" >0.0030</td>\n",
       "    </tr>\n",
       "  </tbody>\n",
       "</table>\n"
      ],
      "text/plain": [
       "<pandas.io.formats.style.Styler at 0x72635be68410>"
      ]
     },
     "metadata": {},
     "output_type": "display_data"
    },
    {
     "data": {
      "application/vnd.jupyter.widget-view+json": {
       "model_id": "c490a51074f9494ba94d59949a021588",
       "version_major": 2,
       "version_minor": 0
      },
      "text/plain": [
       "Processing:   0%|          | 0/4 [00:00<?, ?it/s]"
      ]
     },
     "metadata": {},
     "output_type": "display_data"
    }
   ],
   "source": [
    "et = create_model('et', fold=20)"
   ]
  },
  {
   "cell_type": "code",
   "execution_count": 13,
   "id": "e82db79e",
   "metadata": {
    "execution": {
     "iopub.execute_input": "2023-04-15T22:34:49.304958Z",
     "iopub.status.busy": "2023-04-15T22:34:49.304402Z",
     "iopub.status.idle": "2023-04-15T22:34:58.428057Z",
     "shell.execute_reply": "2023-04-15T22:34:58.426892Z"
    },
    "papermill": {
     "duration": 9.176015,
     "end_time": "2023-04-15T22:34:58.430713",
     "exception": false,
     "start_time": "2023-04-15T22:34:49.254698",
     "status": "completed"
    },
    "tags": []
   },
   "outputs": [
    {
     "data": {
      "text/html": [],
      "text/plain": [
       "<IPython.core.display.HTML object>"
      ]
     },
     "metadata": {},
     "output_type": "display_data"
    },
    {
     "data": {
      "image/png": "[encoded data removed]",
      "text/plain": [
       "<Figure size 800x550 with 1 Axes>"
      ]
     },
     "metadata": {},
     "output_type": "display_data"
    }
   ],
   "source": [
    "plot_model(et , plot = 'error' ,use_train_data = False)"
   ]
  },
  {
   "cell_type": "code",
   "execution_count": 14,
   "id": "b78ce3ea",
   "metadata": {
    "execution": {
     "iopub.execute_input": "2023-04-15T22:34:58.469725Z",
     "iopub.status.busy": "2023-04-15T22:34:58.468736Z",
     "iopub.status.idle": "2023-04-15T22:34:58.473693Z",
     "shell.execute_reply": "2023-04-15T22:34:58.472733Z"
    },
    "papermill": {
     "duration": 0.026422,
     "end_time": "2023-04-15T22:34:58.475885",
     "exception": false,
     "start_time": "2023-04-15T22:34:58.449463",
     "status": "completed"
    },
    "tags": []
   },
   "outputs": [],
   "source": [
    "#catboost = create_model('catboost', fold=10)"
   ]
  },
  {
   "cell_type": "code",
   "execution_count": 15,
   "id": "7f3ad7be",
   "metadata": {
    "execution": {
     "iopub.execute_input": "2023-04-15T22:34:58.512487Z",
     "iopub.status.busy": "2023-04-15T22:34:58.512195Z",
     "iopub.status.idle": "2023-04-15T22:34:58.516322Z",
     "shell.execute_reply": "2023-04-15T22:34:58.515318Z"
    },
    "papermill": {
     "duration": 0.024572,
     "end_time": "2023-04-15T22:34:58.518575",
     "exception": false,
     "start_time": "2023-04-15T22:34:58.494003",
     "status": "completed"
    },
    "tags": []
   },
   "outputs": [],
   "source": [
    "#plot_model(catboost , plot = 'error' ,use_train_data = False)"
   ]
  },
  {
   "cell_type": "code",
   "execution_count": 16,
   "id": "21ea8382",
   "metadata": {
    "execution": {
     "iopub.execute_input": "2023-04-15T22:34:58.554763Z",
     "iopub.status.busy": "2023-04-15T22:34:58.554185Z",
     "iopub.status.idle": "2023-04-15T22:34:58.558920Z",
     "shell.execute_reply": "2023-04-15T22:34:58.558056Z"
    },
    "papermill": {
     "duration": 0.025005,
     "end_time": "2023-04-15T22:34:58.560931",
     "exception": false,
     "start_time": "2023-04-15T22:34:58.535926",
     "status": "completed"
    },
    "tags": []
   },
   "outputs": [],
   "source": [
    "#tuned_catboost, tunerc = tune_model(catboost, return_tuner=True, n_iter = 100 , return_train_score=True)"
   ]
  },
  {
   "cell_type": "code",
   "execution_count": 17,
   "id": "b2417630",
   "metadata": {
    "execution": {
     "iopub.execute_input": "2023-04-15T22:34:58.597865Z",
     "iopub.status.busy": "2023-04-15T22:34:58.596744Z",
     "iopub.status.idle": "2023-04-15T22:34:58.601560Z",
     "shell.execute_reply": "2023-04-15T22:34:58.600630Z"
    },
    "papermill": {
     "duration": 0.025495,
     "end_time": "2023-04-15T22:34:58.603633",
     "exception": false,
     "start_time": "2023-04-15T22:34:58.578138",
     "status": "completed"
    },
    "tags": []
   },
   "outputs": [],
   "source": [
    "#tuned_catboost"
   ]
  },
  {
   "cell_type": "code",
   "execution_count": 18,
   "id": "fc57c4ca",
   "metadata": {
    "execution": {
     "iopub.execute_input": "2023-04-15T22:34:58.639824Z",
     "iopub.status.busy": "2023-04-15T22:34:58.639011Z",
     "iopub.status.idle": "2023-04-15T22:34:58.643504Z",
     "shell.execute_reply": "2023-04-15T22:34:58.642632Z"
    },
    "papermill": {
     "duration": 0.024758,
     "end_time": "2023-04-15T22:34:58.645522",
     "exception": false,
     "start_time": "2023-04-15T22:34:58.620764",
     "status": "completed"
    },
    "tags": []
   },
   "outputs": [],
   "source": [
    "#tunerc"
   ]
  },
  {
   "cell_type": "code",
   "execution_count": 19,
   "id": "b7bedb6e",
   "metadata": {
    "execution": {
     "iopub.execute_input": "2023-04-15T22:34:58.681634Z",
     "iopub.status.busy": "2023-04-15T22:34:58.681335Z",
     "iopub.status.idle": "2023-04-15T22:34:58.685378Z",
     "shell.execute_reply": "2023-04-15T22:34:58.684385Z"
    },
    "papermill": {
     "duration": 0.024813,
     "end_time": "2023-04-15T22:34:58.687664",
     "exception": false,
     "start_time": "2023-04-15T22:34:58.662851",
     "status": "completed"
    },
    "tags": []
   },
   "outputs": [],
   "source": [
    "#plot_model(tuned_catboost , plot = 'error' ,use_train_data = False)"
   ]
  },
  {
   "cell_type": "code",
   "execution_count": null,
   "id": "b25bce87",
   "metadata": {
    "papermill": {
     "duration": 0.017141,
     "end_time": "2023-04-15T22:34:58.721879",
     "exception": false,
     "start_time": "2023-04-15T22:34:58.704738",
     "status": "completed"
    },
    "tags": []
   },
   "outputs": [],
   "source": []
  },
  {
   "cell_type": "code",
   "execution_count": 20,
   "id": "ffe83968",
   "metadata": {
    "execution": {
     "iopub.execute_input": "2023-04-15T22:34:58.757751Z",
     "iopub.status.busy": "2023-04-15T22:34:58.757433Z",
     "iopub.status.idle": "2023-04-15T22:34:58.981523Z",
     "shell.execute_reply": "2023-04-15T22:34:58.980500Z"
    },
    "papermill": {
     "duration": 0.245076,
     "end_time": "2023-04-15T22:34:58.984217",
     "exception": false,
     "start_time": "2023-04-15T22:34:58.739141",
     "status": "completed"
    },
    "tags": []
   },
   "outputs": [
    {
     "data": {
      "text/html": [],
      "text/plain": [
       "<IPython.core.display.HTML object>"
      ]
     },
     "metadata": {},
     "output_type": "display_data"
    }
   ],
   "source": [
    "predictions_xg = predict_model(xgboost, data=new_data)"
   ]
  },
  {
   "cell_type": "code",
   "execution_count": 21,
   "id": "2dd9dbbc",
   "metadata": {
    "execution": {
     "iopub.execute_input": "2023-04-15T22:34:59.021903Z",
     "iopub.status.busy": "2023-04-15T22:34:59.021296Z",
     "iopub.status.idle": "2023-04-15T22:34:59.040470Z",
     "shell.execute_reply": "2023-04-15T22:34:59.039417Z"
    },
    "papermill": {
     "duration": 0.040368,
     "end_time": "2023-04-15T22:34:59.042640",
     "exception": false,
     "start_time": "2023-04-15T22:34:59.002272",
     "status": "completed"
    },
    "tags": []
   },
   "outputs": [
    {
     "data": {
      "text/html": [
       "<div>\n",
       "<style scoped>\n",
       "    .dataframe tbody tr th:only-of-type {\n",
       "        vertical-align: middle;\n",
       "    }\n",
       "\n",
       "    .dataframe tbody tr th {\n",
       "        vertical-align: top;\n",
       "    }\n",
       "\n",
       "    .dataframe thead th {\n",
       "        text-align: right;\n",
       "    }\n",
       "</style>\n",
       "<table border=\"1\" class=\"dataframe\">\n",
       "  <thead>\n",
       "    <tr style=\"text-align: right;\">\n",
       "      <th></th>\n",
       "      <th>0</th>\n",
       "      <th>1</th>\n",
       "      <th>2</th>\n",
       "      <th>3</th>\n",
       "      <th>4</th>\n",
       "      <th>5</th>\n",
       "      <th>6</th>\n",
       "      <th>7</th>\n",
       "      <th>8</th>\n",
       "      <th>9</th>\n",
       "      <th>10</th>\n",
       "      <th>11</th>\n",
       "      <th>12</th>\n",
       "      <th>prediction_label</th>\n",
       "    </tr>\n",
       "  </thead>\n",
       "  <tbody>\n",
       "    <tr>\n",
       "      <th>0</th>\n",
       "      <td>1.4441</td>\n",
       "      <td>1.4422</td>\n",
       "      <td>1.4402</td>\n",
       "      <td>1.4428</td>\n",
       "      <td>1.4391</td>\n",
       "      <td>1.4386</td>\n",
       "      <td>1.4365</td>\n",
       "      <td>1.4327</td>\n",
       "      <td>1.4582</td>\n",
       "      <td>1.46</td>\n",
       "      <td>1.453</td>\n",
       "      <td>1.4475</td>\n",
       "      <td>1.4332</td>\n",
       "      <td>1083.050415</td>\n",
       "    </tr>\n",
       "  </tbody>\n",
       "</table>\n",
       "</div>"
      ],
      "text/plain": [
       "        0       1       2       3       4       5       6       7       8  \\\n",
       "0  1.4441  1.4422  1.4402  1.4428  1.4391  1.4386  1.4365  1.4327  1.4582   \n",
       "\n",
       "      9     10      11      12  prediction_label  \n",
       "0  1.46  1.453  1.4475  1.4332       1083.050415  "
      ]
     },
     "execution_count": 21,
     "metadata": {},
     "output_type": "execute_result"
    }
   ],
   "source": [
    "predictions_xg"
   ]
  },
  {
   "cell_type": "code",
   "execution_count": 22,
   "id": "22bd627d",
   "metadata": {
    "execution": {
     "iopub.execute_input": "2023-04-15T22:34:59.079060Z",
     "iopub.status.busy": "2023-04-15T22:34:59.078774Z",
     "iopub.status.idle": "2023-04-15T22:34:59.307658Z",
     "shell.execute_reply": "2023-04-15T22:34:59.306463Z"
    },
    "papermill": {
     "duration": 0.250012,
     "end_time": "2023-04-15T22:34:59.310182",
     "exception": false,
     "start_time": "2023-04-15T22:34:59.060170",
     "status": "completed"
    },
    "tags": []
   },
   "outputs": [
    {
     "data": {
      "text/html": [],
      "text/plain": [
       "<IPython.core.display.HTML object>"
      ]
     },
     "metadata": {},
     "output_type": "display_data"
    }
   ],
   "source": [
    "predictions_tunedxg = predict_model(tuned_xgboost, data=new_data)"
   ]
  },
  {
   "cell_type": "code",
   "execution_count": 23,
   "id": "a7c8f818",
   "metadata": {
    "execution": {
     "iopub.execute_input": "2023-04-15T22:34:59.347983Z",
     "iopub.status.busy": "2023-04-15T22:34:59.347284Z",
     "iopub.status.idle": "2023-04-15T22:34:59.365080Z",
     "shell.execute_reply": "2023-04-15T22:34:59.364005Z"
    },
    "papermill": {
     "duration": 0.040142,
     "end_time": "2023-04-15T22:34:59.368632",
     "exception": false,
     "start_time": "2023-04-15T22:34:59.328490",
     "status": "completed"
    },
    "tags": []
   },
   "outputs": [
    {
     "data": {
      "text/html": [
       "<div>\n",
       "<style scoped>\n",
       "    .dataframe tbody tr th:only-of-type {\n",
       "        vertical-align: middle;\n",
       "    }\n",
       "\n",
       "    .dataframe tbody tr th {\n",
       "        vertical-align: top;\n",
       "    }\n",
       "\n",
       "    .dataframe thead th {\n",
       "        text-align: right;\n",
       "    }\n",
       "</style>\n",
       "<table border=\"1\" class=\"dataframe\">\n",
       "  <thead>\n",
       "    <tr style=\"text-align: right;\">\n",
       "      <th></th>\n",
       "      <th>0</th>\n",
       "      <th>1</th>\n",
       "      <th>2</th>\n",
       "      <th>3</th>\n",
       "      <th>4</th>\n",
       "      <th>5</th>\n",
       "      <th>6</th>\n",
       "      <th>7</th>\n",
       "      <th>8</th>\n",
       "      <th>9</th>\n",
       "      <th>10</th>\n",
       "      <th>11</th>\n",
       "      <th>12</th>\n",
       "      <th>prediction_label</th>\n",
       "    </tr>\n",
       "  </thead>\n",
       "  <tbody>\n",
       "    <tr>\n",
       "      <th>0</th>\n",
       "      <td>1.4441</td>\n",
       "      <td>1.4422</td>\n",
       "      <td>1.4402</td>\n",
       "      <td>1.4428</td>\n",
       "      <td>1.4391</td>\n",
       "      <td>1.4386</td>\n",
       "      <td>1.4365</td>\n",
       "      <td>1.4327</td>\n",
       "      <td>1.4582</td>\n",
       "      <td>1.46</td>\n",
       "      <td>1.453</td>\n",
       "      <td>1.4475</td>\n",
       "      <td>1.4332</td>\n",
       "      <td>1104.530029</td>\n",
       "    </tr>\n",
       "  </tbody>\n",
       "</table>\n",
       "</div>"
      ],
      "text/plain": [
       "        0       1       2       3       4       5       6       7       8  \\\n",
       "0  1.4441  1.4422  1.4402  1.4428  1.4391  1.4386  1.4365  1.4327  1.4582   \n",
       "\n",
       "      9     10      11      12  prediction_label  \n",
       "0  1.46  1.453  1.4475  1.4332       1104.530029  "
      ]
     },
     "execution_count": 23,
     "metadata": {},
     "output_type": "execute_result"
    }
   ],
   "source": [
    "predictions_tunedxg"
   ]
  },
  {
   "cell_type": "code",
   "execution_count": 24,
   "id": "e734dfd6",
   "metadata": {
    "execution": {
     "iopub.execute_input": "2023-04-15T22:34:59.406783Z",
     "iopub.status.busy": "2023-04-15T22:34:59.406192Z",
     "iopub.status.idle": "2023-04-15T22:34:59.410913Z",
     "shell.execute_reply": "2023-04-15T22:34:59.410031Z"
    },
    "papermill": {
     "duration": 0.025955,
     "end_time": "2023-04-15T22:34:59.412979",
     "exception": false,
     "start_time": "2023-04-15T22:34:59.387024",
     "status": "completed"
    },
    "tags": []
   },
   "outputs": [],
   "source": [
    "#predictions_cat= predict_model(catboost, data=new_data)"
   ]
  },
  {
   "cell_type": "code",
   "execution_count": 25,
   "id": "23fbeb6b",
   "metadata": {
    "execution": {
     "iopub.execute_input": "2023-04-15T22:34:59.450444Z",
     "iopub.status.busy": "2023-04-15T22:34:59.450121Z",
     "iopub.status.idle": "2023-04-15T22:34:59.454249Z",
     "shell.execute_reply": "2023-04-15T22:34:59.453268Z"
    },
    "papermill": {
     "duration": 0.025347,
     "end_time": "2023-04-15T22:34:59.456319",
     "exception": false,
     "start_time": "2023-04-15T22:34:59.430972",
     "status": "completed"
    },
    "tags": []
   },
   "outputs": [],
   "source": [
    "#predictions_tunedcat = predict_model(tuned_catboost, data=new_data)"
   ]
  },
  {
   "cell_type": "code",
   "execution_count": 26,
   "id": "71d44b9d",
   "metadata": {
    "execution": {
     "iopub.execute_input": "2023-04-15T22:34:59.494691Z",
     "iopub.status.busy": "2023-04-15T22:34:59.493811Z",
     "iopub.status.idle": "2023-04-15T22:34:59.817394Z",
     "shell.execute_reply": "2023-04-15T22:34:59.816280Z"
    },
    "papermill": {
     "duration": 0.345907,
     "end_time": "2023-04-15T22:34:59.820178",
     "exception": false,
     "start_time": "2023-04-15T22:34:59.474271",
     "status": "completed"
    },
    "tags": []
   },
   "outputs": [
    {
     "data": {
      "text/html": [],
      "text/plain": [
       "<IPython.core.display.HTML object>"
      ]
     },
     "metadata": {},
     "output_type": "display_data"
    }
   ],
   "source": [
    "predictions_et = predict_model(et, data=new_data)"
   ]
  },
  {
   "cell_type": "code",
   "execution_count": 27,
   "id": "aa2ad279",
   "metadata": {
    "execution": {
     "iopub.execute_input": "2023-04-15T22:34:59.862158Z",
     "iopub.status.busy": "2023-04-15T22:34:59.861827Z",
     "iopub.status.idle": "2023-04-15T22:34:59.878834Z",
     "shell.execute_reply": "2023-04-15T22:34:59.877653Z"
    },
    "papermill": {
     "duration": 0.04136,
     "end_time": "2023-04-15T22:34:59.880954",
     "exception": false,
     "start_time": "2023-04-15T22:34:59.839594",
     "status": "completed"
    },
    "tags": []
   },
   "outputs": [
    {
     "data": {
      "text/html": [
       "<div>\n",
       "<style scoped>\n",
       "    .dataframe tbody tr th:only-of-type {\n",
       "        vertical-align: middle;\n",
       "    }\n",
       "\n",
       "    .dataframe tbody tr th {\n",
       "        vertical-align: top;\n",
       "    }\n",
       "\n",
       "    .dataframe thead th {\n",
       "        text-align: right;\n",
       "    }\n",
       "</style>\n",
       "<table border=\"1\" class=\"dataframe\">\n",
       "  <thead>\n",
       "    <tr style=\"text-align: right;\">\n",
       "      <th></th>\n",
       "      <th>0</th>\n",
       "      <th>1</th>\n",
       "      <th>2</th>\n",
       "      <th>3</th>\n",
       "      <th>4</th>\n",
       "      <th>5</th>\n",
       "      <th>6</th>\n",
       "      <th>7</th>\n",
       "      <th>8</th>\n",
       "      <th>9</th>\n",
       "      <th>10</th>\n",
       "      <th>11</th>\n",
       "      <th>12</th>\n",
       "      <th>prediction_label</th>\n",
       "    </tr>\n",
       "  </thead>\n",
       "  <tbody>\n",
       "    <tr>\n",
       "      <th>0</th>\n",
       "      <td>1.4441</td>\n",
       "      <td>1.4422</td>\n",
       "      <td>1.4402</td>\n",
       "      <td>1.4428</td>\n",
       "      <td>1.4391</td>\n",
       "      <td>1.4386</td>\n",
       "      <td>1.4365</td>\n",
       "      <td>1.4327</td>\n",
       "      <td>1.4582</td>\n",
       "      <td>1.46</td>\n",
       "      <td>1.453</td>\n",
       "      <td>1.4475</td>\n",
       "      <td>1.4332</td>\n",
       "      <td>1058.562364</td>\n",
       "    </tr>\n",
       "  </tbody>\n",
       "</table>\n",
       "</div>"
      ],
      "text/plain": [
       "        0       1       2       3       4       5       6       7       8  \\\n",
       "0  1.4441  1.4422  1.4402  1.4428  1.4391  1.4386  1.4365  1.4327  1.4582   \n",
       "\n",
       "      9     10      11      12  prediction_label  \n",
       "0  1.46  1.453  1.4475  1.4332       1058.562364  "
      ]
     },
     "execution_count": 27,
     "metadata": {},
     "output_type": "execute_result"
    }
   ],
   "source": [
    "predictions_et"
   ]
  },
  {
   "cell_type": "code",
   "execution_count": 28,
   "id": "0dc927c7",
   "metadata": {
    "execution": {
     "iopub.execute_input": "2023-04-15T22:34:59.920741Z",
     "iopub.status.busy": "2023-04-15T22:34:59.920469Z",
     "iopub.status.idle": "2023-04-15T22:34:59.924719Z",
     "shell.execute_reply": "2023-04-15T22:34:59.923634Z"
    },
    "papermill": {
     "duration": 0.026311,
     "end_time": "2023-04-15T22:34:59.926889",
     "exception": false,
     "start_time": "2023-04-15T22:34:59.900578",
     "status": "completed"
    },
    "tags": []
   },
   "outputs": [],
   "source": [
    "#best = compare_models(fold=5)"
   ]
  },
  {
   "cell_type": "code",
   "execution_count": 29,
   "id": "04519c17",
   "metadata": {
    "execution": {
     "iopub.execute_input": "2023-04-15T22:34:59.965537Z",
     "iopub.status.busy": "2023-04-15T22:34:59.964744Z",
     "iopub.status.idle": "2023-04-15T22:34:59.969329Z",
     "shell.execute_reply": "2023-04-15T22:34:59.968471Z"
    },
    "papermill": {
     "duration": 0.025855,
     "end_time": "2023-04-15T22:34:59.971211",
     "exception": false,
     "start_time": "2023-04-15T22:34:59.945356",
     "status": "completed"
    },
    "tags": []
   },
   "outputs": [],
   "source": [
    "#plot_model(best, plot = 'residuals')"
   ]
  },
  {
   "cell_type": "code",
   "execution_count": 30,
   "id": "b57af622",
   "metadata": {
    "execution": {
     "iopub.execute_input": "2023-04-15T22:35:00.010474Z",
     "iopub.status.busy": "2023-04-15T22:35:00.009692Z",
     "iopub.status.idle": "2023-04-15T22:35:00.015614Z",
     "shell.execute_reply": "2023-04-15T22:35:00.014412Z"
    },
    "papermill": {
     "duration": 0.027792,
     "end_time": "2023-04-15T22:35:00.017926",
     "exception": false,
     "start_time": "2023-04-15T22:34:59.990134",
     "status": "completed"
    },
    "tags": []
   },
   "outputs": [
    {
     "name": "stdout",
     "output_type": "stream",
     "text": [
      "ExtraTreesRegressor(n_jobs=-1, random_state=123)\n"
     ]
    }
   ],
   "source": [
    "print(et)"
   ]
  },
  {
   "cell_type": "code",
   "execution_count": 31,
   "id": "34db1616",
   "metadata": {
    "execution": {
     "iopub.execute_input": "2023-04-15T22:35:00.057536Z",
     "iopub.status.busy": "2023-04-15T22:35:00.056597Z",
     "iopub.status.idle": "2023-04-15T22:35:00.064620Z",
     "shell.execute_reply": "2023-04-15T22:35:00.063410Z"
    },
    "papermill": {
     "duration": 0.030461,
     "end_time": "2023-04-15T22:35:00.066737",
     "exception": false,
     "start_time": "2023-04-15T22:35:00.036276",
     "status": "completed"
    },
    "tags": []
   },
   "outputs": [
    {
     "name": "stdout",
     "output_type": "stream",
     "text": [
      "XGBRegressor(base_score=0.5, booster='gbtree', callbacks=None,\n",
      "             colsample_bylevel=1, colsample_bynode=1, colsample_bytree=1,\n",
      "             early_stopping_rounds=None, enable_categorical=False,\n",
      "             eval_metric=None, gamma=0, gpu_id=0, grow_policy='depthwise',\n",
      "             importance_type=None, interaction_constraints='',\n",
      "             learning_rate=0.300000012, max_bin=256, max_cat_to_onehot=4,\n",
      "             max_delta_step=0, max_depth=6, max_leaves=0, min_child_weight=1,\n",
      "             missing=nan, monotone_constraints='()', n_estimators=100,\n",
      "             n_jobs=-1, num_parallel_tree=1, predictor='auto', random_state=123,\n",
      "             reg_alpha=0, reg_lambda=1, ...)\n"
     ]
    }
   ],
   "source": [
    "print(xgboost)"
   ]
  },
  {
   "cell_type": "code",
   "execution_count": 32,
   "id": "cbd30eaf",
   "metadata": {
    "execution": {
     "iopub.execute_input": "2023-04-15T22:35:00.106726Z",
     "iopub.status.busy": "2023-04-15T22:35:00.106362Z",
     "iopub.status.idle": "2023-04-15T22:35:00.114616Z",
     "shell.execute_reply": "2023-04-15T22:35:00.113231Z"
    },
    "papermill": {
     "duration": 0.030711,
     "end_time": "2023-04-15T22:35:00.116758",
     "exception": false,
     "start_time": "2023-04-15T22:35:00.086047",
     "status": "completed"
    },
    "tags": []
   },
   "outputs": [
    {
     "name": "stdout",
     "output_type": "stream",
     "text": [
      "XGBRegressor(base_score=0.5, booster='gbtree', callbacks=None,\n",
      "             colsample_bylevel=1, colsample_bynode=1, colsample_bytree=0.9,\n",
      "             early_stopping_rounds=None, enable_categorical=False,\n",
      "             eval_metric=None, gamma=0, gpu_id=0, grow_policy='depthwise',\n",
      "             importance_type=None, interaction_constraints='',\n",
      "             learning_rate=0.05, max_bin=256, max_cat_to_onehot=4,\n",
      "             max_delta_step=0, max_depth=11, max_leaves=0, min_child_weight=3,\n",
      "             missing=nan, monotone_constraints='()', n_estimators=230,\n",
      "             n_jobs=-1, num_parallel_tree=1, predictor='auto', random_state=123,\n",
      "             reg_alpha=0.2, reg_lambda=2, ...)\n"
     ]
    }
   ],
   "source": [
    "print(tuned_xgboost)"
   ]
  },
  {
   "cell_type": "code",
   "execution_count": 33,
   "id": "3596481e",
   "metadata": {
    "execution": {
     "iopub.execute_input": "2023-04-15T22:35:00.156962Z",
     "iopub.status.busy": "2023-04-15T22:35:00.155946Z",
     "iopub.status.idle": "2023-04-15T22:35:03.330898Z",
     "shell.execute_reply": "2023-04-15T22:35:03.329877Z"
    },
    "papermill": {
     "duration": 3.198124,
     "end_time": "2023-04-15T22:35:03.333724",
     "exception": false,
     "start_time": "2023-04-15T22:35:00.135600",
     "status": "completed"
    },
    "tags": []
   },
   "outputs": [
    {
     "data": {
      "text/html": [],
      "text/plain": [
       "<IPython.core.display.HTML object>"
      ]
     },
     "metadata": {},
     "output_type": "display_data"
    },
    {
     "data": {
      "image/png": "[encoded data removed]",
      "text/plain": [
       "<Figure size 800x550 with 1 Axes>"
      ]
     },
     "metadata": {},
     "output_type": "display_data"
    }
   ],
   "source": [
    "plot_model(tuned_xgboost , plot = 'error' ,use_train_data = False)"
   ]
  },
  {
   "cell_type": "code",
   "execution_count": 34,
   "id": "0ff68548",
   "metadata": {
    "execution": {
     "iopub.execute_input": "2023-04-15T22:35:03.376004Z",
     "iopub.status.busy": "2023-04-15T22:35:03.375699Z",
     "iopub.status.idle": "2023-04-15T22:35:03.618808Z",
     "shell.execute_reply": "2023-04-15T22:35:03.617794Z"
    },
    "papermill": {
     "duration": 0.266574,
     "end_time": "2023-04-15T22:35:03.620947",
     "exception": false,
     "start_time": "2023-04-15T22:35:03.354373",
     "status": "completed"
    },
    "tags": []
   },
   "outputs": [
    {
     "name": "stdout",
     "output_type": "stream",
     "text": [
      "Transformation Pipeline and Model Successfully Saved\n"
     ]
    },
    {
     "data": {
      "text/plain": [
       "(Pipeline(memory=FastMemory(location=/tmp/joblib),\n",
       "          steps=[('numerical_imputer',\n",
       "                  TransformerWrapper(include=['0', '1', '2', '3', '4', '5', '6',\n",
       "                                              '7', '8', '9', '10', '11', '12'],\n",
       "                                     transformer=SimpleImputer())),\n",
       "                 ('categorical_imputer',\n",
       "                  TransformerWrapper(include=[],\n",
       "                                     transformer=SimpleImputer(strategy='most_frequent'))),\n",
       "                 ('normalize', TransformerWrapper(transformer=MinMaxSc...\n",
       "                               gamma=0, gpu_id=0, grow_policy='depthwise',\n",
       "                               importance_type=None, interaction_constraints='',\n",
       "                               learning_rate=0.300000012, max_bin=256,\n",
       "                               max_cat_to_onehot=4, max_delta_step=0,\n",
       "                               max_depth=6, max_leaves=0, min_child_weight=1,\n",
       "                               missing=nan, monotone_constraints='()',\n",
       "                               n_estimators=100, n_jobs=-1, num_parallel_tree=1,\n",
       "                               predictor='auto', random_state=123, reg_alpha=0,\n",
       "                               reg_lambda=1, ...))]),\n",
       " 'xgboost_model.pkl')"
      ]
     },
     "execution_count": 34,
     "metadata": {},
     "output_type": "execute_result"
    }
   ],
   "source": [
    "save_model(xgboost, 'xgboost_model')"
   ]
  },
  {
   "cell_type": "code",
   "execution_count": 35,
   "id": "15e39510",
   "metadata": {
    "execution": {
     "iopub.execute_input": "2023-04-15T22:35:03.663894Z",
     "iopub.status.busy": "2023-04-15T22:35:03.663431Z",
     "iopub.status.idle": "2023-04-15T22:35:03.931144Z",
     "shell.execute_reply": "2023-04-15T22:35:03.930252Z"
    },
    "papermill": {
     "duration": 0.291478,
     "end_time": "2023-04-15T22:35:03.933313",
     "exception": false,
     "start_time": "2023-04-15T22:35:03.641835",
     "status": "completed"
    },
    "tags": []
   },
   "outputs": [
    {
     "name": "stdout",
     "output_type": "stream",
     "text": [
      "Transformation Pipeline and Model Successfully Saved\n"
     ]
    },
    {
     "data": {
      "text/plain": [
       "(Pipeline(memory=FastMemory(location=/tmp/joblib),\n",
       "          steps=[('numerical_imputer',\n",
       "                  TransformerWrapper(include=['0', '1', '2', '3', '4', '5', '6',\n",
       "                                              '7', '8', '9', '10', '11', '12'],\n",
       "                                     transformer=SimpleImputer())),\n",
       "                 ('categorical_imputer',\n",
       "                  TransformerWrapper(include=[],\n",
       "                                     transformer=SimpleImputer(strategy='most_frequent'))),\n",
       "                 ('normalize', TransformerWrapper(transformer=MinMaxSc...\n",
       "                               gamma=0, gpu_id=0, grow_policy='depthwise',\n",
       "                               importance_type=None, interaction_constraints='',\n",
       "                               learning_rate=0.05, max_bin=256,\n",
       "                               max_cat_to_onehot=4, max_delta_step=0,\n",
       "                               max_depth=11, max_leaves=0, min_child_weight=3,\n",
       "                               missing=nan, monotone_constraints='()',\n",
       "                               n_estimators=230, n_jobs=-1, num_parallel_tree=1,\n",
       "                               predictor='auto', random_state=123, reg_alpha=0.2,\n",
       "                               reg_lambda=2, ...))]),\n",
       " 'tuned_xgboost_model.pkl')"
      ]
     },
     "execution_count": 35,
     "metadata": {},
     "output_type": "execute_result"
    }
   ],
   "source": [
    "save_model(tuned_xgboost, 'tuned_xgboost_model')"
   ]
  },
  {
   "cell_type": "code",
   "execution_count": 36,
   "id": "07006644",
   "metadata": {
    "execution": {
     "iopub.execute_input": "2023-04-15T22:35:03.979509Z",
     "iopub.status.busy": "2023-04-15T22:35:03.978472Z",
     "iopub.status.idle": "2023-04-15T22:35:03.983570Z",
     "shell.execute_reply": "2023-04-15T22:35:03.982505Z"
    },
    "papermill": {
     "duration": 0.031297,
     "end_time": "2023-04-15T22:35:03.985758",
     "exception": false,
     "start_time": "2023-04-15T22:35:03.954461",
     "status": "completed"
    },
    "tags": []
   },
   "outputs": [],
   "source": [
    "#save_model(catboost, 'catboost_model')"
   ]
  },
  {
   "cell_type": "code",
   "execution_count": 37,
   "id": "8d54c96b",
   "metadata": {
    "execution": {
     "iopub.execute_input": "2023-04-15T22:35:04.035165Z",
     "iopub.status.busy": "2023-04-15T22:35:04.034121Z",
     "iopub.status.idle": "2023-04-15T22:35:04.039279Z",
     "shell.execute_reply": "2023-04-15T22:35:04.038254Z"
    },
    "papermill": {
     "duration": 0.032428,
     "end_time": "2023-04-15T22:35:04.041724",
     "exception": false,
     "start_time": "2023-04-15T22:35:04.009296",
     "status": "completed"
    },
    "tags": []
   },
   "outputs": [],
   "source": [
    "#save_model(tuned_catboost, 'tuned_catboost_model')"
   ]
  },
  {
   "cell_type": "code",
   "execution_count": 38,
   "id": "5b7760bb",
   "metadata": {
    "execution": {
     "iopub.execute_input": "2023-04-15T22:35:04.091284Z",
     "iopub.status.busy": "2023-04-15T22:35:04.090935Z",
     "iopub.status.idle": "2023-04-15T22:35:05.692551Z",
     "shell.execute_reply": "2023-04-15T22:35:05.691459Z"
    },
    "papermill": {
     "duration": 1.634224,
     "end_time": "2023-04-15T22:35:05.699720",
     "exception": false,
     "start_time": "2023-04-15T22:35:04.065496",
     "status": "completed"
    },
    "tags": []
   },
   "outputs": [
    {
     "name": "stdout",
     "output_type": "stream",
     "text": [
      "Transformation Pipeline and Model Successfully Saved\n"
     ]
    },
    {
     "data": {
      "text/plain": [
       "(Pipeline(memory=FastMemory(location=/tmp/joblib),\n",
       "          steps=[('numerical_imputer',\n",
       "                  TransformerWrapper(include=['0', '1', '2', '3', '4', '5', '6',\n",
       "                                              '7', '8', '9', '10', '11', '12'],\n",
       "                                     transformer=SimpleImputer())),\n",
       "                 ('categorical_imputer',\n",
       "                  TransformerWrapper(include=[],\n",
       "                                     transformer=SimpleImputer(strategy='most_frequent'))),\n",
       "                 ('normalize', TransformerWrapper(transformer=MinMaxScaler())),\n",
       "                 ('trained_model',\n",
       "                  ExtraTreesRegressor(n_jobs=-1, random_state=123))]),\n",
       " 'extra_tree_reg.pkl')"
      ]
     },
     "execution_count": 38,
     "metadata": {},
     "output_type": "execute_result"
    }
   ],
   "source": [
    "save_model(et,\"extra_tree_reg\")"
   ]
  },
  {
   "cell_type": "code",
   "execution_count": 39,
   "id": "5aa9e6ab",
   "metadata": {
    "execution": {
     "iopub.execute_input": "2023-04-15T22:35:05.840474Z",
     "iopub.status.busy": "2023-04-15T22:35:05.839972Z",
     "iopub.status.idle": "2023-04-15T22:35:05.845447Z",
     "shell.execute_reply": "2023-04-15T22:35:05.844396Z"
    },
    "papermill": {
     "duration": 0.068464,
     "end_time": "2023-04-15T22:35:05.852396",
     "exception": false,
     "start_time": "2023-04-15T22:35:05.783932",
     "status": "completed"
    },
    "tags": []
   },
   "outputs": [],
   "source": [
    "#plot_model(et , plot = 'error' ,use_train_data = False)"
   ]
  },
  {
   "cell_type": "code",
   "execution_count": 40,
   "id": "2ed71e6a",
   "metadata": {
    "execution": {
     "iopub.execute_input": "2023-04-15T22:35:06.027256Z",
     "iopub.status.busy": "2023-04-15T22:35:06.026567Z",
     "iopub.status.idle": "2023-04-15T22:35:06.032824Z",
     "shell.execute_reply": "2023-04-15T22:35:06.031526Z"
    },
    "papermill": {
     "duration": 0.09302,
     "end_time": "2023-04-15T22:35:06.039818",
     "exception": false,
     "start_time": "2023-04-15T22:35:05.946798",
     "status": "completed"
    },
    "tags": []
   },
   "outputs": [],
   "source": [
    "#loaded_model_cat = load_model('tuned_catboost_model')\n",
    "#print(loaded_model_cat)"
   ]
  },
  {
   "cell_type": "code",
   "execution_count": 41,
   "id": "ea8c2c02",
   "metadata": {
    "execution": {
     "iopub.execute_input": "2023-04-15T22:35:06.215943Z",
     "iopub.status.busy": "2023-04-15T22:35:06.215383Z",
     "iopub.status.idle": "2023-04-15T22:35:06.318840Z",
     "shell.execute_reply": "2023-04-15T22:35:06.316996Z"
    },
    "papermill": {
     "duration": 0.187003,
     "end_time": "2023-04-15T22:35:06.321500",
     "exception": false,
     "start_time": "2023-04-15T22:35:06.134497",
     "status": "completed"
    },
    "tags": []
   },
   "outputs": [
    {
     "name": "stdout",
     "output_type": "stream",
     "text": [
      "Transformation Pipeline and Model Successfully Loaded\n",
      "Pipeline(memory=FastMemory(location=/tmp/joblib),\n",
      "         steps=[('numerical_imputer',\n",
      "                 TransformerWrapper(include=['0', '1', '2', '3', '4', '5', '6',\n",
      "                                             '7', '8', '9', '10', '11', '12'],\n",
      "                                    transformer=SimpleImputer())),\n",
      "                ('categorical_imputer',\n",
      "                 TransformerWrapper(include=[],\n",
      "                                    transformer=SimpleImputer(strategy='most_frequent'))),\n",
      "                ('normalize', TransformerWrapper(transformer=MinMaxSc...\n",
      "                              gamma=0, gpu_id=0, grow_policy='depthwise',\n",
      "                              importance_type=None, interaction_constraints='',\n",
      "                              learning_rate=0.05, max_bin=256,\n",
      "                              max_cat_to_onehot=4, max_delta_step=0,\n",
      "                              max_depth=11, max_leaves=0, min_child_weight=3,\n",
      "                              missing=nan, monotone_constraints='()',\n",
      "                              n_estimators=230, n_jobs=-1, num_parallel_tree=1,\n",
      "                              predictor='auto', random_state=123, reg_alpha=0.2,\n",
      "                              reg_lambda=2, ...))])\n"
     ]
    }
   ],
   "source": [
    "loaded_model_xg = load_model('tuned_xgboost_model')\n",
    "print(loaded_model_xg)"
   ]
  },
  {
   "cell_type": "code",
   "execution_count": 42,
   "id": "8481da3d",
   "metadata": {
    "execution": {
     "iopub.execute_input": "2023-04-15T22:35:06.421667Z",
     "iopub.status.busy": "2023-04-15T22:35:06.421097Z",
     "iopub.status.idle": "2023-04-15T22:35:06.760079Z",
     "shell.execute_reply": "2023-04-15T22:35:06.758595Z"
    },
    "papermill": {
     "duration": 0.369636,
     "end_time": "2023-04-15T22:35:06.761647",
     "exception": true,
     "start_time": "2023-04-15T22:35:06.392011",
     "status": "failed"
    },
    "tags": []
   },
   "outputs": [
    {
     "ename": "FileNotFoundError",
     "evalue": "[Errno 2] No such file or directory: 'et.pkl'",
     "output_type": "error",
     "traceback": [
      "\u001b[0;31m---------------------------------------------------------------------------\u001b[0m",
      "\u001b[0;31mFileNotFoundError\u001b[0m                         Traceback (most recent call last)",
      "\u001b[0;32m/tmp/ipykernel_23/3084630873.py\u001b[0m in \u001b[0;36m<module>\u001b[0;34m\u001b[0m\n\u001b[0;32m----> 1\u001b[0;31m \u001b[0mloaded_model_et\u001b[0m \u001b[0;34m=\u001b[0m \u001b[0mload_model\u001b[0m\u001b[0;34m(\u001b[0m\u001b[0;34m'et'\u001b[0m\u001b[0;34m)\u001b[0m\u001b[0;34m\u001b[0m\u001b[0;34m\u001b[0m\u001b[0m\n\u001b[0m\u001b[1;32m      2\u001b[0m \u001b[0mprint\u001b[0m\u001b[0;34m(\u001b[0m\u001b[0mloaded_model_et\u001b[0m\u001b[0;34m)\u001b[0m\u001b[0;34m\u001b[0m\u001b[0;34m\u001b[0m\u001b[0m\n",
      "\u001b[0;32m/opt/conda/lib/python3.7/site-packages/pycaret/regression/functional.py\u001b[0m in \u001b[0;36mload_model\u001b[0;34m(model_name, platform, authentication, verbose)\u001b[0m\n\u001b[1;32m   2199\u001b[0m         \u001b[0mplatform\u001b[0m\u001b[0;34m=\u001b[0m\u001b[0mplatform\u001b[0m\u001b[0;34m,\u001b[0m\u001b[0;34m\u001b[0m\u001b[0;34m\u001b[0m\u001b[0m\n\u001b[1;32m   2200\u001b[0m         \u001b[0mauthentication\u001b[0m\u001b[0;34m=\u001b[0m\u001b[0mauthentication\u001b[0m\u001b[0;34m,\u001b[0m\u001b[0;34m\u001b[0m\u001b[0;34m\u001b[0m\u001b[0m\n\u001b[0;32m-> 2201\u001b[0;31m         \u001b[0mverbose\u001b[0m\u001b[0;34m=\u001b[0m\u001b[0mverbose\u001b[0m\u001b[0;34m,\u001b[0m\u001b[0;34m\u001b[0m\u001b[0;34m\u001b[0m\u001b[0m\n\u001b[0m\u001b[1;32m   2202\u001b[0m     )\n\u001b[1;32m   2203\u001b[0m \u001b[0;34m\u001b[0m\u001b[0m\n",
      "\u001b[0;32m/opt/conda/lib/python3.7/site-packages/pycaret/regression/oop.py\u001b[0m in \u001b[0;36mload_model\u001b[0;34m(self, model_name, platform, authentication, verbose)\u001b[0m\n\u001b[1;32m   2490\u001b[0m             \u001b[0mplatform\u001b[0m\u001b[0;34m=\u001b[0m\u001b[0mplatform\u001b[0m\u001b[0;34m,\u001b[0m\u001b[0;34m\u001b[0m\u001b[0;34m\u001b[0m\u001b[0m\n\u001b[1;32m   2491\u001b[0m             \u001b[0mauthentication\u001b[0m\u001b[0;34m=\u001b[0m\u001b[0mauthentication\u001b[0m\u001b[0;34m,\u001b[0m\u001b[0;34m\u001b[0m\u001b[0;34m\u001b[0m\u001b[0m\n\u001b[0;32m-> 2492\u001b[0;31m             \u001b[0mverbose\u001b[0m\u001b[0;34m=\u001b[0m\u001b[0mverbose\u001b[0m\u001b[0;34m,\u001b[0m\u001b[0;34m\u001b[0m\u001b[0;34m\u001b[0m\u001b[0m\n\u001b[0m\u001b[1;32m   2493\u001b[0m         )\n\u001b[1;32m   2494\u001b[0m \u001b[0;34m\u001b[0m\u001b[0m\n",
      "\u001b[0;32m/opt/conda/lib/python3.7/site-packages/pycaret/internal/pycaret_experiment/tabular_experiment.py\u001b[0m in \u001b[0;36mload_model\u001b[0;34m(self, model_name, platform, authentication, verbose)\u001b[0m\n\u001b[1;32m   2472\u001b[0m \u001b[0;34m\u001b[0m\u001b[0m\n\u001b[1;32m   2473\u001b[0m         return pycaret.internal.persistence.load_model(\n\u001b[0;32m-> 2474\u001b[0;31m             \u001b[0mmodel_name\u001b[0m\u001b[0;34m,\u001b[0m \u001b[0mplatform\u001b[0m\u001b[0;34m,\u001b[0m \u001b[0mauthentication\u001b[0m\u001b[0;34m,\u001b[0m \u001b[0mverbose\u001b[0m\u001b[0;34m\u001b[0m\u001b[0;34m\u001b[0m\u001b[0m\n\u001b[0m\u001b[1;32m   2475\u001b[0m         )\n\u001b[1;32m   2476\u001b[0m \u001b[0;34m\u001b[0m\u001b[0m\n",
      "\u001b[0;32m/opt/conda/lib/python3.7/site-packages/pycaret/internal/persistence.py\u001b[0m in \u001b[0;36mload_model\u001b[0;34m(model_name, platform, authentication, verbose)\u001b[0m\n\u001b[1;32m    389\u001b[0m     \u001b[0;32mif\u001b[0m \u001b[0;32mnot\u001b[0m \u001b[0mplatform\u001b[0m\u001b[0;34m:\u001b[0m\u001b[0;34m\u001b[0m\u001b[0;34m\u001b[0m\u001b[0m\n\u001b[1;32m    390\u001b[0m         \u001b[0mmodel_name\u001b[0m \u001b[0;34m=\u001b[0m \u001b[0;34mf\"{model_name}.pkl\"\u001b[0m\u001b[0;34m\u001b[0m\u001b[0;34m\u001b[0m\u001b[0m\n\u001b[0;32m--> 391\u001b[0;31m         \u001b[0mmodel\u001b[0m \u001b[0;34m=\u001b[0m \u001b[0mjoblib\u001b[0m\u001b[0;34m.\u001b[0m\u001b[0mload\u001b[0m\u001b[0;34m(\u001b[0m\u001b[0mmodel_name\u001b[0m\u001b[0;34m)\u001b[0m\u001b[0;34m\u001b[0m\u001b[0;34m\u001b[0m\u001b[0m\n\u001b[0m\u001b[1;32m    392\u001b[0m         \u001b[0;32mif\u001b[0m \u001b[0mverbose\u001b[0m\u001b[0;34m:\u001b[0m\u001b[0;34m\u001b[0m\u001b[0;34m\u001b[0m\u001b[0m\n\u001b[1;32m    393\u001b[0m             \u001b[0mprint\u001b[0m\u001b[0;34m(\u001b[0m\u001b[0;34m\"Transformation Pipeline and Model Successfully Loaded\"\u001b[0m\u001b[0;34m)\u001b[0m\u001b[0;34m\u001b[0m\u001b[0;34m\u001b[0m\u001b[0m\n",
      "\u001b[0;32m/opt/conda/lib/python3.7/site-packages/joblib/numpy_pickle.py\u001b[0m in \u001b[0;36mload\u001b[0;34m(filename, mmap_mode)\u001b[0m\n\u001b[1;32m    648\u001b[0m             \u001b[0mobj\u001b[0m \u001b[0;34m=\u001b[0m \u001b[0m_unpickle\u001b[0m\u001b[0;34m(\u001b[0m\u001b[0mfobj\u001b[0m\u001b[0;34m)\u001b[0m\u001b[0;34m\u001b[0m\u001b[0;34m\u001b[0m\u001b[0m\n\u001b[1;32m    649\u001b[0m     \u001b[0;32melse\u001b[0m\u001b[0;34m:\u001b[0m\u001b[0;34m\u001b[0m\u001b[0;34m\u001b[0m\u001b[0m\n\u001b[0;32m--> 650\u001b[0;31m         \u001b[0;32mwith\u001b[0m \u001b[0mopen\u001b[0m\u001b[0;34m(\u001b[0m\u001b[0mfilename\u001b[0m\u001b[0;34m,\u001b[0m \u001b[0;34m'rb'\u001b[0m\u001b[0;34m)\u001b[0m \u001b[0;32mas\u001b[0m \u001b[0mf\u001b[0m\u001b[0;34m:\u001b[0m\u001b[0;34m\u001b[0m\u001b[0;34m\u001b[0m\u001b[0m\n\u001b[0m\u001b[1;32m    651\u001b[0m             \u001b[0;32mwith\u001b[0m \u001b[0m_read_fileobject\u001b[0m\u001b[0;34m(\u001b[0m\u001b[0mf\u001b[0m\u001b[0;34m,\u001b[0m \u001b[0mfilename\u001b[0m\u001b[0;34m,\u001b[0m \u001b[0mmmap_mode\u001b[0m\u001b[0;34m)\u001b[0m \u001b[0;32mas\u001b[0m \u001b[0mfobj\u001b[0m\u001b[0;34m:\u001b[0m\u001b[0;34m\u001b[0m\u001b[0;34m\u001b[0m\u001b[0m\n\u001b[1;32m    652\u001b[0m                 \u001b[0;32mif\u001b[0m \u001b[0misinstance\u001b[0m\u001b[0;34m(\u001b[0m\u001b[0mfobj\u001b[0m\u001b[0;34m,\u001b[0m \u001b[0mstr\u001b[0m\u001b[0;34m)\u001b[0m\u001b[0;34m:\u001b[0m\u001b[0;34m\u001b[0m\u001b[0;34m\u001b[0m\u001b[0m\n",
      "\u001b[0;31mFileNotFoundError\u001b[0m: [Errno 2] No such file or directory: 'et.pkl'"
     ]
    }
   ],
   "source": [
    "loaded_model_et = load_model('et')\n",
    "print(loaded_model_et)"
   ]
  },
  {
   "cell_type": "code",
   "execution_count": null,
   "id": "aadb8349",
   "metadata": {
    "papermill": {
     "duration": null,
     "end_time": null,
     "exception": null,
     "start_time": null,
     "status": "pending"
    },
    "tags": []
   },
   "outputs": [],
   "source": [
    "#plot_model(rf , plot = 'error' ,use_train_data = False)"
   ]
  },
  {
   "cell_type": "code",
   "execution_count": null,
   "id": "fb25c5f3",
   "metadata": {
    "execution": {
     "iopub.execute_input": "2023-04-15T14:19:27.182335Z",
     "iopub.status.busy": "2023-04-15T14:19:27.181732Z",
     "iopub.status.idle": "2023-04-15T14:19:36.354384Z",
     "shell.execute_reply": "2023-04-15T14:19:36.353389Z",
     "shell.execute_reply.started": "2023-04-15T14:19:27.182294Z"
    },
    "papermill": {
     "duration": null,
     "end_time": null,
     "exception": null,
     "start_time": null,
     "status": "pending"
    },
    "tags": []
   },
   "outputs": [],
   "source": [
    "#plot_model(rf , plot = 'error')"
   ]
  },
  {
   "cell_type": "code",
   "execution_count": null,
   "id": "1eb5c46e",
   "metadata": {
    "execution": {
     "iopub.execute_input": "2023-04-15T14:25:46.104671Z",
     "iopub.status.busy": "2023-04-15T14:25:46.101633Z",
     "iopub.status.idle": "2023-04-15T14:31:06.540904Z",
     "shell.execute_reply": "2023-04-15T14:31:06.538759Z",
     "shell.execute_reply.started": "2023-04-15T14:25:46.104596Z"
    },
    "papermill": {
     "duration": null,
     "end_time": null,
     "exception": null,
     "start_time": null,
     "status": "pending"
    },
    "tags": []
   },
   "outputs": [],
   "source": [
    "# tune hyperparameters of dt\n",
    "#tuned_rf = tune_model(rf ,fold=3,n_iter=5)"
   ]
  },
  {
   "cell_type": "code",
   "execution_count": null,
   "id": "c8aa3810",
   "metadata": {
    "papermill": {
     "duration": null,
     "end_time": null,
     "exception": null,
     "start_time": null,
     "status": "pending"
    },
    "tags": []
   },
   "outputs": [],
   "source": [
    "#tuned_et, tuner = tune_model(et, return_tuner=True)\n"
   ]
  },
  {
   "cell_type": "code",
   "execution_count": null,
   "id": "4dac45e2",
   "metadata": {
    "papermill": {
     "duration": null,
     "end_time": null,
     "exception": null,
     "start_time": null,
     "status": "pending"
    },
    "tags": []
   },
   "outputs": [],
   "source": [
    "#tuned_et"
   ]
  },
  {
   "cell_type": "code",
   "execution_count": null,
   "id": "4746f633",
   "metadata": {
    "papermill": {
     "duration": null,
     "end_time": null,
     "exception": null,
     "start_time": null,
     "status": "pending"
    },
    "tags": []
   },
   "outputs": [],
   "source": [
    "#tuner"
   ]
  }
 ],
 "metadata": {
  "kernelspec": {
   "display_name": "Python 3",
   "language": "python",
   "name": "python3"
  },
  "language_info": {
   "codemirror_mode": {
    "name": "ipython",
    "version": 3
   },
   "file_extension": ".py",
   "mimetype": "text/x-python",
   "name": "python",
   "nbconvert_exporter": "python",
   "pygments_lexer": "ipython3",
   "version": "3.7.12"
  },
  "papermill": {
   "default_parameters": {},
   "duration": 10361.681176,
   "end_time": "2023-04-15T22:35:09.528595",
   "environment_variables": {},
   "exception": true,
   "input_path": "__notebook__.ipynb",
   "output_path": "__notebook__.ipynb",
   "parameters": {},
   "start_time": "2023-04-15T19:42:27.847419",
   "version": "2.4.0"
  },
  "widgets": {
   "application/vnd.jupyter.widget-state+json": {
    "state": {
     "02d0dc54352f4206b4e3bdc51ffe3bd6": {
      "model_module": "@jupyter-widgets/controls",
      "model_module_version": "1.5.0",
      "model_name": "DescriptionStyleModel",
      "state": {
       "_model_module": "@jupyter-widgets/controls",
       "_model_module_version": "1.5.0",
       "_model_name": "DescriptionStyleModel",
       "_view_count": null,
       "_view_module": "@jupyter-widgets/base",
       "_view_module_version": "1.2.0",
       "_view_name": "StyleView",
       "description_width": ""
      }
     },
     "048ade0245e24f15aa3ec3ebffd52bbe": {
      "model_module": "@jupyter-widgets/controls",
      "model_module_version": "1.5.0",
      "model_name": "HTMLModel",
      "state": {
       "_dom_classes": [],
       "_model_module": "@jupyter-widgets/controls",
       "_model_module_version": "1.5.0",
       "_model_name": "HTMLModel",
       "_view_count": null,
       "_view_module": "@jupyter-widgets/controls",
       "_view_module_version": "1.5.0",
       "_view_name": "HTMLView",
       "description": "",
       "description_tooltip": null,
       "layout": "IPY_MODEL_7bd7a77a863642ebaeae17353e234afb",
       "placeholder": "​",
       "style": "IPY_MODEL_464208935a1e465c82316ca368a71063",
       "value": "Processing: 100%"
      }
     },
     "0962a65f2fa245e1862621a6d88f4894": {
      "model_module": "@jupyter-widgets/controls",
      "model_module_version": "1.5.0",
      "model_name": "ProgressStyleModel",
      "state": {
       "_model_module": "@jupyter-widgets/controls",
       "_model_module_version": "1.5.0",
       "_model_name": "ProgressStyleModel",
       "_view_count": null,
       "_view_module": "@jupyter-widgets/base",
       "_view_module_version": "1.2.0",
       "_view_name": "StyleView",
       "bar_color": null,
       "description_width": ""
      }
     },
     "0c45e5a4a3b241a19dddde48a562c037": {
      "model_module": "@jupyter-widgets/controls",
      "model_module_version": "1.5.0",
      "model_name": "ProgressStyleModel",
      "state": {
       "_model_module": "@jupyter-widgets/controls",
       "_model_module_version": "1.5.0",
       "_model_name": "ProgressStyleModel",
       "_view_count": null,
       "_view_module": "@jupyter-widgets/base",
       "_view_module_version": "1.2.0",
       "_view_name": "StyleView",
       "bar_color": null,
       "description_width": ""
      }
     },
     "1779f8381c04413f8942a5b7556792bf": {
      "model_module": "@jupyter-widgets/controls",
      "model_module_version": "1.5.0",
      "model_name": "DescriptionStyleModel",
      "state": {
       "_model_module": "@jupyter-widgets/controls",
       "_model_module_version": "1.5.0",
       "_model_name": "DescriptionStyleModel",
       "_view_count": null,
       "_view_module": "@jupyter-widgets/base",
       "_view_module_version": "1.2.0",
       "_view_name": "StyleView",
       "description_width": ""
      }
     },
     "29b4fdee04b841b9a649a09451e18dec": {
      "model_module": "@jupyter-widgets/controls",
      "model_module_version": "1.5.0",
      "model_name": "HBoxModel",
      "state": {
       "_dom_classes": [],
       "_model_module": "@jupyter-widgets/controls",
       "_model_module_version": "1.5.0",
       "_model_name": "HBoxModel",
       "_view_count": null,
       "_view_module": "@jupyter-widgets/controls",
       "_view_module_version": "1.5.0",
       "_view_name": "HBoxView",
       "box_style": "",
       "children": [
        "IPY_MODEL_4cbbe9d55d1c4779a756f772f959c2c4",
        "IPY_MODEL_b761e657b411408bb4fbe6bd01e58472",
        "IPY_MODEL_9c574f71513c4646ac9be4fb8bc987eb"
       ],
       "layout": "IPY_MODEL_a71c9e7bccd54f5f92e641216e44d3ad"
      }
     },
     "464208935a1e465c82316ca368a71063": {
      "model_module": "@jupyter-widgets/controls",
      "model_module_version": "1.5.0",
      "model_name": "DescriptionStyleModel",
      "state": {
       "_model_module": "@jupyter-widgets/controls",
       "_model_module_version": "1.5.0",
       "_model_name": "DescriptionStyleModel",
       "_view_count": null,
       "_view_module": "@jupyter-widgets/base",
       "_view_module_version": "1.2.0",
       "_view_name": "StyleView",
       "description_width": ""
      }
     },
     "4cbbe9d55d1c4779a756f772f959c2c4": {
      "model_module": "@jupyter-widgets/controls",
      "model_module_version": "1.5.0",
      "model_name": "HTMLModel",
      "state": {
       "_dom_classes": [],
       "_model_module": "@jupyter-widgets/controls",
       "_model_module_version": "1.5.0",
       "_model_name": "HTMLModel",
       "_view_count": null,
       "_view_module": "@jupyter-widgets/controls",
       "_view_module_version": "1.5.0",
       "_view_name": "HTMLView",
       "description": "",
       "description_tooltip": null,
       "layout": "IPY_MODEL_4f825e4d71f34e1683aca5fc00677bcb",
       "placeholder": "​",
       "style": "IPY_MODEL_a60050218abd43f794384f714b88fc59",
       "value": "Processing: 100%"
      }
     },
     "4e700360ef0145d6a52d8ef2733aad4c": {
      "model_module": "@jupyter-widgets/controls",
      "model_module_version": "1.5.0",
      "model_name": "FloatProgressModel",
      "state": {
       "_dom_classes": [],
       "_model_module": "@jupyter-widgets/controls",
       "_model_module_version": "1.5.0",
       "_model_name": "FloatProgressModel",
       "_view_count": null,
       "_view_module": "@jupyter-widgets/controls",
       "_view_module_version": "1.5.0",
       "_view_name": "ProgressView",
       "bar_style": "",
       "description": "",
       "description_tooltip": null,
       "layout": "IPY_MODEL_c1d5db49d01941308da718516117f24a",
       "max": 4.0,
       "min": 0.0,
       "orientation": "horizontal",
       "style": "IPY_MODEL_c31b1e0a5f844550b0c51b6d4301a87c",
       "value": 4.0
      }
     },
     "4f825e4d71f34e1683aca5fc00677bcb": {
      "model_module": "@jupyter-widgets/base",
      "model_module_version": "1.2.0",
      "model_name": "LayoutModel",
      "state": {
       "_model_module": "@jupyter-widgets/base",
       "_model_module_version": "1.2.0",
       "_model_name": "LayoutModel",
       "_view_count": null,
       "_view_module": "@jupyter-widgets/base",
       "_view_module_version": "1.2.0",
       "_view_name": "LayoutView",
       "align_content": null,
       "align_items": null,
       "align_self": null,
       "border": null,
       "bottom": null,
       "display": null,
       "flex": null,
       "flex_flow": null,
       "grid_area": null,
       "grid_auto_columns": null,
       "grid_auto_flow": null,
       "grid_auto_rows": null,
       "grid_column": null,
       "grid_gap": null,
       "grid_row": null,
       "grid_template_areas": null,
       "grid_template_columns": null,
       "grid_template_rows": null,
       "height": null,
       "justify_content": null,
       "justify_items": null,
       "left": null,
       "margin": null,
       "max_height": null,
       "max_width": null,
       "min_height": null,
       "min_width": null,
       "object_fit": null,
       "object_position": null,
       "order": null,
       "overflow": null,
       "overflow_x": null,
       "overflow_y": null,
       "padding": null,
       "right": null,
       "top": null,
       "visibility": null,
       "width": null
      }
     },
     "4fa7d667c7324b59abfab70ef0c9c116": {
      "model_module": "@jupyter-widgets/controls",
      "model_module_version": "1.5.0",
      "model_name": "FloatProgressModel",
      "state": {
       "_dom_classes": [],
       "_model_module": "@jupyter-widgets/controls",
       "_model_module_version": "1.5.0",
       "_model_name": "FloatProgressModel",
       "_view_count": null,
       "_view_module": "@jupyter-widgets/controls",
       "_view_module_version": "1.5.0",
       "_view_name": "ProgressView",
       "bar_style": "",
       "description": "",
       "description_tooltip": null,
       "layout": "IPY_MODEL_50d93ad8ab4847ee9f18d50213611e7c",
       "max": 4.0,
       "min": 0.0,
       "orientation": "horizontal",
       "style": "IPY_MODEL_0962a65f2fa245e1862621a6d88f4894",
       "value": 4.0
      }
     },
     "50d93ad8ab4847ee9f18d50213611e7c": {
      "model_module": "@jupyter-widgets/base",
      "model_module_version": "1.2.0",
      "model_name": "LayoutModel",
      "state": {
       "_model_module": "@jupyter-widgets/base",
       "_model_module_version": "1.2.0",
       "_model_name": "LayoutModel",
       "_view_count": null,
       "_view_module": "@jupyter-widgets/base",
       "_view_module_version": "1.2.0",
       "_view_name": "LayoutView",
       "align_content": null,
       "align_items": null,
       "align_self": null,
       "border": null,
       "bottom": null,
       "display": null,
       "flex": null,
       "flex_flow": null,
       "grid_area": null,
       "grid_auto_columns": null,
       "grid_auto_flow": null,
       "grid_auto_rows": null,
       "grid_column": null,
       "grid_gap": null,
       "grid_row": null,
       "grid_template_areas": null,
       "grid_template_columns": null,
       "grid_template_rows": null,
       "height": null,
       "justify_content": null,
       "justify_items": null,
       "left": null,
       "margin": null,
       "max_height": null,
       "max_width": null,
       "min_height": null,
       "min_width": null,
       "object_fit": null,
       "object_position": null,
       "order": null,
       "overflow": null,
       "overflow_x": null,
       "overflow_y": null,
       "padding": null,
       "right": null,
       "top": null,
       "visibility": null,
       "width": null
      }
     },
     "5dae5ef28d5642d99828dbc262d7f9f1": {
      "model_module": "@jupyter-widgets/base",
      "model_module_version": "1.2.0",
      "model_name": "LayoutModel",
      "state": {
       "_model_module": "@jupyter-widgets/base",
       "_model_module_version": "1.2.0",
       "_model_name": "LayoutModel",
       "_view_count": null,
       "_view_module": "@jupyter-widgets/base",
       "_view_module_version": "1.2.0",
       "_view_name": "LayoutView",
       "align_content": null,
       "align_items": null,
       "align_self": null,
       "border": null,
       "bottom": null,
       "display": null,
       "flex": null,
       "flex_flow": null,
       "grid_area": null,
       "grid_auto_columns": null,
       "grid_auto_flow": null,
       "grid_auto_rows": null,
       "grid_column": null,
       "grid_gap": null,
       "grid_row": null,
       "grid_template_areas": null,
       "grid_template_columns": null,
       "grid_template_rows": null,
       "height": null,
       "justify_content": null,
       "justify_items": null,
       "left": null,
       "margin": null,
       "max_height": null,
       "max_width": null,
       "min_height": null,
       "min_width": null,
       "object_fit": null,
       "object_position": null,
       "order": null,
       "overflow": null,
       "overflow_x": null,
       "overflow_y": null,
       "padding": null,
       "right": null,
       "top": null,
       "visibility": null,
       "width": null
      }
     },
     "7bd7a77a863642ebaeae17353e234afb": {
      "model_module": "@jupyter-widgets/base",
      "model_module_version": "1.2.0",
      "model_name": "LayoutModel",
      "state": {
       "_model_module": "@jupyter-widgets/base",
       "_model_module_version": "1.2.0",
       "_model_name": "LayoutModel",
       "_view_count": null,
       "_view_module": "@jupyter-widgets/base",
       "_view_module_version": "1.2.0",
       "_view_name": "LayoutView",
       "align_content": null,
       "align_items": null,
       "align_self": null,
       "border": null,
       "bottom": null,
       "display": null,
       "flex": null,
       "flex_flow": null,
       "grid_area": null,
       "grid_auto_columns": null,
       "grid_auto_flow": null,
       "grid_auto_rows": null,
       "grid_column": null,
       "grid_gap": null,
       "grid_row": null,
       "grid_template_areas": null,
       "grid_template_columns": null,
       "grid_template_rows": null,
       "height": null,
       "justify_content": null,
       "justify_items": null,
       "left": null,
       "margin": null,
       "max_height": null,
       "max_width": null,
       "min_height": null,
       "min_width": null,
       "object_fit": null,
       "object_position": null,
       "order": null,
       "overflow": null,
       "overflow_x": null,
       "overflow_y": null,
       "padding": null,
       "right": null,
       "top": null,
       "visibility": null,
       "width": null
      }
     },
     "7c8cc55cf7ee44389ab1d9e98fb5b744": {
      "model_module": "@jupyter-widgets/base",
      "model_module_version": "1.2.0",
      "model_name": "LayoutModel",
      "state": {
       "_model_module": "@jupyter-widgets/base",
       "_model_module_version": "1.2.0",
       "_model_name": "LayoutModel",
       "_view_count": null,
       "_view_module": "@jupyter-widgets/base",
       "_view_module_version": "1.2.0",
       "_view_name": "LayoutView",
       "align_content": null,
       "align_items": null,
       "align_self": null,
       "border": null,
       "bottom": null,
       "display": null,
       "flex": null,
       "flex_flow": null,
       "grid_area": null,
       "grid_auto_columns": null,
       "grid_auto_flow": null,
       "grid_auto_rows": null,
       "grid_column": null,
       "grid_gap": null,
       "grid_row": null,
       "grid_template_areas": null,
       "grid_template_columns": null,
       "grid_template_rows": null,
       "height": null,
       "justify_content": null,
       "justify_items": null,
       "left": null,
       "margin": null,
       "max_height": null,
       "max_width": null,
       "min_height": null,
       "min_width": null,
       "object_fit": null,
       "object_position": null,
       "order": null,
       "overflow": null,
       "overflow_x": null,
       "overflow_y": null,
       "padding": null,
       "right": null,
       "top": null,
       "visibility": "hidden",
       "width": null
      }
     },
     "871337161d0f4f4f8a7ee9648e3eca9b": {
      "model_module": "@jupyter-widgets/controls",
      "model_module_version": "1.5.0",
      "model_name": "HTMLModel",
      "state": {
       "_dom_classes": [],
       "_model_module": "@jupyter-widgets/controls",
       "_model_module_version": "1.5.0",
       "_model_name": "HTMLModel",
       "_view_count": null,
       "_view_module": "@jupyter-widgets/controls",
       "_view_module_version": "1.5.0",
       "_view_name": "HTMLView",
       "description": "",
       "description_tooltip": null,
       "layout": "IPY_MODEL_9c6e3914eeb64c9d80ec17b15b85e755",
       "placeholder": "​",
       "style": "IPY_MODEL_1779f8381c04413f8942a5b7556792bf",
       "value": "Processing: 100%"
      }
     },
     "952aea1cd69e4193b9389b02f8de5c02": {
      "model_module": "@jupyter-widgets/controls",
      "model_module_version": "1.5.0",
      "model_name": "HTMLModel",
      "state": {
       "_dom_classes": [],
       "_model_module": "@jupyter-widgets/controls",
       "_model_module_version": "1.5.0",
       "_model_name": "HTMLModel",
       "_view_count": null,
       "_view_module": "@jupyter-widgets/controls",
       "_view_module_version": "1.5.0",
       "_view_name": "HTMLView",
       "description": "",
       "description_tooltip": null,
       "layout": "IPY_MODEL_d072257703ed474eb48a50a2f84d6f6c",
       "placeholder": "​",
       "style": "IPY_MODEL_b3b999134ff54e8985676aa396e6e9e3",
       "value": " 4/4 [00:09&lt;00:00,  2.35s/it]"
      }
     },
     "9c574f71513c4646ac9be4fb8bc987eb": {
      "model_module": "@jupyter-widgets/controls",
      "model_module_version": "1.5.0",
      "model_name": "HTMLModel",
      "state": {
       "_dom_classes": [],
       "_model_module": "@jupyter-widgets/controls",
       "_model_module_version": "1.5.0",
       "_model_name": "HTMLModel",
       "_view_count": null,
       "_view_module": "@jupyter-widgets/controls",
       "_view_module_version": "1.5.0",
       "_view_name": "HTMLView",
       "description": "",
       "description_tooltip": null,
       "layout": "IPY_MODEL_e47ff87e37044e40a63763f9375fcacf",
       "placeholder": "​",
       "style": "IPY_MODEL_f7b8a79e1cf8492a9cbcc8a512bb6ded",
       "value": " 7/7 [2:38:47&lt;00:00, 836.98s/it]"
      }
     },
     "9c6e3914eeb64c9d80ec17b15b85e755": {
      "model_module": "@jupyter-widgets/base",
      "model_module_version": "1.2.0",
      "model_name": "LayoutModel",
      "state": {
       "_model_module": "@jupyter-widgets/base",
       "_model_module_version": "1.2.0",
       "_model_name": "LayoutModel",
       "_view_count": null,
       "_view_module": "@jupyter-widgets/base",
       "_view_module_version": "1.2.0",
       "_view_name": "LayoutView",
       "align_content": null,
       "align_items": null,
       "align_self": null,
       "border": null,
       "bottom": null,
       "display": null,
       "flex": null,
       "flex_flow": null,
       "grid_area": null,
       "grid_auto_columns": null,
       "grid_auto_flow": null,
       "grid_auto_rows": null,
       "grid_column": null,
       "grid_gap": null,
       "grid_row": null,
       "grid_template_areas": null,
       "grid_template_columns": null,
       "grid_template_rows": null,
       "height": null,
       "justify_content": null,
       "justify_items": null,
       "left": null,
       "margin": null,
       "max_height": null,
       "max_width": null,
       "min_height": null,
       "min_width": null,
       "object_fit": null,
       "object_position": null,
       "order": null,
       "overflow": null,
       "overflow_x": null,
       "overflow_y": null,
       "padding": null,
       "right": null,
       "top": null,
       "visibility": null,
       "width": null
      }
     },
     "a60050218abd43f794384f714b88fc59": {
      "model_module": "@jupyter-widgets/controls",
      "model_module_version": "1.5.0",
      "model_name": "DescriptionStyleModel",
      "state": {
       "_model_module": "@jupyter-widgets/controls",
       "_model_module_version": "1.5.0",
       "_model_name": "DescriptionStyleModel",
       "_view_count": null,
       "_view_module": "@jupyter-widgets/base",
       "_view_module_version": "1.2.0",
       "_view_name": "StyleView",
       "description_width": ""
      }
     },
     "a71c9e7bccd54f5f92e641216e44d3ad": {
      "model_module": "@jupyter-widgets/base",
      "model_module_version": "1.2.0",
      "model_name": "LayoutModel",
      "state": {
       "_model_module": "@jupyter-widgets/base",
       "_model_module_version": "1.2.0",
       "_model_name": "LayoutModel",
       "_view_count": null,
       "_view_module": "@jupyter-widgets/base",
       "_view_module_version": "1.2.0",
       "_view_name": "LayoutView",
       "align_content": null,
       "align_items": null,
       "align_self": null,
       "border": null,
       "bottom": null,
       "display": null,
       "flex": null,
       "flex_flow": null,
       "grid_area": null,
       "grid_auto_columns": null,
       "grid_auto_flow": null,
       "grid_auto_rows": null,
       "grid_column": null,
       "grid_gap": null,
       "grid_row": null,
       "grid_template_areas": null,
       "grid_template_columns": null,
       "grid_template_rows": null,
       "height": null,
       "justify_content": null,
       "justify_items": null,
       "left": null,
       "margin": null,
       "max_height": null,
       "max_width": null,
       "min_height": null,
       "min_width": null,
       "object_fit": null,
       "object_position": null,
       "order": null,
       "overflow": null,
       "overflow_x": null,
       "overflow_y": null,
       "padding": null,
       "right": null,
       "top": null,
       "visibility": "hidden",
       "width": null
      }
     },
     "b3b999134ff54e8985676aa396e6e9e3": {
      "model_module": "@jupyter-widgets/controls",
      "model_module_version": "1.5.0",
      "model_name": "DescriptionStyleModel",
      "state": {
       "_model_module": "@jupyter-widgets/controls",
       "_model_module_version": "1.5.0",
       "_model_name": "DescriptionStyleModel",
       "_view_count": null,
       "_view_module": "@jupyter-widgets/base",
       "_view_module_version": "1.2.0",
       "_view_name": "StyleView",
       "description_width": ""
      }
     },
     "b761e657b411408bb4fbe6bd01e58472": {
      "model_module": "@jupyter-widgets/controls",
      "model_module_version": "1.5.0",
      "model_name": "FloatProgressModel",
      "state": {
       "_dom_classes": [],
       "_model_module": "@jupyter-widgets/controls",
       "_model_module_version": "1.5.0",
       "_model_name": "FloatProgressModel",
       "_view_count": null,
       "_view_module": "@jupyter-widgets/controls",
       "_view_module_version": "1.5.0",
       "_view_name": "ProgressView",
       "bar_style": "",
       "description": "",
       "description_tooltip": null,
       "layout": "IPY_MODEL_5dae5ef28d5642d99828dbc262d7f9f1",
       "max": 7.0,
       "min": 0.0,
       "orientation": "horizontal",
       "style": "IPY_MODEL_0c45e5a4a3b241a19dddde48a562c037",
       "value": 7.0
      }
     },
     "c1d5db49d01941308da718516117f24a": {
      "model_module": "@jupyter-widgets/base",
      "model_module_version": "1.2.0",
      "model_name": "LayoutModel",
      "state": {
       "_model_module": "@jupyter-widgets/base",
       "_model_module_version": "1.2.0",
       "_model_name": "LayoutModel",
       "_view_count": null,
       "_view_module": "@jupyter-widgets/base",
       "_view_module_version": "1.2.0",
       "_view_name": "LayoutView",
       "align_content": null,
       "align_items": null,
       "align_self": null,
       "border": null,
       "bottom": null,
       "display": null,
       "flex": null,
       "flex_flow": null,
       "grid_area": null,
       "grid_auto_columns": null,
       "grid_auto_flow": null,
       "grid_auto_rows": null,
       "grid_column": null,
       "grid_gap": null,
       "grid_row": null,
       "grid_template_areas": null,
       "grid_template_columns": null,
       "grid_template_rows": null,
       "height": null,
       "justify_content": null,
       "justify_items": null,
       "left": null,
       "margin": null,
       "max_height": null,
       "max_width": null,
       "min_height": null,
       "min_width": null,
       "object_fit": null,
       "object_position": null,
       "order": null,
       "overflow": null,
       "overflow_x": null,
       "overflow_y": null,
       "padding": null,
       "right": null,
       "top": null,
       "visibility": null,
       "width": null
      }
     },
     "c31b1e0a5f844550b0c51b6d4301a87c": {
      "model_module": "@jupyter-widgets/controls",
      "model_module_version": "1.5.0",
      "model_name": "ProgressStyleModel",
      "state": {
       "_model_module": "@jupyter-widgets/controls",
       "_model_module_version": "1.5.0",
       "_model_name": "ProgressStyleModel",
       "_view_count": null,
       "_view_module": "@jupyter-widgets/base",
       "_view_module_version": "1.2.0",
       "_view_name": "StyleView",
       "bar_color": null,
       "description_width": ""
      }
     },
     "c455d173c13f44dcac9aff65ed130b15": {
      "model_module": "@jupyter-widgets/base",
      "model_module_version": "1.2.0",
      "model_name": "LayoutModel",
      "state": {
       "_model_module": "@jupyter-widgets/base",
       "_model_module_version": "1.2.0",
       "_model_name": "LayoutModel",
       "_view_count": null,
       "_view_module": "@jupyter-widgets/base",
       "_view_module_version": "1.2.0",
       "_view_name": "LayoutView",
       "align_content": null,
       "align_items": null,
       "align_self": null,
       "border": null,
       "bottom": null,
       "display": null,
       "flex": null,
       "flex_flow": null,
       "grid_area": null,
       "grid_auto_columns": null,
       "grid_auto_flow": null,
       "grid_auto_rows": null,
       "grid_column": null,
       "grid_gap": null,
       "grid_row": null,
       "grid_template_areas": null,
       "grid_template_columns": null,
       "grid_template_rows": null,
       "height": null,
       "justify_content": null,
       "justify_items": null,
       "left": null,
       "margin": null,
       "max_height": null,
       "max_width": null,
       "min_height": null,
       "min_width": null,
       "object_fit": null,
       "object_position": null,
       "order": null,
       "overflow": null,
       "overflow_x": null,
       "overflow_y": null,
       "padding": null,
       "right": null,
       "top": null,
       "visibility": "hidden",
       "width": null
      }
     },
     "c490a51074f9494ba94d59949a021588": {
      "model_module": "@jupyter-widgets/controls",
      "model_module_version": "1.5.0",
      "model_name": "HBoxModel",
      "state": {
       "_dom_classes": [],
       "_model_module": "@jupyter-widgets/controls",
       "_model_module_version": "1.5.0",
       "_model_name": "HBoxModel",
       "_view_count": null,
       "_view_module": "@jupyter-widgets/controls",
       "_view_module_version": "1.5.0",
       "_view_name": "HBoxView",
       "box_style": "",
       "children": [
        "IPY_MODEL_048ade0245e24f15aa3ec3ebffd52bbe",
        "IPY_MODEL_4e700360ef0145d6a52d8ef2733aad4c",
        "IPY_MODEL_d9335cfb7d114d6692716078a6c298e8"
       ],
       "layout": "IPY_MODEL_7c8cc55cf7ee44389ab1d9e98fb5b744"
      }
     },
     "d072257703ed474eb48a50a2f84d6f6c": {
      "model_module": "@jupyter-widgets/base",
      "model_module_version": "1.2.0",
      "model_name": "LayoutModel",
      "state": {
       "_model_module": "@jupyter-widgets/base",
       "_model_module_version": "1.2.0",
       "_model_name": "LayoutModel",
       "_view_count": null,
       "_view_module": "@jupyter-widgets/base",
       "_view_module_version": "1.2.0",
       "_view_name": "LayoutView",
       "align_content": null,
       "align_items": null,
       "align_self": null,
       "border": null,
       "bottom": null,
       "display": null,
       "flex": null,
       "flex_flow": null,
       "grid_area": null,
       "grid_auto_columns": null,
       "grid_auto_flow": null,
       "grid_auto_rows": null,
       "grid_column": null,
       "grid_gap": null,
       "grid_row": null,
       "grid_template_areas": null,
       "grid_template_columns": null,
       "grid_template_rows": null,
       "height": null,
       "justify_content": null,
       "justify_items": null,
       "left": null,
       "margin": null,
       "max_height": null,
       "max_width": null,
       "min_height": null,
       "min_width": null,
       "object_fit": null,
       "object_position": null,
       "order": null,
       "overflow": null,
       "overflow_x": null,
       "overflow_y": null,
       "padding": null,
       "right": null,
       "top": null,
       "visibility": null,
       "width": null
      }
     },
     "d9335cfb7d114d6692716078a6c298e8": {
      "model_module": "@jupyter-widgets/controls",
      "model_module_version": "1.5.0",
      "model_name": "HTMLModel",
      "state": {
       "_dom_classes": [],
       "_model_module": "@jupyter-widgets/controls",
       "_model_module_version": "1.5.0",
       "_model_name": "HTMLModel",
       "_view_count": null,
       "_view_module": "@jupyter-widgets/controls",
       "_view_module_version": "1.5.0",
       "_view_name": "HTMLView",
       "description": "",
       "description_tooltip": null,
       "layout": "IPY_MODEL_f078d24b72d34da1beceda0686330496",
       "placeholder": "​",
       "style": "IPY_MODEL_02d0dc54352f4206b4e3bdc51ffe3bd6",
       "value": " 4/4 [11:54&lt;00:00, 164.23s/it]"
      }
     },
     "e47ff87e37044e40a63763f9375fcacf": {
      "model_module": "@jupyter-widgets/base",
      "model_module_version": "1.2.0",
      "model_name": "LayoutModel",
      "state": {
       "_model_module": "@jupyter-widgets/base",
       "_model_module_version": "1.2.0",
       "_model_name": "LayoutModel",
       "_view_count": null,
       "_view_module": "@jupyter-widgets/base",
       "_view_module_version": "1.2.0",
       "_view_name": "LayoutView",
       "align_content": null,
       "align_items": null,
       "align_self": null,
       "border": null,
       "bottom": null,
       "display": null,
       "flex": null,
       "flex_flow": null,
       "grid_area": null,
       "grid_auto_columns": null,
       "grid_auto_flow": null,
       "grid_auto_rows": null,
       "grid_column": null,
       "grid_gap": null,
       "grid_row": null,
       "grid_template_areas": null,
       "grid_template_columns": null,
       "grid_template_rows": null,
       "height": null,
       "justify_content": null,
       "justify_items": null,
       "left": null,
       "margin": null,
       "max_height": null,
       "max_width": null,
       "min_height": null,
       "min_width": null,
       "object_fit": null,
       "object_position": null,
       "order": null,
       "overflow": null,
       "overflow_x": null,
       "overflow_y": null,
       "padding": null,
       "right": null,
       "top": null,
       "visibility": null,
       "width": null
      }
     },
     "ea132fd23aaa4a588e7ab513de2b4f70": {
      "model_module": "@jupyter-widgets/controls",
      "model_module_version": "1.5.0",
      "model_name": "HBoxModel",
      "state": {
       "_dom_classes": [],
       "_model_module": "@jupyter-widgets/controls",
       "_model_module_version": "1.5.0",
       "_model_name": "HBoxModel",
       "_view_count": null,
       "_view_module": "@jupyter-widgets/controls",
       "_view_module_version": "1.5.0",
       "_view_name": "HBoxView",
       "box_style": "",
       "children": [
        "IPY_MODEL_871337161d0f4f4f8a7ee9648e3eca9b",
        "IPY_MODEL_4fa7d667c7324b59abfab70ef0c9c116",
        "IPY_MODEL_952aea1cd69e4193b9389b02f8de5c02"
       ],
       "layout": "IPY_MODEL_c455d173c13f44dcac9aff65ed130b15"
      }
     },
     "f078d24b72d34da1beceda0686330496": {
      "model_module": "@jupyter-widgets/base",
      "model_module_version": "1.2.0",
      "model_name": "LayoutModel",
      "state": {
       "_model_module": "@jupyter-widgets/base",
       "_model_module_version": "1.2.0",
       "_model_name": "LayoutModel",
       "_view_count": null,
       "_view_module": "@jupyter-widgets/base",
       "_view_module_version": "1.2.0",
       "_view_name": "LayoutView",
       "align_content": null,
       "align_items": null,
       "align_self": null,
       "border": null,
       "bottom": null,
       "display": null,
       "flex": null,
       "flex_flow": null,
       "grid_area": null,
       "grid_auto_columns": null,
       "grid_auto_flow": null,
       "grid_auto_rows": null,
       "grid_column": null,
       "grid_gap": null,
       "grid_row": null,
       "grid_template_areas": null,
       "grid_template_columns": null,
       "grid_template_rows": null,
       "height": null,
       "justify_content": null,
       "justify_items": null,
       "left": null,
       "margin": null,
       "max_height": null,
       "max_width": null,
       "min_height": null,
       "min_width": null,
       "object_fit": null,
       "object_position": null,
       "order": null,
       "overflow": null,
       "overflow_x": null,
       "overflow_y": null,
       "padding": null,
       "right": null,
       "top": null,
       "visibility": null,
       "width": null
      }
     },
     "f7b8a79e1cf8492a9cbcc8a512bb6ded": {
      "model_module": "@jupyter-widgets/controls",
      "model_module_version": "1.5.0",
      "model_name": "DescriptionStyleModel",
      "state": {
       "_model_module": "@jupyter-widgets/controls",
       "_model_module_version": "1.5.0",
       "_model_name": "DescriptionStyleModel",
       "_view_count": null,
       "_view_module": "@jupyter-widgets/base",
       "_view_module_version": "1.2.0",
       "_view_name": "StyleView",
       "description_width": ""
      }
     }
    },
    "version_major": 2,
    "version_minor": 0
   }
  }
 },
 "nbformat": 4,
 "nbformat_minor": 5
}
