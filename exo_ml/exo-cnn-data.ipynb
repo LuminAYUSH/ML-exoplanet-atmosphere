{
 "cells": [
  {
   "cell_type": "code",
   "execution_count": null,
   "id": "8dd9e8bb",
   "metadata": {
    "papermill": {
     "duration": 0.007193,
     "end_time": "2023-04-10T21:52:54.932723",
     "exception": false,
     "start_time": "2023-04-10T21:52:54.925530",
     "status": "completed"
    },
    "tags": []
   },
   "outputs": [],
   "source": []
  },
  {
   "cell_type": "code",
   "execution_count": 1,
   "id": "5895cc4d",
   "metadata": {
    "_cell_guid": "b1076dfc-b9ad-4769-8c92-a6c4dae69d19",
    "_uuid": "8f2839f25d086af736a60e9eeb907d3b93b6e0e5",
    "execution": {
     "iopub.execute_input": "2023-04-10T21:52:54.946968Z",
     "iopub.status.busy": "2023-04-10T21:52:54.946129Z",
     "iopub.status.idle": "2023-04-10T21:52:54.957593Z",
     "shell.execute_reply": "2023-04-10T21:52:54.956693Z"
    },
    "papermill": {
     "duration": 0.021003,
     "end_time": "2023-04-10T21:52:54.959689",
     "exception": false,
     "start_time": "2023-04-10T21:52:54.938686",
     "status": "completed"
    },
    "tags": []
   },
   "outputs": [],
   "source": [
    "# This Python 3 environment comes with many helpful analytics libraries installed\n",
    "# It is defined by the kaggle/python Docker image: https://github.com/kaggle/docker-python\n",
    "# For example, here's several helpful packages to load\n",
    "\n",
    "import numpy as np # linear algebra\n",
    "import pandas as pd # data processing, CSV file I/O (e.g. pd.read_csv)\n",
    "\n",
    "# Input data files are available in the read-only \"../input/\" directory\n",
    "# For example, running this (by clicking run or pressing Shift+Enter) will list all files under the input directory\n",
    "\n",
    "import os\n",
    "for dirname, _, filenames in os.walk('/kaggle/input'):\n",
    "    for filename in filenames:\n",
    "        print(os.path.join(dirname, filename))\n",
    "\n",
    "# You can write up to 20GB to the current directory (/kaggle/working/) that gets preserved as output when you create a version using \"Save & Run All\" \n",
    "# You can also write temporary files to /kaggle/temp/, but they won't be saved outside of the current session"
   ]
  },
  {
   "cell_type": "code",
   "execution_count": 2,
   "id": "128eabf9",
   "metadata": {
    "execution": {
     "iopub.execute_input": "2023-04-10T21:52:54.973497Z",
     "iopub.status.busy": "2023-04-10T21:52:54.972039Z",
     "iopub.status.idle": "2023-04-10T21:53:42.863872Z",
     "shell.execute_reply": "2023-04-10T21:53:42.862296Z"
    },
    "papermill": {
     "duration": 47.902149,
     "end_time": "2023-04-10T21:53:42.867597",
     "exception": false,
     "start_time": "2023-04-10T21:52:54.965448",
     "status": "completed"
    },
    "tags": []
   },
   "outputs": [
    {
     "name": "stdout",
     "output_type": "stream",
     "text": [
      "Cloning into 'exocnn'...\r\n",
      "remote: Enumerating objects: 7366, done.\u001b[K\r\n",
      "remote: Counting objects: 100% (12/12), done.\u001b[K\r\n",
      "remote: Compressing objects: 100% (12/12), done.\u001b[K\r\n",
      "remote: Total 7366 (delta 5), reused 0 (delta 0), pack-reused 7354\u001b[K\r\n",
      "Receiving objects: 100% (7366/7366), 1013.45 MiB | 33.83 MiB/s, done.\r\n",
      "Resolving deltas: 100% (6920/6920), done.\r\n",
      "Updating files: 100% (7300/7300), done.\r\n"
     ]
    }
   ],
   "source": [
    "!git clone https://gitlab.astro.rug.nl/ardevol/exocnn.git"
   ]
  },
  {
   "cell_type": "code",
   "execution_count": 3,
   "id": "a44a56db",
   "metadata": {
    "execution": {
     "iopub.execute_input": "2023-04-10T21:53:42.979166Z",
     "iopub.status.busy": "2023-04-10T21:53:42.978653Z",
     "iopub.status.idle": "2023-04-10T21:53:42.990312Z",
     "shell.execute_reply": "2023-04-10T21:53:42.988082Z"
    },
    "papermill": {
     "duration": 0.071964,
     "end_time": "2023-04-10T21:53:42.995238",
     "exception": false,
     "start_time": "2023-04-10T21:53:42.923274",
     "status": "completed"
    },
    "tags": []
   },
   "outputs": [
    {
     "name": "stdout",
     "output_type": "stream",
     "text": [
      "/kaggle/working/exocnn/Code\n"
     ]
    }
   ],
   "source": [
    "cd /kaggle/working/exocnn/Code"
   ]
  },
  {
   "cell_type": "code",
   "execution_count": 4,
   "id": "f4d88b15",
   "metadata": {
    "execution": {
     "iopub.execute_input": "2023-04-10T21:53:43.092699Z",
     "iopub.status.busy": "2023-04-10T21:53:43.090451Z",
     "iopub.status.idle": "2023-04-10T21:53:44.380434Z",
     "shell.execute_reply": "2023-04-10T21:53:44.379148Z"
    },
    "papermill": {
     "duration": 1.34754,
     "end_time": "2023-04-10T21:53:44.383090",
     "exception": false,
     "start_time": "2023-04-10T21:53:43.035550",
     "status": "completed"
    },
    "tags": []
   },
   "outputs": [
    {
     "name": "stdout",
     "output_type": "stream",
     "text": [
      "Analyses.ipynb\t    Retrievals.ipynb  __pycache__\r\n",
      "Corner_plots.ipynb  Training.ipynb    exobaconn.py\r\n"
     ]
    }
   ],
   "source": [
    "! ls"
   ]
  },
  {
   "cell_type": "code",
   "execution_count": 5,
   "id": "d6cc0a0a",
   "metadata": {
    "execution": {
     "iopub.execute_input": "2023-04-10T21:53:44.407988Z",
     "iopub.status.busy": "2023-04-10T21:53:44.407422Z",
     "iopub.status.idle": "2023-04-10T21:53:55.069227Z",
     "shell.execute_reply": "2023-04-10T21:53:55.067849Z"
    },
    "papermill": {
     "duration": 10.677204,
     "end_time": "2023-04-10T21:53:55.071740",
     "exception": false,
     "start_time": "2023-04-10T21:53:44.394536",
     "status": "completed"
    },
    "tags": []
   },
   "outputs": [
    {
     "name": "stdout",
     "output_type": "stream",
     "text": [
      "Collecting corner\r\n",
      "  Downloading corner-2.2.1-py3-none-any.whl (15 kB)\r\n",
      "Requirement already satisfied: matplotlib>=2.1 in /opt/conda/lib/python3.7/site-packages (from corner) (3.5.3)\r\n",
      "Requirement already satisfied: cycler>=0.10 in /opt/conda/lib/python3.7/site-packages (from matplotlib>=2.1->corner) (0.11.0)\r\n",
      "Requirement already satisfied: kiwisolver>=1.0.1 in /opt/conda/lib/python3.7/site-packages (from matplotlib>=2.1->corner) (1.4.4)\r\n",
      "Requirement already satisfied: packaging>=20.0 in /opt/conda/lib/python3.7/site-packages (from matplotlib>=2.1->corner) (23.0)\r\n",
      "Requirement already satisfied: pyparsing>=2.2.1 in /opt/conda/lib/python3.7/site-packages (from matplotlib>=2.1->corner) (3.0.9)\r\n",
      "Requirement already satisfied: numpy>=1.17 in /opt/conda/lib/python3.7/site-packages (from matplotlib>=2.1->corner) (1.21.6)\r\n",
      "Requirement already satisfied: fonttools>=4.22.0 in /opt/conda/lib/python3.7/site-packages (from matplotlib>=2.1->corner) (4.38.0)\r\n",
      "Requirement already satisfied: python-dateutil>=2.7 in /opt/conda/lib/python3.7/site-packages (from matplotlib>=2.1->corner) (2.8.2)\r\n",
      "Requirement already satisfied: pillow>=6.2.0 in /opt/conda/lib/python3.7/site-packages (from matplotlib>=2.1->corner) (9.4.0)\r\n",
      "Requirement already satisfied: typing-extensions in /opt/conda/lib/python3.7/site-packages (from kiwisolver>=1.0.1->matplotlib>=2.1->corner) (4.4.0)\r\n",
      "Requirement already satisfied: six>=1.5 in /opt/conda/lib/python3.7/site-packages (from python-dateutil>=2.7->matplotlib>=2.1->corner) (1.16.0)\r\n",
      "Installing collected packages: corner\r\n",
      "Successfully installed corner-2.2.1\r\n",
      "\u001b[33mWARNING: Running pip as the 'root' user can result in broken permissions and conflicting behaviour with the system package manager. It is recommended to use a virtual environment instead: https://pip.pypa.io/warnings/venv\u001b[0m\u001b[33m\r\n",
      "\u001b[0mNote: you may need to restart the kernel to use updated packages.\n"
     ]
    }
   ],
   "source": [
    "pip install corner"
   ]
  },
  {
   "cell_type": "code",
   "execution_count": 6,
   "id": "817539df",
   "metadata": {
    "execution": {
     "iopub.execute_input": "2023-04-10T21:53:55.096391Z",
     "iopub.status.busy": "2023-04-10T21:53:55.096052Z",
     "iopub.status.idle": "2023-04-10T21:54:04.714879Z",
     "shell.execute_reply": "2023-04-10T21:54:04.713467Z"
    },
    "papermill": {
     "duration": 9.633825,
     "end_time": "2023-04-10T21:54:04.717241",
     "exception": false,
     "start_time": "2023-04-10T21:53:55.083416",
     "status": "completed"
    },
    "tags": []
   },
   "outputs": [
    {
     "name": "stdout",
     "output_type": "stream",
     "text": [
      "Collecting spectres\r\n",
      "  Downloading spectres-2.2.0-py2.py3-none-any.whl (19 kB)\r\n",
      "Requirement already satisfied: numpy in /opt/conda/lib/python3.7/site-packages (from spectres) (1.21.6)\r\n",
      "Installing collected packages: spectres\r\n",
      "Successfully installed spectres-2.2.0\r\n",
      "\u001b[33mWARNING: Running pip as the 'root' user can result in broken permissions and conflicting behaviour with the system package manager. It is recommended to use a virtual environment instead: https://pip.pypa.io/warnings/venv\u001b[0m\u001b[33m\r\n",
      "\u001b[0mNote: you may need to restart the kernel to use updated packages.\n"
     ]
    }
   ],
   "source": [
    "pip install spectres"
   ]
  },
  {
   "cell_type": "code",
   "execution_count": 7,
   "id": "16d2e4d4",
   "metadata": {
    "execution": {
     "iopub.execute_input": "2023-04-10T21:54:04.743663Z",
     "iopub.status.busy": "2023-04-10T21:54:04.743237Z",
     "iopub.status.idle": "2023-04-10T21:54:16.343773Z",
     "shell.execute_reply": "2023-04-10T21:54:16.342684Z"
    },
    "papermill": {
     "duration": 11.61688,
     "end_time": "2023-04-10T21:54:16.346590",
     "exception": false,
     "start_time": "2023-04-10T21:54:04.729710",
     "status": "completed"
    },
    "tags": []
   },
   "outputs": [],
   "source": [
    "from exobaconn import read_grid, add_noise, bCNN, normalize, load_cnn, true_vs_pred\n",
    "import numpy as np\n",
    "import matplotlib.pyplot as plt\n",
    "import tensorflow.keras as tfk\n",
    "plt.rc('font', size=14)\n",
    "from sklearn.preprocessing import MinMaxScaler\n",
    "from tqdm import trange\n",
    "import pickle\n",
    "\n",
    "md = pickle.load(open('../Data/metadata.p', 'rb'))"
   ]
  },
  {
   "cell_type": "code",
   "execution_count": 8,
   "id": "a0905073",
   "metadata": {
    "execution": {
     "iopub.execute_input": "2023-04-10T21:54:16.372564Z",
     "iopub.status.busy": "2023-04-10T21:54:16.371644Z",
     "iopub.status.idle": "2023-04-10T21:54:16.376532Z",
     "shell.execute_reply": "2023-04-10T21:54:16.375428Z"
    },
    "papermill": {
     "duration": 0.020033,
     "end_time": "2023-04-10T21:54:16.378811",
     "exception": false,
     "start_time": "2023-04-10T21:54:16.358778",
     "status": "completed"
    },
    "tags": []
   },
   "outputs": [],
   "source": [
    "Type = 1\n",
    "instrument = 'WFC3'"
   ]
  },
  {
   "cell_type": "code",
   "execution_count": 9,
   "id": "ce32bb0a",
   "metadata": {
    "execution": {
     "iopub.execute_input": "2023-04-10T21:54:16.403756Z",
     "iopub.status.busy": "2023-04-10T21:54:16.403264Z",
     "iopub.status.idle": "2023-04-10T21:54:16.408621Z",
     "shell.execute_reply": "2023-04-10T21:54:16.407519Z"
    },
    "papermill": {
     "duration": 0.020213,
     "end_time": "2023-04-10T21:54:16.410790",
     "exception": false,
     "start_time": "2023-04-10T21:54:16.390577",
     "status": "completed"
    },
    "tags": []
   },
   "outputs": [],
   "source": [
    "f_trans = '../Data/Training_Sets/trans_type'+ str(Type)+'.npy'\n",
    "f_param = '../Data/Training_Sets/parameters_type'+ str(Type)+'.npy'\n",
    "noise   = md['Noise'][instrument]\n",
    "wvl     = md['Wavelength']['NIRSPEC']\n",
    "new_wvl = md['Wavelength'][instrument]"
   ]
  },
  {
   "cell_type": "code",
   "execution_count": 10,
   "id": "28628493",
   "metadata": {
    "execution": {
     "iopub.execute_input": "2023-04-10T21:54:16.435827Z",
     "iopub.status.busy": "2023-04-10T21:54:16.435005Z",
     "iopub.status.idle": "2023-04-10T21:54:16.440235Z",
     "shell.execute_reply": "2023-04-10T21:54:16.439195Z"
    },
    "papermill": {
     "duration": 0.019758,
     "end_time": "2023-04-10T21:54:16.442295",
     "exception": false,
     "start_time": "2023-04-10T21:54:16.422537",
     "status": "completed"
    },
    "tags": []
   },
   "outputs": [],
   "source": [
    "N_aug  = [20, 1]\n",
    "ntrain = {1:68000, 2:64000}[Type]\n",
    "ntest  = 8000"
   ]
  },
  {
   "cell_type": "code",
   "execution_count": 11,
   "id": "b8b65649",
   "metadata": {
    "execution": {
     "iopub.execute_input": "2023-04-10T21:54:16.467747Z",
     "iopub.status.busy": "2023-04-10T21:54:16.466986Z",
     "iopub.status.idle": "2023-04-10T21:54:17.799007Z",
     "shell.execute_reply": "2023-04-10T21:54:17.797928Z"
    },
    "papermill": {
     "duration": 1.347615,
     "end_time": "2023-04-10T21:54:17.801953",
     "exception": false,
     "start_time": "2023-04-10T21:54:16.454338",
     "status": "completed"
    },
    "tags": []
   },
   "outputs": [
    {
     "name": "stdout",
     "output_type": "stream",
     "text": [
      "Loading files...\n",
      "Rebinning spectra\n",
      "X_train...\n",
      "Y_train...\n",
      "X_test...\n",
      "Y_test...\n"
     ]
    }
   ],
   "source": [
    "X_train, Y_train, X_test, Y_test = read_grid(f_trans, f_param, wvl=wvl, new_wvl=new_wvl, n_train=ntrain, n_test=ntest, \n",
    "                                             N_aug=N_aug)\n",
    "\n",
    "X_train = 0.752**2*add_noise(X_train, noise, floor=5)\n",
    "X_test  = 0.752**2*add_noise(X_test , noise, floor=5)"
   ]
  },
  {
   "cell_type": "code",
   "execution_count": 12,
   "id": "00c9ca0f",
   "metadata": {
    "execution": {
     "iopub.execute_input": "2023-04-10T21:54:17.827445Z",
     "iopub.status.busy": "2023-04-10T21:54:17.827091Z",
     "iopub.status.idle": "2023-04-10T21:54:17.831453Z",
     "shell.execute_reply": "2023-04-10T21:54:17.830320Z"
    },
    "papermill": {
     "duration": 0.019664,
     "end_time": "2023-04-10T21:54:17.833876",
     "exception": false,
     "start_time": "2023-04-10T21:54:17.814212",
     "status": "completed"
    },
    "tags": []
   },
   "outputs": [],
   "source": [
    "#np.shape(Yt_train)"
   ]
  },
  {
   "cell_type": "code",
   "execution_count": 13,
   "id": "d2fb10df",
   "metadata": {
    "execution": {
     "iopub.execute_input": "2023-04-10T21:54:17.858626Z",
     "iopub.status.busy": "2023-04-10T21:54:17.858331Z",
     "iopub.status.idle": "2023-04-10T21:54:17.862583Z",
     "shell.execute_reply": "2023-04-10T21:54:17.861549Z"
    },
    "papermill": {
     "duration": 0.019461,
     "end_time": "2023-04-10T21:54:17.864996",
     "exception": false,
     "start_time": "2023-04-10T21:54:17.845535",
     "status": "completed"
    },
    "tags": []
   },
   "outputs": [],
   "source": [
    "#np.shape(Yt_test)"
   ]
  },
  {
   "cell_type": "code",
   "execution_count": 14,
   "id": "bfcbe9c1",
   "metadata": {
    "execution": {
     "iopub.execute_input": "2023-04-10T21:54:17.889750Z",
     "iopub.status.busy": "2023-04-10T21:54:17.889473Z",
     "iopub.status.idle": "2023-04-10T21:54:17.893986Z",
     "shell.execute_reply": "2023-04-10T21:54:17.892893Z"
    },
    "papermill": {
     "duration": 0.019515,
     "end_time": "2023-04-10T21:54:17.896476",
     "exception": false,
     "start_time": "2023-04-10T21:54:17.876961",
     "status": "completed"
    },
    "tags": []
   },
   "outputs": [],
   "source": [
    "Yt_train = Y_train[:,0:1]\n",
    "Yt_test = Y_test[:,0:1]"
   ]
  },
  {
   "cell_type": "code",
   "execution_count": 15,
   "id": "adcd44bc",
   "metadata": {
    "execution": {
     "iopub.execute_input": "2023-04-10T21:54:17.921081Z",
     "iopub.status.busy": "2023-04-10T21:54:17.920808Z",
     "iopub.status.idle": "2023-04-10T21:54:17.924994Z",
     "shell.execute_reply": "2023-04-10T21:54:17.923913Z"
    },
    "papermill": {
     "duration": 0.019129,
     "end_time": "2023-04-10T21:54:17.927378",
     "exception": false,
     "start_time": "2023-04-10T21:54:17.908249",
     "status": "completed"
    },
    "tags": []
   },
   "outputs": [],
   "source": [
    "#Yt_train = Y_train[:,0:1]\n",
    "#Yt_test = Y_test[:,0:1]"
   ]
  },
  {
   "cell_type": "code",
   "execution_count": 16,
   "id": "6712e294",
   "metadata": {
    "execution": {
     "iopub.execute_input": "2023-04-10T21:54:17.952586Z",
     "iopub.status.busy": "2023-04-10T21:54:17.952236Z",
     "iopub.status.idle": "2023-04-10T22:59:12.711324Z",
     "shell.execute_reply": "2023-04-10T22:59:12.710593Z"
    },
    "papermill": {
     "duration": 3894.774251,
     "end_time": "2023-04-10T22:59:12.713348",
     "exception": false,
     "start_time": "2023-04-10T21:54:17.939097",
     "status": "completed"
    },
    "tags": []
   },
   "outputs": [
    {
     "name": "stdout",
     "output_type": "stream",
     "text": [
      "Epoch 1 loss: 2038185.846 R^2: -0.024\n",
      "Epoch 2 loss: 1954548.247 R^2: 0.019\n",
      "Epoch 3 loss: 1938975.528 R^2: 0.026\n",
      "Epoch 4 loss: 1926645.460 R^2: 0.032\n",
      "Epoch 5 loss: 1911676.394 R^2: 0.040\n",
      "Epoch 6 loss: 1884459.316 R^2: 0.054\n",
      "Epoch 7 loss: 1849986.421 R^2: 0.071\n",
      "Epoch 8 loss: 1825180.396 R^2: 0.083\n",
      "Epoch 9 loss: 1806046.103 R^2: 0.093\n",
      "Epoch 10 loss: 1790756.237 R^2: 0.100\n",
      "Epoch 11 loss: 1776763.243 R^2: 0.107\n",
      "Epoch 12 loss: 1762583.533 R^2: 0.115\n",
      "Epoch 13 loss: 1754000.129 R^2: 0.119\n",
      "Epoch 14 loss: 1726858.060 R^2: 0.132\n",
      "Epoch 15 loss: 1721491.376 R^2: 0.135\n",
      "Epoch 16 loss: 1697880.750 R^2: 0.147\n",
      "Epoch 17 loss: 1690752.670 R^2: 0.150\n",
      "Epoch 18 loss: 1687437.759 R^2: 0.152\n",
      "Epoch 19 loss: 1692944.396 R^2: 0.149\n",
      "Epoch 20 loss: 1672112.453 R^2: 0.160\n",
      "Epoch 21 loss: 1665272.498 R^2: 0.163\n",
      "Epoch 22 loss: 1664150.629 R^2: 0.164\n",
      "Epoch 23 loss: 1653805.808 R^2: 0.169\n",
      "Epoch 24 loss: 1660040.317 R^2: 0.166\n",
      "Epoch 25 loss: 1649544.956 R^2: 0.171\n",
      "Epoch 26 loss: 1647866.320 R^2: 0.172\n",
      "Epoch 27 loss: 1634181.086 R^2: 0.179\n",
      "Epoch 28 loss: 1633652.025 R^2: 0.179\n",
      "Epoch 29 loss: 1635837.041 R^2: 0.178\n",
      "Epoch 30 loss: 1623178.882 R^2: 0.184\n",
      "Epoch 31 loss: 1618135.034 R^2: 0.187\n",
      "Epoch 32 loss: 1621243.934 R^2: 0.185\n",
      "Epoch 33 loss: 1609909.889 R^2: 0.191\n",
      "Epoch 34 loss: 1607989.878 R^2: 0.192\n",
      "Epoch 35 loss: 1618518.651 R^2: 0.187\n",
      "Epoch 36 loss: 1607069.218 R^2: 0.192\n",
      "Epoch 37 loss: 1607159.864 R^2: 0.192\n",
      "Epoch 38 loss: 1605469.521 R^2: 0.193\n",
      "Epoch 39 loss: 1600827.451 R^2: 0.195\n",
      "Epoch 40 loss: 1604986.680 R^2: 0.193\n",
      "Epoch 41 loss: 1591523.683 R^2: 0.200\n",
      "Epoch 42 loss: 1583804.531 R^2: 0.204\n",
      "Epoch 43 loss: 1584205.890 R^2: 0.204\n",
      "Epoch 44 loss: 1583311.461 R^2: 0.204\n",
      "Epoch 45 loss: 1586461.804 R^2: 0.203\n",
      "Epoch 46 loss: 1584400.952 R^2: 0.204\n",
      "Epoch 47 loss: 1572220.812 R^2: 0.210\n",
      "Epoch 48 loss: 1569537.321 R^2: 0.211\n",
      "Epoch 49 loss: 1555589.755 R^2: 0.218\n",
      "Epoch 50 loss: 1552869.856 R^2: 0.220\n",
      "Epoch 51 loss: 1548841.641 R^2: 0.222\n",
      "Epoch 52 loss: 1545326.040 R^2: 0.223\n",
      "Epoch 53 loss: 1544515.355 R^2: 0.224\n",
      "Epoch 54 loss: 1539767.401 R^2: 0.226\n",
      "Epoch 55 loss: 1536964.488 R^2: 0.227\n",
      "Epoch 56 loss: 1532876.180 R^2: 0.230\n",
      "Epoch 57 loss: 1533253.944 R^2: 0.229\n",
      "Epoch 58 loss: 1533382.439 R^2: 0.229\n",
      "Epoch 59 loss: 1534293.939 R^2: 0.229\n",
      "Epoch 60 loss: 1529728.810 R^2: 0.231\n",
      "Epoch 61 loss: 1532000.694 R^2: 0.230\n",
      "Epoch 62 loss: 1526785.065 R^2: 0.233\n",
      "Epoch 63 loss: 1529343.045 R^2: 0.231\n",
      "Epoch 64 loss: 1529231.469 R^2: 0.231\n",
      "Epoch 65 loss: 1522094.465 R^2: 0.235\n",
      "Epoch 66 loss: 1524424.242 R^2: 0.234\n",
      "Epoch 67 loss: 1520946.477 R^2: 0.235\n",
      "Epoch 68 loss: 1521918.994 R^2: 0.235\n",
      "Epoch 69 loss: 1519503.405 R^2: 0.236\n",
      "Epoch 70 loss: 1518524.789 R^2: 0.237\n",
      "Epoch 71 loss: 1518531.969 R^2: 0.237\n",
      "Epoch 72 loss: 1519223.506 R^2: 0.236\n",
      "Epoch 73 loss: 1512551.908 R^2: 0.240\n",
      "Epoch 74 loss: 1513918.830 R^2: 0.239\n",
      "Epoch 75 loss: 1510442.842 R^2: 0.241\n",
      "Epoch 76 loss: 1509141.369 R^2: 0.241\n",
      "Epoch 77 loss: 1503083.258 R^2: 0.245\n",
      "Epoch 78 loss: 1505951.585 R^2: 0.243\n",
      "Epoch 79 loss: 1503991.560 R^2: 0.244\n",
      "Epoch 80 loss: 1500626.697 R^2: 0.246\n",
      "Epoch 81 loss: 1499029.177 R^2: 0.247\n",
      "Epoch 82 loss: 1506554.551 R^2: 0.243\n",
      "Epoch 83 loss: 1501839.531 R^2: 0.245\n",
      "Epoch 84 loss: 1501725.433 R^2: 0.245\n",
      "Epoch 85 loss: 1493732.459 R^2: 0.249\n",
      "Epoch 86 loss: 1496532.564 R^2: 0.248\n",
      "Epoch 87 loss: 1496399.835 R^2: 0.248\n",
      "Epoch 88 loss: 1492808.515 R^2: 0.250\n",
      "Epoch 89 loss: 1496078.485 R^2: 0.248\n",
      "Epoch 90 loss: 1491967.183 R^2: 0.250\n",
      "Epoch 91 loss: 1490565.283 R^2: 0.251\n",
      "Epoch 92 loss: 1491743.199 R^2: 0.250\n",
      "Epoch 93 loss: 1490093.937 R^2: 0.251\n",
      "Epoch 94 loss: 1486720.086 R^2: 0.253\n",
      "Epoch 95 loss: 1492204.038 R^2: 0.250\n",
      "Epoch 96 loss: 1489803.614 R^2: 0.251\n",
      "Epoch 97 loss: 1489807.575 R^2: 0.251\n",
      "Epoch 98 loss: 1487254.462 R^2: 0.253\n",
      "Epoch 99 loss: 1487692.616 R^2: 0.252\n",
      "Epoch 100 loss: 1484185.096 R^2: 0.254\n"
     ]
    },
    {
     "data": {
      "image/png": "[encoded data removed]",
      "text/plain": [
       "<Figure size 640x480 with 1 Axes>"
      ]
     },
     "metadata": {},
     "output_type": "display_data"
    },
    {
     "data": {
      "image/png": "[encoded data removed]",
      "text/plain": [
       "<Figure size 640x480 with 1 Axes>"
      ]
     },
     "metadata": {},
     "output_type": "display_data"
    },
    {
     "data": {
      "image/png": "[encoded data removed]",
      "text/plain": [
       "<Figure size 640x480 with 1 Axes>"
      ]
     },
     "metadata": {},
     "output_type": "display_data"
    },
    {
     "data": {
      "image/png": "[encoded data removed]",
      "text/plain": [
       "<Figure size 640x480 with 1 Axes>"
      ]
     },
     "metadata": {},
     "output_type": "display_data"
    }
   ],
   "source": [
    "import torch\n",
    "import torch.nn as nn\n",
    "import torch.optim as optim\n",
    "import numpy as np\n",
    "import matplotlib.pyplot as plt\n",
    "\n",
    "# Define the neural network\n",
    "class Net(nn.Module):\n",
    "    def __init__(self):\n",
    "        super(Net, self).__init__()\n",
    "        self.fc1 = nn.Linear(25, 64)\n",
    "        self.fc2 = nn.Linear(64, 128)\n",
    "        self.fc3 = nn.Linear(128, 64)\n",
    "        self.fc4 = nn.Linear(64, 32)\n",
    "        self.fc5 = nn.Linear(32, 1)\n",
    "\n",
    "    def forward(self, x):\n",
    "        x = torch.relu(self.fc1(x))\n",
    "        x = torch.relu(self.fc2(x))\n",
    "        x = torch.relu(self.fc3(x))\n",
    "        x = torch.relu(self.fc4(x))\n",
    "        x = self.fc5(x)\n",
    "        return x\n",
    "\n",
    "# Define the R^2 loss function\n",
    "class R2Loss(nn.Module):\n",
    "    def __init__(self):\n",
    "        super(R2Loss, self).__init__()\n",
    "\n",
    "    def forward(self, y_pred, y_true):\n",
    "        ss_res = torch.sum(torch.square(y_true - y_pred))\n",
    "        ss_tot = torch.sum(torch.square(y_true - torch.mean(y_true)))\n",
    "        r2 = 1 - ss_res / ss_tot\n",
    "        return r2\n",
    "\n",
    "# Define the training function\n",
    "def train(net, trainloader, criterion, optimizer, epochs, device):\n",
    "    net.to(device)\n",
    "    losses = []\n",
    "    r2s = []\n",
    "    test_losses = []\n",
    "    test_r2s = []\n",
    "    for epoch in range(epochs):\n",
    "        running_loss = 0.0\n",
    "        running_r2 = 0.0\n",
    "        for i, data in enumerate(trainloader, 0):\n",
    "            inputs, labels = data\n",
    "            inputs, labels = inputs.to(device), labels.to(device)\n",
    "            optimizer.zero_grad()\n",
    "            outputs = net(inputs)\n",
    "            loss = criterion(outputs, labels)\n",
    "            r2 = R2Loss()(outputs, labels)\n",
    "            loss += r2\n",
    "            loss.backward()\n",
    "            optimizer.step()\n",
    "            running_loss += loss.item()\n",
    "            running_r2 += r2.item()\n",
    "        losses.append(running_loss / len(trainloader))\n",
    "        r2s.append(running_r2 / len(trainloader))\n",
    "        print('Epoch %d loss: %.3f R^2: %.3f' % (epoch + 1, running_loss / len(trainloader), running_r2 / len(trainloader)))\n",
    "        # Test the neural network on the test data\n",
    "        test_data = X_test\n",
    "        test_labels = Yt_test\n",
    "        test_data = torch.from_numpy(test_data).float()\n",
    "        test_labels = torch.from_numpy(test_labels).float()\n",
    "        net.eval()\n",
    "        with torch.no_grad():\n",
    "            test_data, test_labels = test_data.to(device), test_labels.to(device)\n",
    "            test_outputs = net(test_data)\n",
    "            test_loss = criterion(test_outputs, test_labels)\n",
    "            test_r2 = R2Loss()(test_outputs, test_labels)\n",
    "            test_losses.append(test_loss.item())\n",
    "            test_r2s.append(test_r2.item())\n",
    "    plt.plot(losses)\n",
    "    plt.xlabel('Epoch')\n",
    "    plt.ylabel('Loss')\n",
    "    plt.show()\n",
    "    plt.plot(r2s)\n",
    "    plt.xlabel('Epoch')\n",
    "    plt.ylabel('R^2')\n",
    "    plt.show()\n",
    "    plt.plot(test_losses)\n",
    "    plt.xlabel('Epoch')\n",
    "    plt.ylabel('Test Loss')\n",
    "    plt.show()\n",
    "    plt.plot(test_r2s)\n",
    "    plt.xlabel('Epoch')\n",
    "    plt.ylabel('Test R^2')\n",
    "    plt.show()\n",
    "\n",
    "# Define the data\n",
    "data = X_train \n",
    "labels = Yt_train \n",
    "\n",
    "# Convert the data to PyTorch tensors\n",
    "data = torch.from_numpy(data).float()\n",
    "labels = torch.from_numpy(labels).float()\n",
    "\n",
    "# Define the data loader\n",
    "trainset = torch.utils.data.TensorDataset(data, labels)\n",
    "trainloader = torch.utils.data.DataLoader(trainset, batch_size=100, shuffle=True)\n",
    "\n",
    "# Define the neural network\n",
    "net = Net()\n",
    "\n",
    "# Define the loss function and optimizer\n",
    "criterion = nn.MSELoss()\n",
    "optimizer = optim.Adam(net.parameters(), lr=0.001)\n",
    "\n",
    "# Define the device\n",
    "device = torch.device(\"cuda:0\" if torch.cuda.is_available() else \"cpu\")\n",
    "\n",
    "# Train the neural network on GPU\n",
    "train(net, trainloader, criterion, optimizer, epochs=100, device=device)"
   ]
  },
  {
   "cell_type": "code",
   "execution_count": null,
   "id": "7cc5b568",
   "metadata": {
    "papermill": {
     "duration": 0.018643,
     "end_time": "2023-04-10T22:59:12.751922",
     "exception": false,
     "start_time": "2023-04-10T22:59:12.733279",
     "status": "completed"
    },
    "tags": []
   },
   "outputs": [],
   "source": []
  },
  {
   "cell_type": "code",
   "execution_count": 17,
   "id": "637352f9",
   "metadata": {
    "execution": {
     "iopub.execute_input": "2023-04-10T22:59:12.790463Z",
     "iopub.status.busy": "2023-04-10T22:59:12.790122Z",
     "iopub.status.idle": "2023-04-10T22:59:12.794486Z",
     "shell.execute_reply": "2023-04-10T22:59:12.793444Z"
    },
    "papermill": {
     "duration": 0.026089,
     "end_time": "2023-04-10T22:59:12.796619",
     "exception": false,
     "start_time": "2023-04-10T22:59:12.770530",
     "status": "completed"
    },
    "tags": []
   },
   "outputs": [],
   "source": [
    "#dfxtr = pd.DataFrame(X_train)"
   ]
  },
  {
   "cell_type": "code",
   "execution_count": 18,
   "id": "9dc20d17",
   "metadata": {
    "execution": {
     "iopub.execute_input": "2023-04-10T22:59:12.834994Z",
     "iopub.status.busy": "2023-04-10T22:59:12.834653Z",
     "iopub.status.idle": "2023-04-10T22:59:12.839010Z",
     "shell.execute_reply": "2023-04-10T22:59:12.837951Z"
    },
    "papermill": {
     "duration": 0.026407,
     "end_time": "2023-04-10T22:59:12.841442",
     "exception": false,
     "start_time": "2023-04-10T22:59:12.815035",
     "status": "completed"
    },
    "tags": []
   },
   "outputs": [],
   "source": [
    "#dfxte = pd.DataFrame(X_test)"
   ]
  },
  {
   "cell_type": "code",
   "execution_count": 19,
   "id": "fd797b1e",
   "metadata": {
    "execution": {
     "iopub.execute_input": "2023-04-10T22:59:12.880043Z",
     "iopub.status.busy": "2023-04-10T22:59:12.879771Z",
     "iopub.status.idle": "2023-04-10T22:59:12.884413Z",
     "shell.execute_reply": "2023-04-10T22:59:12.883405Z"
    },
    "papermill": {
     "duration": 0.026508,
     "end_time": "2023-04-10T22:59:12.886546",
     "exception": false,
     "start_time": "2023-04-10T22:59:12.860038",
     "status": "completed"
    },
    "tags": []
   },
   "outputs": [],
   "source": [
    "#dfytr = pd.DataFrame(Y_train)"
   ]
  },
  {
   "cell_type": "code",
   "execution_count": 20,
   "id": "7d3ebda4",
   "metadata": {
    "execution": {
     "iopub.execute_input": "2023-04-10T22:59:12.925335Z",
     "iopub.status.busy": "2023-04-10T22:59:12.925009Z",
     "iopub.status.idle": "2023-04-10T22:59:12.929419Z",
     "shell.execute_reply": "2023-04-10T22:59:12.928335Z"
    },
    "papermill": {
     "duration": 0.026668,
     "end_time": "2023-04-10T22:59:12.931978",
     "exception": false,
     "start_time": "2023-04-10T22:59:12.905310",
     "status": "completed"
    },
    "tags": []
   },
   "outputs": [],
   "source": [
    "#dfyte = pd.DataFrame(Y_test)"
   ]
  },
  {
   "cell_type": "code",
   "execution_count": 21,
   "id": "0ff98be7",
   "metadata": {
    "execution": {
     "iopub.execute_input": "2023-04-10T22:59:12.976423Z",
     "iopub.status.busy": "2023-04-10T22:59:12.976057Z",
     "iopub.status.idle": "2023-04-10T22:59:12.980719Z",
     "shell.execute_reply": "2023-04-10T22:59:12.979560Z"
    },
    "papermill": {
     "duration": 0.030032,
     "end_time": "2023-04-10T22:59:12.983507",
     "exception": false,
     "start_time": "2023-04-10T22:59:12.953475",
     "status": "completed"
    },
    "tags": []
   },
   "outputs": [],
   "source": [
    "#temp = dfytr[0]"
   ]
  },
  {
   "cell_type": "code",
   "execution_count": 22,
   "id": "cdfc5798",
   "metadata": {
    "execution": {
     "iopub.execute_input": "2023-04-10T22:59:13.025269Z",
     "iopub.status.busy": "2023-04-10T22:59:13.024943Z",
     "iopub.status.idle": "2023-04-10T22:59:13.030152Z",
     "shell.execute_reply": "2023-04-10T22:59:13.028414Z"
    },
    "papermill": {
     "duration": 0.028808,
     "end_time": "2023-04-10T22:59:13.032444",
     "exception": false,
     "start_time": "2023-04-10T22:59:13.003636",
     "status": "completed"
    },
    "tags": []
   },
   "outputs": [],
   "source": [
    "#dfxtr.insert(25, \"25\", temp)"
   ]
  },
  {
   "cell_type": "code",
   "execution_count": 23,
   "id": "c6743175",
   "metadata": {
    "execution": {
     "iopub.execute_input": "2023-04-10T22:59:13.072982Z",
     "iopub.status.busy": "2023-04-10T22:59:13.072071Z",
     "iopub.status.idle": "2023-04-10T22:59:13.076817Z",
     "shell.execute_reply": "2023-04-10T22:59:13.075923Z"
    },
    "papermill": {
     "duration": 0.026673,
     "end_time": "2023-04-10T22:59:13.078931",
     "exception": false,
     "start_time": "2023-04-10T22:59:13.052258",
     "status": "completed"
    },
    "tags": []
   },
   "outputs": [],
   "source": [
    "#dfxtr.to_csv('cnn_exo_temp.csv')"
   ]
  },
  {
   "cell_type": "code",
   "execution_count": null,
   "id": "65effd24",
   "metadata": {
    "execution": {
     "iopub.execute_input": "2023-04-10T20:57:00.353023Z",
     "iopub.status.busy": "2023-04-10T20:57:00.352510Z",
     "iopub.status.idle": "2023-04-10T21:00:15.330270Z",
     "shell.execute_reply": "2023-04-10T21:00:15.329561Z",
     "shell.execute_reply.started": "2023-04-10T20:57:00.352986Z"
    },
    "papermill": {
     "duration": 0.019461,
     "end_time": "2023-04-10T22:59:13.117892",
     "exception": false,
     "start_time": "2023-04-10T22:59:13.098431",
     "status": "completed"
    },
    "tags": []
   },
   "outputs": [],
   "source": []
  },
  {
   "cell_type": "code",
   "execution_count": null,
   "id": "09182bb0",
   "metadata": {
    "execution": {
     "iopub.execute_input": "2023-04-10T20:16:41.704866Z",
     "iopub.status.busy": "2023-04-10T20:16:41.703791Z",
     "iopub.status.idle": "2023-04-10T20:16:42.192091Z",
     "shell.execute_reply": "2023-04-10T20:16:42.191027Z",
     "shell.execute_reply.started": "2023-04-10T20:16:41.704824Z"
    },
    "papermill": {
     "duration": 0.018377,
     "end_time": "2023-04-10T22:59:13.155051",
     "exception": false,
     "start_time": "2023-04-10T22:59:13.136674",
     "status": "completed"
    },
    "tags": []
   },
   "outputs": [],
   "source": []
  },
  {
   "cell_type": "code",
   "execution_count": null,
   "id": "808572c1",
   "metadata": {
    "execution": {
     "iopub.execute_input": "2023-04-10T21:01:21.316592Z",
     "iopub.status.busy": "2023-04-10T21:01:21.315631Z",
     "iopub.status.idle": "2023-04-10T21:01:21.323592Z",
     "shell.execute_reply": "2023-04-10T21:01:21.322418Z",
     "shell.execute_reply.started": "2023-04-10T21:01:21.316547Z"
    },
    "papermill": {
     "duration": 0.01881,
     "end_time": "2023-04-10T22:59:13.192609",
     "exception": false,
     "start_time": "2023-04-10T22:59:13.173799",
     "status": "completed"
    },
    "tags": []
   },
   "outputs": [],
   "source": []
  },
  {
   "cell_type": "code",
   "execution_count": null,
   "id": "d037b5ef",
   "metadata": {
    "papermill": {
     "duration": 0.020577,
     "end_time": "2023-04-10T22:59:13.233386",
     "exception": false,
     "start_time": "2023-04-10T22:59:13.212809",
     "status": "completed"
    },
    "tags": []
   },
   "outputs": [],
   "source": []
  },
  {
   "cell_type": "code",
   "execution_count": null,
   "id": "0ff96886",
   "metadata": {
    "papermill": {
     "duration": 0.02056,
     "end_time": "2023-04-10T22:59:13.273995",
     "exception": false,
     "start_time": "2023-04-10T22:59:13.253435",
     "status": "completed"
    },
    "tags": []
   },
   "outputs": [],
   "source": []
  },
  {
   "cell_type": "code",
   "execution_count": null,
   "id": "5e5f0e70",
   "metadata": {
    "papermill": {
     "duration": 0.019085,
     "end_time": "2023-04-10T22:59:13.313273",
     "exception": false,
     "start_time": "2023-04-10T22:59:13.294188",
     "status": "completed"
    },
    "tags": []
   },
   "outputs": [],
   "source": []
  }
 ],
 "metadata": {
  "kernelspec": {
   "display_name": "Python 3",
   "language": "python",
   "name": "python3"
  },
  "language_info": {
   "codemirror_mode": {
    "name": "ipython",
    "version": 3
   },
   "file_extension": ".py",
   "mimetype": "text/x-python",
   "name": "python",
   "nbconvert_exporter": "python",
   "pygments_lexer": "ipython3",
   "version": "3.7.12"
  },
  "papermill": {
   "default_parameters": {},
   "duration": 3990.801595,
   "end_time": "2023-04-10T22:59:16.880828",
   "environment_variables": {},
   "exception": null,
   "input_path": "__notebook__.ipynb",
   "output_path": "__notebook__.ipynb",
   "parameters": {},
   "start_time": "2023-04-10T21:52:46.079233",
   "version": "2.4.0"
  }
 },
 "nbformat": 4,
 "nbformat_minor": 5
}
