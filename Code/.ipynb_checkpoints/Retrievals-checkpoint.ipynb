{
 "cells": [
  {
   "cell_type": "code",
   "execution_count": 1,
   "metadata": {},
   "outputs": [],
   "source": [
    "import numpy as np\n",
    "import tensorflow.keras as tfk\n",
    "tfk.backend.set_floatx(\"float64\")\n",
    "import matplotlib.pyplot as plt\n",
    "from exobaconn import bCNN\n",
    "from tqdm import trange\n",
    "import pickle"
   ]
  },
  {
   "cell_type": "code",
   "execution_count": 10,
   "metadata": {},
   "outputs": [],
   "source": [
    "level = 1\n",
    "D = {1:10, 2:7}[level]\n",
    "Y_scaler = pickle.load(open('yscaler_level'+str(level)'.p', 'rb'))\n",
    "\n",
    "arch_conv = [(16, 17), (32, 9), (64, 7)]\n",
    "arch_fc = [128]\n",
    "\n",
    "cnn = bCNN(25, D, arch_conv, arch_fc,  \n",
    "           activation=tfk.layers.ReLU(), act_mu='sigmoid',\n",
    "           arch='cnn', loss='chol', maxpool=True, bn=False, ncols=2, dropout=0.)\n",
    "\n",
    "cnn.load_weights('Models/'+instrument+'_l'+str(level)+'_nc_'+str(N_aug[i][0])+'_1_'+str(arch_conv)+'_'+str(arch_fc)+'_')"
   ]
  },
  {
   "cell_type": "code",
   "execution_count": 11,
   "metadata": {},
   "outputs": [
    {
     "name": "stderr",
     "output_type": "stream",
     "text": [
      "100%|██████████| 1000/1000 [08:21<00:00,  1.99it/s]\n"
     ]
    }
   ],
   "source": [
    "N = 1000\n",
    "post = {}\n",
    "\n",
    "for i in trange(N):\n",
    "    file = '../../RDMP/ARCiS_bulk_retrieval/NIRBOTS_level2/obs_w_noise/'+str(i)\n",
    "    obs = 0.752**2*100*np.loadtxt(file)[:,1].reshape([1,-1])\n",
    "    noise = 1e6*np.loadtxt(file)[:,2]\n",
    "    T = 500\n",
    "\n",
    "    post_n, spectra = cnn.retrieval(obs, T, [noise, 10], ['-mean', 2])\n",
    "    post[i] = Y_scaler.inverse_transform(post_n)"
   ]
  },
  {
   "cell_type": "code",
   "execution_count": 12,
   "metadata": {},
   "outputs": [],
   "source": [
    "pickle.dump(post, open('post_mdn3_ubt_nirspec_l2.p', 'wb'))"
   ]
  },
  {
   "cell_type": "code",
   "execution_count": null,
   "metadata": {},
   "outputs": [],
   "source": []
  }
 ],
 "metadata": {
  "kernelspec": {
   "display_name": "ardevol",
   "language": "python",
   "name": "ardevol"
  },
  "language_info": {
   "codemirror_mode": {
    "name": "ipython",
    "version": 3
   },
   "file_extension": ".py",
   "mimetype": "text/x-python",
   "name": "python",
   "nbconvert_exporter": "python",
   "pygments_lexer": "ipython3",
   "version": "3.8.3"
  }
 },
 "nbformat": 4,
 "nbformat_minor": 2
}
