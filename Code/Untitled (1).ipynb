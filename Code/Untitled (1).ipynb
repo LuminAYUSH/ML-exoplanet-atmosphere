{
 "cells": [
  {
   "cell_type": "code",
   "execution_count": 5,
   "id": "d1105a89",
   "metadata": {
    "scrolled": true
   },
   "outputs": [
    {
     "name": "stdout",
     "output_type": "stream",
     "text": [
      "Cloning into 'HELA'...\n",
      "remote: Enumerating objects: 209, done.\u001b[K\n",
      "remote: Counting objects: 100% (9/9), done.\u001b[K\n",
      "remote: Compressing objects: 100% (9/9), done.\u001b[K\n",
      "remote: Total 209 (delta 1), reused 1 (delta 0), pack-reused 200\u001b[K\n",
      "Receiving objects: 100% (209/209), 12.76 MiB | 684.00 KiB/s, done.\n",
      "Resolving deltas: 100% (115/115), done.\n"
     ]
    }
   ],
   "source": [
    "! git clone https://github.com/exoclime/HELA.git"
   ]
  },
  {
   "cell_type": "code",
   "execution_count": 9,
   "id": "8d997238",
   "metadata": {},
   "outputs": [
    {
     "name": "stdout",
     "output_type": "stream",
     "text": [
      "/home/donutearth/Jupyter /Data Science \r\n"
     ]
    }
   ],
   "source": [
    "! pwd "
   ]
  },
  {
   "cell_type": "code",
   "execution_count": 10,
   "id": "ff6530b6",
   "metadata": {},
   "outputs": [
    {
     "name": "stdout",
     "output_type": "stream",
     "text": [
      " HELA  'Supervised ML for exoplanets .ipynb'   training.npy   Untitled.ipynb\r\n"
     ]
    }
   ],
   "source": [
    "! ls"
   ]
  },
  {
   "cell_type": "code",
   "execution_count": 11,
   "id": "5ca845f3",
   "metadata": {},
   "outputs": [],
   "source": [
    "! cd HELA "
   ]
  },
  {
   "cell_type": "code",
   "execution_count": 13,
   "id": "7c899284",
   "metadata": {},
   "outputs": [],
   "source": [
    "! cd ~ "
   ]
  },
  {
   "cell_type": "code",
   "execution_count": 14,
   "id": "6ff0acd7",
   "metadata": {},
   "outputs": [
    {
     "name": "stdout",
     "output_type": "stream",
     "text": [
      " HELA  'Supervised ML for exoplanets .ipynb'   training.npy   Untitled.ipynb\r\n"
     ]
    }
   ],
   "source": []
  },
  {
   "cell_type": "code",
   "execution_count": null,
   "id": "0292ac6c",
   "metadata": {},
   "outputs": [],
   "source": []
  }
 ],
 "metadata": {
  "kernelspec": {
   "display_name": "Python 3 (ipykernel)",
   "language": "python",
   "name": "python3"
  },
  "language_info": {
   "codemirror_mode": {
    "name": "ipython",
    "version": 3
   },
   "file_extension": ".py",
   "mimetype": "text/x-python",
   "name": "python",
   "nbconvert_exporter": "python",
   "pygments_lexer": "ipython3",
   "version": "3.9.13"
  }
 },
 "nbformat": 4,
 "nbformat_minor": 5
}
